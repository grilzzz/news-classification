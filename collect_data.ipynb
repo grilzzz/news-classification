{
 "cells": [
  {
   "cell_type": "code",
   "execution_count": 1,
   "metadata": {
    "colab": {
     "base_uri": "https://localhost:8080/"
    },
    "collapsed": true,
    "id": "2HBDcmy6AitZ",
    "jupyter": {
     "outputs_hidden": true
    },
    "outputId": "4782118d-9d55-4d4a-e32f-c561cf5f5574",
    "tags": []
   },
   "outputs": [
    {
     "name": "stdout",
     "output_type": "stream",
     "text": [
      "Requirement already satisfied: selenium in d:\\anaconda\\lib\\site-packages (4.16.0)\n",
      "Requirement already satisfied: urllib3[socks]<3,>=1.26 in d:\\anaconda\\lib\\site-packages (from selenium) (1.26.16)\n",
      "Requirement already satisfied: trio~=0.17 in d:\\anaconda\\lib\\site-packages (from selenium) (0.24.0)\n",
      "Requirement already satisfied: trio-websocket~=0.9 in d:\\anaconda\\lib\\site-packages (from selenium) (0.11.1)\n",
      "Requirement already satisfied: certifi>=2021.10.8 in d:\\anaconda\\lib\\site-packages (from selenium) (2023.7.22)\n",
      "Requirement already satisfied: attrs>=20.1.0 in d:\\anaconda\\lib\\site-packages (from trio~=0.17->selenium) (22.1.0)\n",
      "Requirement already satisfied: sortedcontainers in d:\\anaconda\\lib\\site-packages (from trio~=0.17->selenium) (2.4.0)\n",
      "Requirement already satisfied: idna in d:\\anaconda\\lib\\site-packages (from trio~=0.17->selenium) (3.4)\n",
      "Requirement already satisfied: outcome in d:\\anaconda\\lib\\site-packages (from trio~=0.17->selenium) (1.3.0.post0)\n",
      "Requirement already satisfied: sniffio>=1.3.0 in d:\\anaconda\\lib\\site-packages (from trio~=0.17->selenium) (1.3.0)\n",
      "Requirement already satisfied: cffi>=1.14 in d:\\anaconda\\lib\\site-packages (from trio~=0.17->selenium) (1.15.1)\n",
      "Requirement already satisfied: wsproto>=0.14 in d:\\anaconda\\lib\\site-packages (from trio-websocket~=0.9->selenium) (1.2.0)\n",
      "Requirement already satisfied: PySocks!=1.5.7,<2.0,>=1.5.6 in d:\\anaconda\\lib\\site-packages (from urllib3[socks]<3,>=1.26->selenium) (1.7.1)\n",
      "Requirement already satisfied: pycparser in d:\\anaconda\\lib\\site-packages (from cffi>=1.14->trio~=0.17->selenium) (2.21)\n",
      "Requirement already satisfied: h11<1,>=0.9.0 in d:\\anaconda\\lib\\site-packages (from wsproto>=0.14->trio-websocket~=0.9->selenium) (0.14.0)\n",
      "Requirement already satisfied: pymystem3 in d:\\anaconda\\lib\\site-packages (0.2.0)\n",
      "Requirement already satisfied: requests in d:\\anaconda\\lib\\site-packages (from pymystem3) (2.31.0)\n",
      "Requirement already satisfied: charset-normalizer<4,>=2 in d:\\anaconda\\lib\\site-packages (from requests->pymystem3) (2.0.4)\n",
      "Requirement already satisfied: idna<4,>=2.5 in d:\\anaconda\\lib\\site-packages (from requests->pymystem3) (3.4)\n",
      "Requirement already satisfied: urllib3<3,>=1.21.1 in d:\\anaconda\\lib\\site-packages (from requests->pymystem3) (1.26.16)\n",
      "Requirement already satisfied: certifi>=2017.4.17 in d:\\anaconda\\lib\\site-packages (from requests->pymystem3) (2023.7.22)\n"
     ]
    }
   ],
   "source": [
    "!pip install selenium\n",
    "!pip install pymystem3"
   ]
  },
  {
   "cell_type": "code",
   "execution_count": 2,
   "metadata": {
    "_cell_guid": "b1076dfc-b9ad-4769-8c92-a6c4dae69d19",
    "_uuid": "8f2839f25d086af736a60e9eeb907d3b93b6e0e5",
    "id": "tLadh_VKEgEh",
    "tags": []
   },
   "outputs": [],
   "source": [
    "import numpy as np\n",
    "import pandas as pd\n",
    "import requests\n",
    "from time import sleep, time\n",
    "from random import randint\n",
    "from bs4 import BeautifulSoup\n",
    "from selenium import webdriver\n",
    "from selenium.webdriver import FirefoxOptions\n",
    "from selenium.webdriver.common.by import By\n",
    "from selenium.webdriver.support.ui import WebDriverWait\n",
    "from selenium.webdriver.support import expected_conditions as EC\n",
    "from sklearn.metrics import accuracy_score\n",
    "from sklearn.feature_extraction.text import TfidfVectorizer\n",
    "from sklearn.linear_model import LogisticRegression\n",
    "from sklearn.preprocessing import MaxAbsScaler\n",
    "from sklearn.model_selection import train_test_split\n",
    "from sklearn.feature_extraction.text import CountVectorizer\n",
    "from pymystem3 import Mystem"
   ]
  },
  {
   "cell_type": "markdown",
   "metadata": {
    "id": "e8qJqN0ASduZ",
    "jp-MarkdownHeadingCollapsed": true,
    "tags": []
   },
   "source": [
    "# prepare\n"
   ]
  },
  {
   "cell_type": "markdown",
   "metadata": {
    "id": "n5-9soXBAitd"
   },
   "source": [
    "* 'Общество/Россия' : 0 - рбк(общество)/лента(россия)\n",
    "* 'Экономика' : 1 - рбк/лента\n",
    "* 'Силовые структуры' : 2  - лента\n",
    "* 'Бывший СССР' : 3 - лента\n",
    "* 'Спорт' : 4 - лента, фонтанка\n",
    "* 'Забота о себе' : 5 - лента\n",
    "* 'Строительство' : 6 - фонтанка\n",
    "* 'Туризм/Путешествия' : 7 - лента/фонтанка\n",
    "* 'Наука и техника' : 8 - лента"
   ]
  },
  {
   "cell_type": "code",
   "execution_count": 3,
   "metadata": {
    "id": "aAZmcRZaEgEm",
    "tags": []
   },
   "outputs": [],
   "source": [
    "def working_time(start_time):\n",
    "    t = int((time() - start_time) // 1)\n",
    "    return '{:02d}:{:02d}:{:02d}'.format(t // 3600, t // 60 % 60, t % 60)\n",
    "\n",
    "rbc_link = 'https://www.rbc.ru/'\n",
    "lenta_link = 'https://lenta.ru/rubrics/'\n",
    "\n",
    "rbc_topics = ['society', 'economics']\n",
    "lenta_topics = ['russia', 'forces', 'ussr', 'sport', 'wellness', 'travel', 'science']\n",
    "fontanka_topics = ['stroy', 'sport', 'turizm']\n",
    "\n",
    "topic_index = {\n",
    "    'society' : 0, 'russia': 0, 'Россия': 0,\n",
    "    'economics' : 1, 'Экономика': 1,\n",
    "    'forces': 2, 'Силовые структуры': 2,\n",
    "    'ussr' : 3, 'Бывший СССР': 3,\n",
    "    'sport' : 4, 'Спорт': 4,\n",
    "    'wellness' : 5, 'Забота о себе': 5,\n",
    "    'stroy': 6,\n",
    "    'travel': 7, 'turizm': 7, 'Путешествия': 7,\n",
    "    'science': 8, 'Наука и техника': 8\n",
    "}\n",
    "\n",
    "error_links = []"
   ]
  },
  {
   "cell_type": "code",
   "execution_count": 4,
   "metadata": {
    "colab": {
     "base_uri": "https://localhost:8080/",
     "height": 356
    },
    "id": "2QpB1hH3Aitf",
    "outputId": "cfe21561-e53d-4b6a-8468-a7062ab301b1",
    "tags": []
   },
   "outputs": [
    {
     "data": {
      "text/html": [
       "<div>\n",
       "<style scoped>\n",
       "    .dataframe tbody tr th:only-of-type {\n",
       "        vertical-align: middle;\n",
       "    }\n",
       "\n",
       "    .dataframe tbody tr th {\n",
       "        vertical-align: top;\n",
       "    }\n",
       "\n",
       "    .dataframe thead th {\n",
       "        text-align: right;\n",
       "    }\n",
       "</style>\n",
       "<table border=\"1\" class=\"dataframe\">\n",
       "  <thead>\n",
       "    <tr style=\"text-align: right;\">\n",
       "      <th></th>\n",
       "      <th>content</th>\n",
       "    </tr>\n",
       "  </thead>\n",
       "  <tbody>\n",
       "    <tr>\n",
       "      <th>0</th>\n",
       "      <td>Фото: «Фонтанка.ру»ПоделитьсяЭкс-министру обор...</td>\n",
       "    </tr>\n",
       "    <tr>\n",
       "      <th>1</th>\n",
       "      <td>В начале февраля 2023 года в Пушкинском районе...</td>\n",
       "    </tr>\n",
       "    <tr>\n",
       "      <th>2</th>\n",
       "      <td>Фото: Andy Bao / Getty Images Анастасия Борисо...</td>\n",
       "    </tr>\n",
       "    <tr>\n",
       "      <th>3</th>\n",
       "      <td>Если вы хотели, но так и не съездили на море л...</td>\n",
       "    </tr>\n",
       "    <tr>\n",
       "      <th>4</th>\n",
       "      <td>Сергей Пиняев Фото: Алексей Филиппов / РИА Нов...</td>\n",
       "    </tr>\n",
       "    <tr>\n",
       "      <th>...</th>\n",
       "      <td>...</td>\n",
       "    </tr>\n",
       "    <tr>\n",
       "      <th>26270</th>\n",
       "      <td>Фото: РИА Новости Алевтина Запольская Главное ...</td>\n",
       "    </tr>\n",
       "    <tr>\n",
       "      <th>26271</th>\n",
       "      <td>Вадим Гутцайт Фото: Sergei CHUZAVKOV / Europea...</td>\n",
       "    </tr>\n",
       "    <tr>\n",
       "      <th>26272</th>\n",
       "      <td>Фото: Олег Харсеев / Коммерсантъ Александр Кур...</td>\n",
       "    </tr>\n",
       "    <tr>\n",
       "      <th>26273</th>\n",
       "      <td>Владимир Зеленский Фото: Yves Herman / Reuters...</td>\n",
       "    </tr>\n",
       "    <tr>\n",
       "      <th>26274</th>\n",
       "      <td>Фото: President of the Republic of Azerbaijan ...</td>\n",
       "    </tr>\n",
       "  </tbody>\n",
       "</table>\n",
       "<p>26275 rows × 1 columns</p>\n",
       "</div>"
      ],
      "text/plain": [
       "                                                 content\n",
       "0      Фото: «Фонтанка.ру»ПоделитьсяЭкс-министру обор...\n",
       "1      В начале февраля 2023 года в Пушкинском районе...\n",
       "2      Фото: Andy Bao / Getty Images Анастасия Борисо...\n",
       "3      Если вы хотели, но так и не съездили на море л...\n",
       "4      Сергей Пиняев Фото: Алексей Филиппов / РИА Нов...\n",
       "...                                                  ...\n",
       "26270  Фото: РИА Новости Алевтина Запольская Главное ...\n",
       "26271  Вадим Гутцайт Фото: Sergei CHUZAVKOV / Europea...\n",
       "26272  Фото: Олег Харсеев / Коммерсантъ Александр Кур...\n",
       "26273  Владимир Зеленский Фото: Yves Herman / Reuters...\n",
       "26274  Фото: President of the Republic of Azerbaijan ...\n",
       "\n",
       "[26275 rows x 1 columns]"
      ]
     },
     "execution_count": 4,
     "metadata": {},
     "output_type": "execute_result"
    }
   ],
   "source": [
    "kaggle_df = pd.read_csv('test_news.csv')\n",
    "kaggle_df"
   ]
  },
  {
   "cell_type": "markdown",
   "metadata": {
    "id": "N86kLRbVA6NZ",
    "tags": []
   },
   "source": [
    "# parsing"
   ]
  },
  {
   "cell_type": "markdown",
   "metadata": {
    "id": "_B9exkupEgEn",
    "jp-MarkdownHeadingCollapsed": true,
    "tags": []
   },
   "source": [
    "## rbc parse"
   ]
  },
  {
   "cell_type": "code",
   "execution_count": null,
   "metadata": {
    "execution": {
     "iopub.execute_input": "2023-12-27T08:53:11.193535Z",
     "iopub.status.busy": "2023-12-27T08:53:11.192539Z",
     "iopub.status.idle": "2023-12-27T08:53:11.203593Z",
     "shell.execute_reply": "2023-12-27T08:53:11.202322Z",
     "shell.execute_reply.started": "2023-12-27T08:53:11.193477Z"
    },
    "id": "y5ilFH7fEgEn"
   },
   "outputs": [],
   "source": [
    "def create_webdriver():\n",
    "    opts = FirefoxOptions()\n",
    "    opts.add_argument('--headless')\n",
    "    return webdriver.Firefox(options=opts)"
   ]
  },
  {
   "cell_type": "code",
   "execution_count": null,
   "metadata": {
    "execution": {
     "iopub.execute_input": "2023-12-27T08:53:11.207072Z",
     "iopub.status.busy": "2023-12-27T08:53:11.206638Z",
     "iopub.status.idle": "2023-12-27T08:53:11.214261Z",
     "shell.execute_reply": "2023-12-27T08:53:11.213364Z",
     "shell.execute_reply.started": "2023-12-27T08:53:11.207009Z"
    },
    "id": "biDhLdc0EgEo"
   },
   "outputs": [],
   "source": [
    "def scroll_page(link):\n",
    "    driver = create_webdriver()\n",
    "    driver.get(link)\n",
    "    scroll_pause = 0.2\n",
    "    last_height = driver.execute_script(\"return document.body.scrollHeight\")\n",
    "    while last_height < 33474:\n",
    "        driver.execute_script(\"window.scrollTo(0, document.body.scrollHeight);\")\n",
    "        sleep(scroll_pause)\n",
    "        new_height = driver.execute_script(\"return document.body.scrollHeight\")\n",
    "        print(new_height)\n",
    "        last_height = new_height\n",
    "    return driver.page_source"
   ]
  },
  {
   "cell_type": "code",
   "execution_count": null,
   "metadata": {
    "execution": {
     "iopub.execute_input": "2023-12-27T08:53:11.216716Z",
     "iopub.status.busy": "2023-12-27T08:53:11.215945Z",
     "iopub.status.idle": "2023-12-27T08:53:11.229661Z",
     "shell.execute_reply": "2023-12-27T08:53:11.228236Z",
     "shell.execute_reply.started": "2023-12-27T08:53:11.216681Z"
    },
    "id": "Sj0hwhlrEgEo"
   },
   "outputs": [],
   "source": [
    "def get_text_from_article(link):\n",
    "    request = requests.get(link)\n",
    "    tree = BeautifulSoup(request.content)\n",
    "    div_with_text = tree.body.find_all('div', attrs = {'class': 'l-window'})[1].find('div').find('div').find('div').find('div', attrs = {'class': 'js-rbcslider'}).find('div').find('div', attrs={'class': \"article g-relative js-rbcslider-article\"}).find('div').find('div').find('div', attrs={'class': 'article__text'})\n",
    "    for i in div_with_text.select('div'):\n",
    "        i.decompose()\n",
    "    raw_text = div_with_text.find_all('p')\n",
    "    return '\\n'.join([p.text for p in raw_text])"
   ]
  },
  {
   "cell_type": "code",
   "execution_count": null,
   "metadata": {
    "execution": {
     "iopub.execute_input": "2023-12-27T08:53:11.231581Z",
     "iopub.status.busy": "2023-12-27T08:53:11.231168Z",
     "iopub.status.idle": "2023-12-27T08:53:11.240006Z",
     "shell.execute_reply": "2023-12-27T08:53:11.238704Z",
     "shell.execute_reply.started": "2023-12-27T08:53:11.231534Z"
    },
    "id": "V0YsYsieEgEp"
   },
   "outputs": [],
   "source": [
    "def rbc_get_topics_links(news):\n",
    "    links = []\n",
    "    for post in news:\n",
    "        links.append(post.find('div', attrs = {'class': 'item__wrap'}).a.get('href'))\n",
    "    return links"
   ]
  },
  {
   "cell_type": "code",
   "execution_count": null,
   "metadata": {
    "execution": {
     "iopub.execute_input": "2023-12-27T08:53:11.673803Z",
     "iopub.status.busy": "2023-12-27T08:53:11.673340Z",
     "iopub.status.idle": "2023-12-27T09:04:32.347972Z",
     "shell.execute_reply": "2023-12-27T09:04:32.346456Z",
     "shell.execute_reply.started": "2023-12-27T08:53:11.673763Z"
    },
    "id": "428tF1l6EgEp",
    "tags": []
   },
   "outputs": [],
   "source": [
    "start_time = time()\n",
    "\n",
    "for topic in rbc_topics:\n",
    "    response = scroll_page(rbc_link + topic)\n",
    "    tree = BeautifulSoup(response)\n",
    "    news = tree.body.find_all('div', attrs = {'class': 'l-window'})[1].find('div', attrs = {'class': 'g-relative g-clear'}).find('div', attrs = {'class': 'l-col-container'}).find('div', attrs = {'class': 'l-table'}).find('div', attrs = {'class': 'g-relative'}).find('div', attrs = {'class': 'l-table'}).find('main').find('div', attrs = {'class': 'g-overflow'}).find('div', attrs = {'class': 'l-row'}).find_all('div', attrs = {'class': 'item'})\n",
    "    print(len(news))\n",
    "    print('end time is', time() - start_time)\n",
    "    for i, link in enumerate(rbc_get_topics_links(news)):\n",
    "        print(f'{i} link of {topic}')\n",
    "        text = get_text_from_article(link)\n",
    "        X_train = X_train._append({'content': text}, ignore_index=True)\n",
    "        y_train = y_train._append({'topic': topic_index[topic]}, ignore_index=True)"
   ]
  },
  {
   "cell_type": "code",
   "execution_count": null,
   "metadata": {
    "execution": {
     "iopub.execute_input": "2023-12-27T09:12:59.201349Z",
     "iopub.status.busy": "2023-12-27T09:12:59.200884Z",
     "iopub.status.idle": "2023-12-27T09:12:59.266073Z",
     "shell.execute_reply": "2023-12-27T09:12:59.265033Z",
     "shell.execute_reply.started": "2023-12-27T09:12:59.201293Z"
    },
    "id": "FlzkQtN1EgEp"
   },
   "outputs": [],
   "source": [
    "X_train.to_csv('rbc_X.csv', index=False)\n",
    "y_train.to_csv('rbc_y.csv', index=False)"
   ]
  },
  {
   "cell_type": "markdown",
   "metadata": {
    "id": "QZlQr7NvEgEq",
    "tags": []
   },
   "source": [
    "## lenta parse"
   ]
  },
  {
   "cell_type": "code",
   "execution_count": null,
   "metadata": {
    "id": "JGlVgnm5Aitk"
   },
   "outputs": [],
   "source": [
    "X_train = pd.DataFrame()\n",
    "y_train = pd.DataFrame()"
   ]
  },
  {
   "cell_type": "code",
   "execution_count": null,
   "metadata": {
    "execution": {
     "iopub.execute_input": "2023-12-27T20:50:01.401184Z",
     "iopub.status.busy": "2023-12-27T20:50:01.400680Z",
     "iopub.status.idle": "2023-12-27T20:50:01.407638Z",
     "shell.execute_reply": "2023-12-27T20:50:01.406784Z",
     "shell.execute_reply.started": "2023-12-27T20:50:01.401146Z"
    },
    "id": "6JMhh8IHEgEq"
   },
   "outputs": [],
   "source": [
    "def lenta_get_topics_links(news):\n",
    "    links = []\n",
    "    for post in news:\n",
    "        links.append(post.find('div', attrs = {'class': 'item__wrap'}).a.get('href'))\n",
    "    return links"
   ]
  },
  {
   "cell_type": "code",
   "execution_count": null,
   "metadata": {
    "execution": {
     "iopub.execute_input": "2023-12-27T20:50:01.881007Z",
     "iopub.status.busy": "2023-12-27T20:50:01.879562Z",
     "iopub.status.idle": "2023-12-27T20:50:01.890381Z",
     "shell.execute_reply": "2023-12-27T20:50:01.887425Z",
     "shell.execute_reply.started": "2023-12-27T20:50:01.880948Z"
    },
    "id": "J9WgzW_pEgEq"
   },
   "outputs": [],
   "source": [
    "def get_topic_links(tree):\n",
    "    raw_topics = tree.body \\\n",
    "    .find('div', attrs={'class': 'layout js-layout'}) \\\n",
    "    .find('div', attrs={'class': 'layout__container'}) \\\n",
    "    .main \\\n",
    "    .find('div', attrs={'class': 'rubric-page'}) \\\n",
    "    .find('div', attrs={'class': 'rubric-header'}) \\\n",
    "    .find('div', attrs={'rubric-header__container'}) \\\n",
    "    .find_all('a')[1:]\n",
    "    return ['https://lenta.ru' + raw_topic.get('href') for raw_topic in raw_topics]\n"
   ]
  },
  {
   "cell_type": "code",
   "execution_count": null,
   "metadata": {
    "execution": {
     "iopub.execute_input": "2023-12-27T20:50:02.424278Z",
     "iopub.status.busy": "2023-12-27T20:50:02.423756Z",
     "iopub.status.idle": "2023-12-27T20:50:02.433966Z",
     "shell.execute_reply": "2023-12-27T20:50:02.431354Z",
     "shell.execute_reply.started": "2023-12-27T20:50:02.424237Z"
    },
    "id": "2_7YsOxkEgEq"
   },
   "outputs": [],
   "source": [
    "def get_article_link(tree):\n",
    "    raw_topics = tree.body \\\n",
    "    .find('div', attrs={'class': 'layout js-layout'}) \\\n",
    "    .find('div', attrs={'class': 'layout__container'}) \\\n",
    "    .main \\\n",
    "    .find('div', attrs={'class': 'rubric-page'}) \\\n",
    "    .find('section', attrs={'class': 'rubric-page__section'}) \\\n",
    "    .ul \\\n",
    "    .find_all('li')\n",
    "    links = ['https://lenta.ru' + raw_topic.a.get('href') for raw_topic in raw_topics]\n",
    "    return links"
   ]
  },
  {
   "cell_type": "code",
   "execution_count": null,
   "metadata": {
    "execution": {
     "iopub.execute_input": "2023-12-27T20:50:02.851086Z",
     "iopub.status.busy": "2023-12-27T20:50:02.850505Z",
     "iopub.status.idle": "2023-12-27T20:50:02.857188Z",
     "shell.execute_reply": "2023-12-27T20:50:02.856019Z",
     "shell.execute_reply.started": "2023-12-27T20:50:02.851031Z"
    },
    "id": "1StOaXnEEgEr"
   },
   "outputs": [],
   "source": [
    "def get_text(tree):\n",
    "    try:\n",
    "        raw_text = tree.body \\\n",
    "        .find('div', attrs={'class': 'layout'}) \\\n",
    "        .find('div', attrs={'class': 'layout__container'}) \\\n",
    "        .main \\\n",
    "        .find('div', attrs={'class': 'topic-page__wrap'}) \\\n",
    "        .find('div', attrs={'class': 'topic-page'}) \\\n",
    "        .div \\\n",
    "        .find('div', attrs={'class': 'topic-page__content'}) \\\n",
    "        .div \\\n",
    "        .find('div', attrs={'class': 'topic-body__content'}) \\\n",
    "        .find_all('p')\n",
    "        text = '\\n'.join([i.text for i in raw_text])\n",
    "    except:\n",
    "        return False\n",
    "    return text\n"
   ]
  },
  {
   "cell_type": "code",
   "execution_count": null,
   "metadata": {
    "execution": {
     "iopub.execute_input": "2023-12-27T20:50:03.767747Z",
     "iopub.status.busy": "2023-12-27T20:50:03.767272Z",
     "iopub.status.idle": "2023-12-27T20:50:03.775118Z",
     "shell.execute_reply": "2023-12-27T20:50:03.773379Z",
     "shell.execute_reply.started": "2023-12-27T20:50:03.767709Z"
    },
    "id": "7mjyPKgZEgEr"
   },
   "outputs": [],
   "source": [
    "def try_request(link):\n",
    "    try:\n",
    "        return requests.get(link)\n",
    "    except:\n",
    "        return False"
   ]
  },
  {
   "cell_type": "code",
   "execution_count": null,
   "metadata": {
    "execution": {
     "iopub.execute_input": "2023-12-27T20:50:05.169788Z",
     "iopub.status.busy": "2023-12-27T20:50:05.167779Z",
     "iopub.status.idle": "2023-12-27T20:50:05.179963Z",
     "shell.execute_reply": "2023-12-27T20:50:05.177609Z",
     "shell.execute_reply.started": "2023-12-27T20:50:05.169683Z"
    },
    "id": "khus6XoFEgEr"
   },
   "outputs": [],
   "source": [
    "def check_response(response, mega_topic, X_train, y_train):\n",
    "    if not response:\n",
    "        print('skipped', mega_topic)\n",
    "        return False\n",
    "    if response.status_code // 100 != 2:\n",
    "        print(f'error in {mega_topic}')\n",
    "        return False\n",
    "    return True"
   ]
  },
  {
   "cell_type": "code",
   "execution_count": null,
   "metadata": {
    "execution": {
     "iopub.execute_input": "2023-12-27T20:55:20.288500Z",
     "iopub.status.busy": "2023-12-27T20:55:20.287649Z",
     "iopub.status.idle": "2023-12-27T20:57:18.631281Z",
     "shell.execute_reply": "2023-12-27T20:57:18.629988Z",
     "shell.execute_reply.started": "2023-12-27T20:55:20.288463Z"
    },
    "id": "KoG80S3YEgEr"
   },
   "outputs": [],
   "source": [
    "last_add = 0\n",
    "start_time = time()\n",
    "c = 0\n",
    "\n",
    "\n",
    "\n",
    "def parse_lenta(mega_topic, topic_index=topic_index, lenta_link=lenta_link, X_train=X_train, y_train=y_train, c=c, start_time=start_time, last_add=last_add):\n",
    "    response = try_request(lenta_link + mega_topic)\n",
    "    if not check_response(response, mega_topic, X_train, y_train):\n",
    "        return [X_train, y_train]\n",
    "    tree = BeautifulSoup(response.content)\n",
    "    topic_links = get_topic_links(tree)\n",
    "    for topic_link in topic_links:\n",
    "        response = try_request(topic_link)\n",
    "        if not check_response(response, mega_topic, X_train, y_train):\n",
    "            continue\n",
    "        tree = BeautifulSoup(response.content)\n",
    "        if len(tree.find_all('img')) > 20:\n",
    "            new_topic = topic_link[topic_link[:-1].rfind('/')+1:-1]\n",
    "            topic_index[new_topic] = topic_index[mega_topic]\n",
    "            X_train, y_train = parse_lenta(mega_topic=new_topic, X_train=X_train, y_train=y_train)\n",
    "            continue\n",
    "        links = get_article_link(tree)\n",
    "        for i, link in enumerate(links[:-1]):\n",
    "            print(i, mega_topic, topic_link, link)\n",
    "            response = try_request(link)\n",
    "            if not check_response(response, mega_topic, X_train, y_train):\n",
    "                continue\n",
    "            tree = BeautifulSoup(response.content)\n",
    "            text = get_text(tree)\n",
    "            if not text:\n",
    "                print('skipped', 1, mega_topic, topic_link, link)\n",
    "                continue\n",
    "            X_train = X_train._append({'content': text}, ignore_index=True)\n",
    "            y_train = y_train._append({'topic': topic_index[mega_topic]}, ignore_index=True)\n",
    "            c += 1\n",
    "        print(f'added {c - last_add} articles from {topic_link}!!!')\n",
    "        print('pass', time() - start_time, 'sec')\n",
    "        last_add = c\n",
    "        X_train.to_csv('lenta_X.csv', index=False)\n",
    "        y_train.to_csv('lenta_y.csv', index=False)\n",
    "    return [X_train, y_train]\n",
    "\n",
    "\n",
    "\n",
    "for mega_topic in lenta_topics:\n",
    "    X_train, y_train = parse_lenta(mega_topic=mega_topic, X_train=X_train, y_train=y_train)"
   ]
  },
  {
   "cell_type": "code",
   "execution_count": null,
   "metadata": {
    "colab": {
     "base_uri": "https://localhost:8080/"
    },
    "id": "hzY8klG9ij_i",
    "outputId": "ce8476fe-d217-4ba3-9fa8-2ae73fb49398"
   },
   "outputs": [
    {
     "data": {
      "text/plain": [
       "topic\n",
       "0        599\n",
       "8        330\n",
       "4        217\n",
       "3        180\n",
       "5        150\n",
       "7        150\n",
       "2        120\n",
       "dtype: int64"
      ]
     },
     "execution_count": 27,
     "metadata": {},
     "output_type": "execute_result"
    }
   ],
   "source": [
    "y_train.value_counts()"
   ]
  },
  {
   "cell_type": "code",
   "execution_count": null,
   "metadata": {
    "colab": {
     "base_uri": "https://localhost:8080/",
     "height": 423
    },
    "id": "iUqCPeVHKfib",
    "outputId": "87762ac9-0e31-4b21-b1f3-071c02b1ec75"
   },
   "outputs": [
    {
     "data": {
      "text/html": [
       "\n",
       "  <div id=\"df-66a2cdee-38f0-406b-a798-cc69551e7309\" class=\"colab-df-container\">\n",
       "    <div>\n",
       "<style scoped>\n",
       "    .dataframe tbody tr th:only-of-type {\n",
       "        vertical-align: middle;\n",
       "    }\n",
       "\n",
       "    .dataframe tbody tr th {\n",
       "        vertical-align: top;\n",
       "    }\n",
       "\n",
       "    .dataframe thead th {\n",
       "        text-align: right;\n",
       "    }\n",
       "</style>\n",
       "<table border=\"1\" class=\"dataframe\">\n",
       "  <thead>\n",
       "    <tr style=\"text-align: right;\">\n",
       "      <th></th>\n",
       "      <th>topic</th>\n",
       "    </tr>\n",
       "  </thead>\n",
       "  <tbody>\n",
       "    <tr>\n",
       "      <th>0</th>\n",
       "      <td>0</td>\n",
       "    </tr>\n",
       "    <tr>\n",
       "      <th>1</th>\n",
       "      <td>0</td>\n",
       "    </tr>\n",
       "    <tr>\n",
       "      <th>2</th>\n",
       "      <td>0</td>\n",
       "    </tr>\n",
       "    <tr>\n",
       "      <th>3</th>\n",
       "      <td>0</td>\n",
       "    </tr>\n",
       "    <tr>\n",
       "      <th>4</th>\n",
       "      <td>0</td>\n",
       "    </tr>\n",
       "    <tr>\n",
       "      <th>...</th>\n",
       "      <td>...</td>\n",
       "    </tr>\n",
       "    <tr>\n",
       "      <th>1741</th>\n",
       "      <td>8</td>\n",
       "    </tr>\n",
       "    <tr>\n",
       "      <th>1742</th>\n",
       "      <td>8</td>\n",
       "    </tr>\n",
       "    <tr>\n",
       "      <th>1743</th>\n",
       "      <td>8</td>\n",
       "    </tr>\n",
       "    <tr>\n",
       "      <th>1744</th>\n",
       "      <td>8</td>\n",
       "    </tr>\n",
       "    <tr>\n",
       "      <th>1745</th>\n",
       "      <td>8</td>\n",
       "    </tr>\n",
       "  </tbody>\n",
       "</table>\n",
       "<p>1746 rows × 1 columns</p>\n",
       "</div>\n",
       "    <div class=\"colab-df-buttons\">\n",
       "\n",
       "  <div class=\"colab-df-container\">\n",
       "    <button class=\"colab-df-convert\" onclick=\"convertToInteractive('df-66a2cdee-38f0-406b-a798-cc69551e7309')\"\n",
       "            title=\"Convert this dataframe to an interactive table.\"\n",
       "            style=\"display:none;\">\n",
       "\n",
       "  <svg xmlns=\"http://www.w3.org/2000/svg\" height=\"24px\" viewBox=\"0 -960 960 960\">\n",
       "    <path d=\"M120-120v-720h720v720H120Zm60-500h600v-160H180v160Zm220 220h160v-160H400v160Zm0 220h160v-160H400v160ZM180-400h160v-160H180v160Zm440 0h160v-160H620v160ZM180-180h160v-160H180v160Zm440 0h160v-160H620v160Z\"/>\n",
       "  </svg>\n",
       "    </button>\n",
       "\n",
       "  <style>\n",
       "    .colab-df-container {\n",
       "      display:flex;\n",
       "      gap: 12px;\n",
       "    }\n",
       "\n",
       "    .colab-df-convert {\n",
       "      background-color: #E8F0FE;\n",
       "      border: none;\n",
       "      border-radius: 50%;\n",
       "      cursor: pointer;\n",
       "      display: none;\n",
       "      fill: #1967D2;\n",
       "      height: 32px;\n",
       "      padding: 0 0 0 0;\n",
       "      width: 32px;\n",
       "    }\n",
       "\n",
       "    .colab-df-convert:hover {\n",
       "      background-color: #E2EBFA;\n",
       "      box-shadow: 0px 1px 2px rgba(60, 64, 67, 0.3), 0px 1px 3px 1px rgba(60, 64, 67, 0.15);\n",
       "      fill: #174EA6;\n",
       "    }\n",
       "\n",
       "    .colab-df-buttons div {\n",
       "      margin-bottom: 4px;\n",
       "    }\n",
       "\n",
       "    [theme=dark] .colab-df-convert {\n",
       "      background-color: #3B4455;\n",
       "      fill: #D2E3FC;\n",
       "    }\n",
       "\n",
       "    [theme=dark] .colab-df-convert:hover {\n",
       "      background-color: #434B5C;\n",
       "      box-shadow: 0px 1px 3px 1px rgba(0, 0, 0, 0.15);\n",
       "      filter: drop-shadow(0px 1px 2px rgba(0, 0, 0, 0.3));\n",
       "      fill: #FFFFFF;\n",
       "    }\n",
       "  </style>\n",
       "\n",
       "    <script>\n",
       "      const buttonEl =\n",
       "        document.querySelector('#df-66a2cdee-38f0-406b-a798-cc69551e7309 button.colab-df-convert');\n",
       "      buttonEl.style.display =\n",
       "        google.colab.kernel.accessAllowed ? 'block' : 'none';\n",
       "\n",
       "      async function convertToInteractive(key) {\n",
       "        const element = document.querySelector('#df-66a2cdee-38f0-406b-a798-cc69551e7309');\n",
       "        const dataTable =\n",
       "          await google.colab.kernel.invokeFunction('convertToInteractive',\n",
       "                                                    [key], {});\n",
       "        if (!dataTable) return;\n",
       "\n",
       "        const docLinkHtml = 'Like what you see? Visit the ' +\n",
       "          '<a target=\"_blank\" href=https://colab.research.google.com/notebooks/data_table.ipynb>data table notebook</a>'\n",
       "          + ' to learn more about interactive tables.';\n",
       "        element.innerHTML = '';\n",
       "        dataTable['output_type'] = 'display_data';\n",
       "        await google.colab.output.renderOutput(dataTable, element);\n",
       "        const docLink = document.createElement('div');\n",
       "        docLink.innerHTML = docLinkHtml;\n",
       "        element.appendChild(docLink);\n",
       "      }\n",
       "    </script>\n",
       "  </div>\n",
       "\n",
       "\n",
       "<div id=\"df-f79fdefd-0dda-4e0e-af60-033d5a1e0c24\">\n",
       "  <button class=\"colab-df-quickchart\" onclick=\"quickchart('df-f79fdefd-0dda-4e0e-af60-033d5a1e0c24')\"\n",
       "            title=\"Suggest charts\"\n",
       "            style=\"display:none;\">\n",
       "\n",
       "<svg xmlns=\"http://www.w3.org/2000/svg\" height=\"24px\"viewBox=\"0 0 24 24\"\n",
       "     width=\"24px\">\n",
       "    <g>\n",
       "        <path d=\"M19 3H5c-1.1 0-2 .9-2 2v14c0 1.1.9 2 2 2h14c1.1 0 2-.9 2-2V5c0-1.1-.9-2-2-2zM9 17H7v-7h2v7zm4 0h-2V7h2v10zm4 0h-2v-4h2v4z\"/>\n",
       "    </g>\n",
       "</svg>\n",
       "  </button>\n",
       "\n",
       "<style>\n",
       "  .colab-df-quickchart {\n",
       "      --bg-color: #E8F0FE;\n",
       "      --fill-color: #1967D2;\n",
       "      --hover-bg-color: #E2EBFA;\n",
       "      --hover-fill-color: #174EA6;\n",
       "      --disabled-fill-color: #AAA;\n",
       "      --disabled-bg-color: #DDD;\n",
       "  }\n",
       "\n",
       "  [theme=dark] .colab-df-quickchart {\n",
       "      --bg-color: #3B4455;\n",
       "      --fill-color: #D2E3FC;\n",
       "      --hover-bg-color: #434B5C;\n",
       "      --hover-fill-color: #FFFFFF;\n",
       "      --disabled-bg-color: #3B4455;\n",
       "      --disabled-fill-color: #666;\n",
       "  }\n",
       "\n",
       "  .colab-df-quickchart {\n",
       "    background-color: var(--bg-color);\n",
       "    border: none;\n",
       "    border-radius: 50%;\n",
       "    cursor: pointer;\n",
       "    display: none;\n",
       "    fill: var(--fill-color);\n",
       "    height: 32px;\n",
       "    padding: 0;\n",
       "    width: 32px;\n",
       "  }\n",
       "\n",
       "  .colab-df-quickchart:hover {\n",
       "    background-color: var(--hover-bg-color);\n",
       "    box-shadow: 0 1px 2px rgba(60, 64, 67, 0.3), 0 1px 3px 1px rgba(60, 64, 67, 0.15);\n",
       "    fill: var(--button-hover-fill-color);\n",
       "  }\n",
       "\n",
       "  .colab-df-quickchart-complete:disabled,\n",
       "  .colab-df-quickchart-complete:disabled:hover {\n",
       "    background-color: var(--disabled-bg-color);\n",
       "    fill: var(--disabled-fill-color);\n",
       "    box-shadow: none;\n",
       "  }\n",
       "\n",
       "  .colab-df-spinner {\n",
       "    border: 2px solid var(--fill-color);\n",
       "    border-color: transparent;\n",
       "    border-bottom-color: var(--fill-color);\n",
       "    animation:\n",
       "      spin 1s steps(1) infinite;\n",
       "  }\n",
       "\n",
       "  @keyframes spin {\n",
       "    0% {\n",
       "      border-color: transparent;\n",
       "      border-bottom-color: var(--fill-color);\n",
       "      border-left-color: var(--fill-color);\n",
       "    }\n",
       "    20% {\n",
       "      border-color: transparent;\n",
       "      border-left-color: var(--fill-color);\n",
       "      border-top-color: var(--fill-color);\n",
       "    }\n",
       "    30% {\n",
       "      border-color: transparent;\n",
       "      border-left-color: var(--fill-color);\n",
       "      border-top-color: var(--fill-color);\n",
       "      border-right-color: var(--fill-color);\n",
       "    }\n",
       "    40% {\n",
       "      border-color: transparent;\n",
       "      border-right-color: var(--fill-color);\n",
       "      border-top-color: var(--fill-color);\n",
       "    }\n",
       "    60% {\n",
       "      border-color: transparent;\n",
       "      border-right-color: var(--fill-color);\n",
       "    }\n",
       "    80% {\n",
       "      border-color: transparent;\n",
       "      border-right-color: var(--fill-color);\n",
       "      border-bottom-color: var(--fill-color);\n",
       "    }\n",
       "    90% {\n",
       "      border-color: transparent;\n",
       "      border-bottom-color: var(--fill-color);\n",
       "    }\n",
       "  }\n",
       "</style>\n",
       "\n",
       "  <script>\n",
       "    async function quickchart(key) {\n",
       "      const quickchartButtonEl =\n",
       "        document.querySelector('#' + key + ' button');\n",
       "      quickchartButtonEl.disabled = true;  // To prevent multiple clicks.\n",
       "      quickchartButtonEl.classList.add('colab-df-spinner');\n",
       "      try {\n",
       "        const charts = await google.colab.kernel.invokeFunction(\n",
       "            'suggestCharts', [key], {});\n",
       "      } catch (error) {\n",
       "        console.error('Error during call to suggestCharts:', error);\n",
       "      }\n",
       "      quickchartButtonEl.classList.remove('colab-df-spinner');\n",
       "      quickchartButtonEl.classList.add('colab-df-quickchart-complete');\n",
       "    }\n",
       "    (() => {\n",
       "      let quickchartButtonEl =\n",
       "        document.querySelector('#df-f79fdefd-0dda-4e0e-af60-033d5a1e0c24 button');\n",
       "      quickchartButtonEl.style.display =\n",
       "        google.colab.kernel.accessAllowed ? 'block' : 'none';\n",
       "    })();\n",
       "  </script>\n",
       "</div>\n",
       "    </div>\n",
       "  </div>\n"
      ],
      "text/plain": [
       "      topic\n",
       "0         0\n",
       "1         0\n",
       "2         0\n",
       "3         0\n",
       "4         0\n",
       "...     ...\n",
       "1741      8\n",
       "1742      8\n",
       "1743      8\n",
       "1744      8\n",
       "1745      8\n",
       "\n",
       "[1746 rows x 1 columns]"
      ]
     },
     "execution_count": 29,
     "metadata": {},
     "output_type": "execute_result"
    }
   ],
   "source": [
    "y_train[y_train['topic'] == 0]\n",
    "\n",
    "y_train"
   ]
  },
  {
   "cell_type": "code",
   "execution_count": null,
   "metadata": {
    "id": "pajtSqfPV3wC"
   },
   "outputs": [],
   "source": [
    "df = pd.read_csv('lenta_y.csv')"
   ]
  },
  {
   "cell_type": "markdown",
   "metadata": {
    "id": "yiiP2nL7oiyp",
    "tags": []
   },
   "source": [
    "## fontanka parse\n"
   ]
  },
  {
   "cell_type": "code",
   "execution_count": null,
   "metadata": {
    "id": "TYM5nqTZAitr",
    "tags": []
   },
   "outputs": [],
   "source": [
    "data = pd.DataFrame()"
   ]
  },
  {
   "cell_type": "code",
   "execution_count": null,
   "metadata": {
    "id": "IezFQKn6Aitr",
    "tags": []
   },
   "outputs": [],
   "source": [
    "def get_articles(tree):\n",
    "    articles = tree.find_all('li', attrs={'class': 'INaft LVa3'})\n",
    "    return articles"
   ]
  },
  {
   "cell_type": "code",
   "execution_count": null,
   "metadata": {
    "id": "19LlDQkRAits",
    "tags": []
   },
   "outputs": [],
   "source": [
    "def get_articles_link(articles):\n",
    "    links = [article.find('a', attrs={'class': 'INcd'}).get('href') for article in articles]\n",
    "    return [link if 'http' in link else 'https://www.fontanka.ru' + link for link in links]"
   ]
  },
  {
   "cell_type": "code",
   "execution_count": null,
   "metadata": {
    "id": "zijTuoDLAits",
    "tags": []
   },
   "outputs": [],
   "source": [
    "def get_text(tree):\n",
    "    try:\n",
    "        return '\\n'.join([p.text for p in tree.find('section', attrs={'class': 'K1an9'}).find_all('p')])\n",
    "    except:\n",
    "        print(\"can't find text\")\n",
    "        return ''\n"
   ]
  },
  {
   "cell_type": "code",
   "execution_count": null,
   "metadata": {
    "id": "qLpmG_zAAits",
    "tags": []
   },
   "outputs": [],
   "source": [
    "def try_request(url, error_links):\n",
    "    try:\n",
    "        return requests.get(url)\n",
    "    except:\n",
    "        print(f\"can't get response from: {url}\")\n",
    "        error_links.append(url)\n",
    "        return False"
   ]
  },
  {
   "cell_type": "code",
   "execution_count": null,
   "metadata": {
    "collapsed": true,
    "id": "XSMo-7C5Aitt",
    "jupyter": {
     "outputs_hidden": true
    },
    "outputId": "945a6886-564d-41e3-97a2-38472f60e3f4",
    "tags": []
   },
   "outputs": [
    {
     "name": "stdout",
     "output_type": "stream",
     "text": [
      "get 30 articles about turizm from 1 page\n",
      "get 30 articles about turizm from 2 page\n",
      "get 30 articles about turizm from 3 page\n",
      "get 30 articles about turizm from 4 page\n",
      "get 30 articles about turizm from 5 page\n",
      "get 30 articles about turizm from 6 page\n",
      "get 30 articles about turizm from 7 page\n",
      "get 30 articles about turizm from 8 page\n",
      "get 30 articles about turizm from 9 page\n",
      "get 30 articles about turizm from 10 page\n",
      "get 30 articles about turizm from 11 page\n",
      "get 30 articles about turizm from 12 page\n",
      "get 30 articles about turizm from 13 page\n",
      "get 30 articles about turizm from 14 page\n",
      "get 30 articles about turizm from 15 page\n",
      "get 30 articles about turizm from 16 page\n",
      "get 30 articles about turizm from 17 page\n",
      "get 30 articles about turizm from 18 page\n",
      "get 30 articles about turizm from 19 page\n",
      "get 30 articles about turizm from 20 page\n",
      "get 30 articles about turizm from 21 page\n",
      "get 30 articles about turizm from 22 page\n",
      "get 30 articles about turizm from 23 page\n",
      "get 30 articles about turizm from 24 page\n",
      "get 30 articles about turizm from 25 page\n",
      "get 30 articles about turizm from 26 page\n",
      "get 30 articles about turizm from 27 page\n",
      "get 30 articles about turizm from 28 page\n",
      "get 30 articles about turizm from 29 page\n",
      "get 30 articles about turizm from 30 page\n",
      "get 30 articles about turizm from 31 page\n",
      "get 30 articles about turizm from 32 page\n",
      "get 30 articles about turizm from 33 page\n",
      "get 30 articles about turizm from 34 page\n",
      "get 30 articles about turizm from 35 page\n",
      "get 30 articles about turizm from 36 page\n",
      "get 30 articles about turizm from 37 page\n",
      "get 30 articles about turizm from 38 page\n",
      "get 30 articles about turizm from 39 page\n",
      "get 30 articles about turizm from 40 page\n",
      "get 30 articles about turizm from 41 page\n",
      "get 30 articles about turizm from 42 page\n",
      "get 30 articles about turizm from 43 page\n",
      "get 30 articles about turizm from 44 page\n",
      "get 30 articles about turizm from 45 page\n",
      "get 30 articles about turizm from 46 page\n",
      "get 30 articles about turizm from 47 page\n",
      "get 30 articles about turizm from 48 page\n",
      "get 30 articles about turizm from 49 page\n",
      "get 30 articles about turizm from 50 page\n",
      "get 30 articles about turizm from 51 page\n",
      "get 30 articles about turizm from 52 page\n",
      "get 30 articles about turizm from 53 page\n",
      "get 30 articles about turizm from 54 page\n",
      "get 30 articles about turizm from 55 page\n",
      "get 30 articles about turizm from 56 page\n",
      "get 30 articles about turizm from 57 page\n",
      "get 30 articles about turizm from 58 page\n",
      "get 30 articles about turizm from 59 page\n",
      "get 30 articles about turizm from 60 page\n",
      "get 30 articles about turizm from 61 page\n",
      "get 30 articles about turizm from 62 page\n",
      "get 30 articles about turizm from 63 page\n",
      "get 30 articles about turizm from 64 page\n",
      "get 30 articles about turizm from 65 page\n",
      "get 30 articles about turizm from 66 page\n",
      "get 30 articles about turizm from 67 page\n",
      "get 30 articles about turizm from 68 page\n",
      "can't get response from: https://www.fontanka.ru/cgi-bin/search.scgi?query=&rubric=turizm&sortt=date&fdate=2000-01-03&tdate=2024-01-15&offset=69\n",
      "get 30 articles about turizm from 70 page\n",
      "get 30 articles about turizm from 71 page\n",
      "get 30 articles about turizm from 72 page\n",
      "get 30 articles about turizm from 73 page\n",
      "get 30 articles about turizm from 74 page\n",
      "get 30 articles about turizm from 75 page\n",
      "get 30 articles about turizm from 76 page\n",
      "get 30 articles about turizm from 77 page\n",
      "get 30 articles about turizm from 78 page\n",
      "get 30 articles about turizm from 79 page\n",
      "get 30 articles about turizm from 80 page\n",
      "get 30 articles about turizm from 81 page\n",
      "get 30 articles about turizm from 82 page\n",
      "get 30 articles about turizm from 83 page\n",
      "get 30 articles about turizm from 84 page\n",
      "get 30 articles about turizm from 85 page\n",
      "get 30 articles about turizm from 86 page\n",
      "get 30 articles about turizm from 87 page\n",
      "get 30 articles about turizm from 88 page\n",
      "get 30 articles about turizm from 89 page\n",
      "get 30 articles about turizm from 90 page\n",
      "get 30 articles about turizm from 91 page\n",
      "get 30 articles about turizm from 92 page\n",
      "get 30 articles about turizm from 93 page\n",
      "get 30 articles about turizm from 94 page\n",
      "get 30 articles about turizm from 95 page\n",
      "get 30 articles about turizm from 96 page\n",
      "get 30 articles about turizm from 97 page\n",
      "get 30 articles about turizm from 98 page\n",
      "get 30 articles about turizm from 99 page\n",
      "get 30 articles about turizm from 100 page\n",
      "get 30 articles about turizm from 101 page\n",
      "get 30 articles about turizm from 102 page\n",
      "get 30 articles about turizm from 103 page\n",
      "get 30 articles about turizm from 104 page\n",
      "get 30 articles about turizm from 105 page\n",
      "get 30 articles about turizm from 106 page\n",
      "get 30 articles about turizm from 107 page\n",
      "get 30 articles about turizm from 108 page\n",
      "get 30 articles about turizm from 109 page\n",
      "get 30 articles about turizm from 110 page\n",
      "get 30 articles about turizm from 111 page\n",
      "get 30 articles about turizm from 112 page\n",
      "get 30 articles about turizm from 113 page\n",
      "get 30 articles about turizm from 114 page\n",
      "get 30 articles about turizm from 115 page\n",
      "get 30 articles about turizm from 116 page\n",
      "get 30 articles about turizm from 117 page\n",
      "get 30 articles about turizm from 118 page\n",
      "get 30 articles about turizm from 119 page\n",
      "get 30 articles about turizm from 120 page\n",
      "get 30 articles about turizm from 121 page\n",
      "get 30 articles about turizm from 122 page\n",
      "get 30 articles about turizm from 123 page\n",
      "get 30 articles about turizm from 124 page\n",
      "get 30 articles about turizm from 125 page\n",
      "get 30 articles about turizm from 126 page\n",
      "get 30 articles about turizm from 127 page\n",
      "get 30 articles about turizm from 128 page\n",
      "get 30 articles about turizm from 129 page\n",
      "get 30 articles about turizm from 130 page\n",
      "get 30 articles about turizm from 131 page\n",
      "get 30 articles about turizm from 132 page\n",
      "get 30 articles about turizm from 133 page\n",
      "get 30 articles about turizm from 134 page\n",
      "get 30 articles about turizm from 135 page\n",
      "get 30 articles about turizm from 136 page\n",
      "get 30 articles about turizm from 137 page\n",
      "get 30 articles about turizm from 138 page\n",
      "get 30 articles about turizm from 139 page\n",
      "get 30 articles about turizm from 140 page\n",
      "get 30 articles about turizm from 141 page\n",
      "get 30 articles about turizm from 142 page\n",
      "get 30 articles about turizm from 143 page\n",
      "get 30 articles about turizm from 144 page\n",
      "get 30 articles about turizm from 145 page\n",
      "get 30 articles about turizm from 146 page\n",
      "get 30 articles about turizm from 147 page\n",
      "get 30 articles about turizm from 148 page\n",
      "get 30 articles about turizm from 149 page\n",
      "get 30 articles about turizm from 150 page\n",
      "get 30 articles about turizm from 151 page\n",
      "get 30 articles about turizm from 152 page\n",
      "get 30 articles about turizm from 153 page\n",
      "get 30 articles about turizm from 154 page\n",
      "get 30 articles about turizm from 155 page\n",
      "get 30 articles about turizm from 156 page\n",
      "get 30 articles about turizm from 157 page\n",
      "get 30 articles about turizm from 158 page\n",
      "get 30 articles about turizm from 159 page\n",
      "get 30 articles about turizm from 160 page\n",
      "get 30 articles about turizm from 161 page\n",
      "get 30 articles about turizm from 162 page\n",
      "get 30 articles about turizm from 163 page\n",
      "get 30 articles about turizm from 164 page\n",
      "get 30 articles about turizm from 165 page\n",
      "get 30 articles about turizm from 166 page\n",
      "get 30 articles about turizm from 167 page\n",
      "get 30 articles about turizm from 168 page\n",
      "get 30 articles about turizm from 169 page\n",
      "get 30 articles about turizm from 170 page\n",
      "get 30 articles about turizm from 171 page\n",
      "get 30 articles about turizm from 172 page\n",
      "get 30 articles about turizm from 173 page\n",
      "get 30 articles about turizm from 174 page\n",
      "get 30 articles about turizm from 175 page\n",
      "get 30 articles about turizm from 176 page\n",
      "get 30 articles about turizm from 177 page\n",
      "get 30 articles about turizm from 178 page\n",
      "get 30 articles about turizm from 179 page\n",
      "get 30 articles about turizm from 180 page\n",
      "get 30 articles about turizm from 181 page\n",
      "get 30 articles about turizm from 182 page\n",
      "get 30 articles about turizm from 183 page\n",
      "get 30 articles about turizm from 184 page\n",
      "get 30 articles about turizm from 185 page\n",
      "get 30 articles about turizm from 186 page\n",
      "get 30 articles about turizm from 187 page\n",
      "get 30 articles about turizm from 188 page\n",
      "get 30 articles about turizm from 189 page\n",
      "get 30 articles about turizm from 190 page\n",
      "get 30 articles about turizm from 191 page\n",
      "get 30 articles about turizm from 192 page\n",
      "get 30 articles about turizm from 193 page\n",
      "get 30 articles about turizm from 194 page\n",
      "get 30 articles about turizm from 195 page\n",
      "get 30 articles about turizm from 196 page\n",
      "get 30 articles about turizm from 197 page\n",
      "get 30 articles about turizm from 198 page\n",
      "get 30 articles about turizm from 199 page\n",
      "get 30 articles about turizm from 200 page\n",
      "get 30 articles about turizm from 201 page\n",
      "get 30 articles about turizm from 202 page\n",
      "get 30 articles about turizm from 203 page\n",
      "get 30 articles about turizm from 204 page\n",
      "get 30 articles about turizm from 205 page\n",
      "get 30 articles about turizm from 206 page\n",
      "get 30 articles about turizm from 207 page\n",
      "get 30 articles about turizm from 208 page\n",
      "get 30 articles about turizm from 209 page\n",
      "get 30 articles about turizm from 210 page\n",
      "get 30 articles about turizm from 211 page\n",
      "get 30 articles about turizm from 212 page\n",
      "get 30 articles about turizm from 213 page\n",
      "get 30 articles about turizm from 214 page\n",
      "get 30 articles about turizm from 215 page\n",
      "get 30 articles about turizm from 216 page\n",
      "get 30 articles about turizm from 217 page\n",
      "get 30 articles about turizm from 218 page\n",
      "get 30 articles about turizm from 219 page\n",
      "get 30 articles about turizm from 220 page\n",
      "get 30 articles about turizm from 221 page\n",
      "get 30 articles about turizm from 222 page\n",
      "get 30 articles about turizm from 223 page\n",
      "get 30 articles about turizm from 224 page\n",
      "get 30 articles about turizm from 225 page\n",
      "get 30 articles about turizm from 226 page\n",
      "get 30 articles about turizm from 227 page\n",
      "get 30 articles about turizm from 228 page\n",
      "get 30 articles about turizm from 229 page\n",
      "get 30 articles about turizm from 230 page\n",
      "get 30 articles about turizm from 231 page\n",
      "get 30 articles about turizm from 232 page\n",
      "get 30 articles about turizm from 233 page\n",
      "get 30 articles about turizm from 234 page\n",
      "get 30 articles about turizm from 235 page\n",
      "get 30 articles about turizm from 236 page\n",
      "get 30 articles about turizm from 237 page\n",
      "get 30 articles about turizm from 238 page\n",
      "get 30 articles about turizm from 239 page\n",
      "get 30 articles about turizm from 240 page\n",
      "get 30 articles about turizm from 241 page\n",
      "get 30 articles about turizm from 242 page\n",
      "get 30 articles about turizm from 243 page\n",
      "get 30 articles about turizm from 244 page\n",
      "get 30 articles about turizm from 245 page\n",
      "get 30 articles about turizm from 246 page\n",
      "get 30 articles about turizm from 247 page\n",
      "get 30 articles about turizm from 248 page\n",
      "get 30 articles about turizm from 249 page\n",
      "get 30 articles about turizm from 250 page\n",
      "get 30 articles about turizm from 251 page\n",
      "get 30 articles about turizm from 252 page\n",
      "get 30 articles about turizm from 253 page\n",
      "get 30 articles about turizm from 254 page\n",
      "get 30 articles about turizm from 255 page\n",
      "get 30 articles about turizm from 256 page\n",
      "get 30 articles about turizm from 257 page\n",
      "get 30 articles about turizm from 258 page\n",
      "get 30 articles about turizm from 259 page\n",
      "get 30 articles about turizm from 260 page\n",
      "get 30 articles about turizm from 261 page\n",
      "get 30 articles about turizm from 262 page\n",
      "get 30 articles about turizm from 263 page\n",
      "get 30 articles about turizm from 264 page\n",
      "get 30 articles about turizm from 265 page\n",
      "get 30 articles about turizm from 266 page\n",
      "get 30 articles about turizm from 267 page\n",
      "get 30 articles about turizm from 268 page\n",
      "get 30 articles about turizm from 269 page\n",
      "get 30 articles about turizm from 270 page\n",
      "get 30 articles about turizm from 271 page\n",
      "get 30 articles about turizm from 272 page\n",
      "get 30 articles about turizm from 273 page\n",
      "get 30 articles about turizm from 274 page\n",
      "get 30 articles about turizm from 275 page\n",
      "get 19 articles about turizm from 276 page\n",
      "get 0 articles about turizm from 277 page\n",
      "articles not found\n",
      "8239 links at all\n",
      "file updated successfuly\n",
      "1\n",
      "can't find text\n",
      "can't find text\n",
      "can't find text\n",
      "can't get response from https://guide-spb.fontanka.ru/2023\n",
      "file updated successfuly\n",
      "100\n",
      "can't find text\n",
      "can't find text\n",
      "can't find text\n",
      "can't find text\n",
      "can't find text\n",
      "can't find text\n",
      "can't find text\n",
      "can't find text\n",
      "can't find text\n",
      "can't find text\n",
      "can't find text\n",
      "can't find text\n",
      "can't find text\n",
      "can't get response from https://fontankasup.ru/2023\n",
      "can't find text\n",
      "can't find text\n",
      "file updated successfuly\n",
      "199\n",
      "can't find text\n",
      "can't find text\n",
      "can't find text\n",
      "can't find text\n",
      "can't find text\n",
      "can't find text\n",
      "can't find text\n",
      "can't find text\n",
      "can't find text\n",
      "can't find text\n",
      "can't find text\n",
      "can't find text\n",
      "can't find text\n",
      "can't find text\n",
      "can't find text\n",
      "can't find text\n",
      "can't find text\n",
      "file updated successfuly\n",
      "299\n",
      "can't find text\n",
      "file updated successfuly\n",
      "399\n",
      "file updated successfuly\n",
      "499\n",
      "can't find text\n",
      "can't find text\n",
      "file updated successfuly\n",
      "599\n",
      "can't find text\n",
      "can't find text\n",
      "can't find text\n",
      "can't find text\n",
      "can't find text\n",
      "can't find text\n",
      "file updated successfuly\n",
      "699\n",
      "can't find text\n",
      "can't find text\n",
      "can't find text\n",
      "can't find text\n",
      "can't find text\n",
      "can't find text\n",
      "can't find text\n",
      "can't find text\n",
      "can't find text\n",
      "can't find text\n",
      "file updated successfuly\n",
      "799\n",
      "can't find text\n",
      "can't find text\n",
      "can't find text\n",
      "can't find text\n",
      "can't find text\n",
      "can't find text\n",
      "can't find text\n",
      "can't find text\n",
      "can't find text\n",
      "can't find text\n",
      "can't find text\n",
      "can't find text\n",
      "can't find text\n",
      "can't find text\n",
      "can't find text\n",
      "file updated successfuly\n",
      "899\n",
      "file updated successfuly\n",
      "999\n",
      "can't find text\n",
      "can't find text\n",
      "can't find text\n",
      "file updated successfuly\n",
      "1099\n",
      "can't find text\n",
      "can't find text\n",
      "can't find text\n",
      "can't find text\n",
      "can't find text\n",
      "can't find text\n",
      "can't find text\n",
      "can't find text\n",
      "can't find text\n",
      "can't find text\n",
      "file updated successfuly\n",
      "1199\n",
      "can't find text\n",
      "can't get response from https://guide-spb21.fontanka.ru/ceremony_2021\n",
      "can't find text\n",
      "can't find text\n",
      "can't find text\n",
      "can't find text\n",
      "can't find text\n",
      "can't find text\n",
      "file updated successfuly\n",
      "1298\n",
      "can't find text\n",
      "can't find text\n",
      "can't find text\n",
      "can't find text\n",
      "can't find text\n",
      "can't find text\n",
      "can't find text\n",
      "file updated successfuly\n",
      "1398\n",
      "can't find text\n",
      "file updated successfuly\n",
      "1498\n",
      "file updated successfuly\n",
      "1598\n",
      "can't find text\n",
      "can't find text\n",
      "can't find text\n",
      "can't find text\n",
      "can't find text\n",
      "can't find text\n",
      "can't find text\n",
      "can't find text\n",
      "can't find text\n",
      "can't find text\n",
      "can't find text\n",
      "can't find text\n",
      "file updated successfuly\n",
      "1698\n",
      "can't find text\n",
      "can't find text\n",
      "can't find text\n",
      "can't find text\n",
      "can't find text\n",
      "can't find text\n",
      "can't find text\n",
      "can't find text\n",
      "can't find text\n",
      "can't find text\n",
      "can't find text\n",
      "can't find text\n",
      "can't find text\n",
      "file updated successfuly\n",
      "1798\n",
      "can't find text\n",
      "can't find text\n",
      "file updated successfuly\n",
      "1898\n",
      "can't find text\n",
      "can't find text\n",
      "can't find text\n",
      "can't find text\n",
      "file updated successfuly\n",
      "1998\n",
      "file updated successfuly\n",
      "2098\n",
      "can't find text\n",
      "can't find text\n",
      "can't get response from https://www.fontanka.ru/2020/03/02/69005962/\n",
      "can't find text\n",
      "can't find text\n",
      "can't get response from https://www.fontanka.ru/2020/03/03/69013759/\n",
      "can't find text\n",
      "can't find text\n",
      "file updated successfuly\n",
      "2196\n",
      "can't get response from https://www.fontanka.ru/2020/03/03/69013759/\n",
      "can't get response from https://www.fontanka.ru/2020/03/02/69005962/\n",
      "can't find text\n",
      "can't get response from https://www.fontanka.ru/longreads/sbor_otzyvov_denis_school/\n",
      "can't find text\n",
      "can't find text\n",
      "can't find text\n",
      "can't find text\n",
      "can't find text\n",
      "can't find text\n",
      "can't find text\n",
      "can't find text\n",
      "can't find text\n",
      "can't find text\n",
      "can't find text\n",
      "can't find text\n",
      "can't find text\n",
      "can't find text\n",
      "can't find text\n",
      "can't find text\n",
      "can't find text\n",
      "can't find text\n",
      "file updated successfuly\n",
      "2293\n",
      "can't find text\n",
      "can't find text\n",
      "file updated successfuly\n",
      "2393\n",
      "can't find text\n",
      "can't find text\n",
      "can't find text\n",
      "file updated successfuly\n",
      "2493\n",
      "can't find text\n",
      "can't find text\n",
      "can't find text\n",
      "can't find text\n",
      "can't find text\n",
      "can't find text\n",
      "file updated successfuly\n",
      "2593\n",
      "can't find text\n",
      "can't find text\n",
      "can't find text\n",
      "can't find text\n",
      "can't find text\n",
      "can't find text\n",
      "can't find text\n",
      "can't find text\n",
      "can't find text\n",
      "file updated successfuly\n",
      "2693\n",
      "can't find text\n",
      "file updated successfuly\n",
      "2793\n",
      "can't get response from https://www.fontanka.ru/longreads/2017/12/24/018/\n",
      "file updated successfuly\n",
      "2892\n",
      "can't find text\n",
      "file updated successfuly\n",
      "2992\n",
      "file updated successfuly\n",
      "3092\n",
      "file updated successfuly\n",
      "3192\n",
      "file updated successfuly\n",
      "3292\n",
      "can't get response from https://www.fontanka.ru/2016/11/18/167/\n",
      "file updated successfuly\n",
      "3391\n",
      "can't get response from https://www.fontanka.ru/2016/11/07/fin31315\\\n",
      "can't get response from: https://www.fontanka.ru/2016/10/07/052/\n",
      "can't get response from https://www.fontanka.ru/2016/10/07/052/\n",
      "file updated successfuly\n",
      "3489\n",
      "file updated successfuly\n",
      "3589\n",
      "file updated successfuly\n",
      "3689\n",
      "file updated successfuly\n",
      "3789\n",
      "file updated successfuly\n",
      "3889\n",
      "file updated successfuly\n",
      "3989\n",
      "file updated successfuly\n",
      "4089\n",
      "file updated successfuly\n",
      "4189\n",
      "file updated successfuly\n",
      "4289\n",
      "file updated successfuly\n",
      "4389\n",
      "file updated successfuly\n",
      "4489\n",
      "can't find text\n",
      "file updated successfuly\n",
      "4589\n",
      "file updated successfuly\n",
      "4689\n",
      "file updated successfuly\n",
      "4789\n",
      "file updated successfuly\n",
      "4889\n",
      "file updated successfuly\n",
      "4989\n",
      "file updated successfuly\n",
      "5089\n",
      "file updated successfuly\n",
      "5189\n",
      "file updated successfuly\n",
      "5289\n",
      "file updated successfuly\n",
      "5389\n",
      "file updated successfuly\n",
      "5489\n",
      "file updated successfuly\n",
      "5589\n",
      "can't find text\n",
      "file updated successfuly\n",
      "5689\n",
      "file updated successfuly\n",
      "5789\n",
      "file updated successfuly\n",
      "5889\n",
      "file updated successfuly\n",
      "5989\n",
      "can't get response from https://www.fontanka.ru/2012/11/11/052/\n",
      "file updated successfuly\n",
      "6088\n",
      "file updated successfuly\n",
      "6188\n",
      "file updated successfuly\n",
      "6288\n",
      "file updated successfuly\n",
      "6388\n",
      "file updated successfuly\n",
      "6488\n",
      "file updated successfuly\n",
      "6588\n",
      "file updated successfuly\n",
      "6688\n",
      "file updated successfuly\n",
      "6788\n",
      "file updated successfuly\n",
      "6888\n",
      "file updated successfuly\n",
      "6988\n",
      "can't get response from https://www.fontanka.ru/2011/05/15/fin00869%ef%bb%bf\n",
      "file updated successfuly\n",
      "7087\n",
      "file updated successfuly\n",
      "7187\n",
      "file updated successfuly\n",
      "7287\n",
      "file updated successfuly\n",
      "7387\n",
      "file updated successfuly\n",
      "7487\n",
      "can't get response from https://www.fontanka.ru/2010/05/23/038/\n",
      "file updated successfuly\n",
      "7586\n",
      "file updated successfuly\n",
      "7686\n",
      "file updated successfuly\n",
      "7786\n",
      "file updated successfuly\n",
      "7886\n",
      "file updated successfuly\n",
      "7986\n",
      "file updated successfuly\n",
      "8086\n",
      "file updated successfuly\n",
      "8186\n",
      "file updated successfuly\n",
      "8224\n",
      "working time is 7010.382259845734\n"
     ]
    }
   ],
   "source": [
    "start_time = time()\n",
    "save_every = 100\n",
    "for topic in fontanka_topics:\n",
    "    # getting links\n",
    "    links = []\n",
    "    for n_page in range(1, 340):\n",
    "        url = f'https://www.fontanka.ru/cgi-bin/search.scgi?query=&rubric={topic}&sortt=date&fdate=2000-01-03&tdate=2024-01-15&offset={n_page}'\n",
    "        response = try_request(url, error_links)\n",
    "        if not response:\n",
    "            continue\n",
    "        tree = BeautifulSoup(response.content)\n",
    "        articles = get_articles(tree)\n",
    "        print(f\"get {len(articles)} articles about {topic} from {n_page} page\")\n",
    "        if len(articles) == 0:\n",
    "            print(\"articles not found\")\n",
    "            break\n",
    "        links += get_articles_link(articles)\n",
    "    print(f\"{len(links)} links at all\")\n",
    "    # getting texts from links\n",
    "    for i, link in enumerate(links):\n",
    "        response = try_request(link, error_links)\n",
    "        if not response:\n",
    "            print(f\"can't get response from {link}\")\n",
    "            continue\n",
    "        tree = BeautifulSoup(response.content)\n",
    "        text = get_text(tree)\n",
    "        data = data._append({'content': text, 'url': link, 'topic': topic_index[topic]}, ignore_index=True)\n",
    "        if i % save_every == 0:\n",
    "            print(\"file updated successfuly\")\n",
    "            print(len(data))\n",
    "            data.to_csv('fontanka1.csv', index=False, mode='w')\n",
    "\n",
    "print(\"file updated successfuly\")\n",
    "print(len(data))\n",
    "data.to_csv('fontanka1.csv', index=False, mode='w')\n",
    "print('working time is', time() - start_time)"
   ]
  },
  {
   "cell_type": "markdown",
   "metadata": {
    "id": "jpenl_9qAitu",
    "jp-MarkdownHeadingCollapsed": true,
    "tags": []
   },
   "source": [
    "### async (don't work)"
   ]
  },
  {
   "cell_type": "code",
   "execution_count": null,
   "metadata": {
    "id": "aiN5YGjoAit1",
    "tags": []
   },
   "outputs": [],
   "source": [
    "import asyncio\n",
    "import aiohttp"
   ]
  },
  {
   "cell_type": "code",
   "execution_count": null,
   "metadata": {
    "id": "zlzZkSr1Ait2",
    "tags": []
   },
   "outputs": [],
   "source": [
    "data = pd.DataFrame()\n",
    "def get_articles(tree):\n",
    "    articles = tree.find_all('li', attrs={'class': 'H-aer KHbz'})\n",
    "    return articles\n",
    "\n",
    "def get_articles_link(articles):\n",
    "    return ['https://www.fontanka.ru' + article.find('a', attrs={'class': 'H-cj'}).get('href') for article in articles]\n",
    "\n",
    "def get_text(tree):\n",
    "    return '\\n'.join([p.text for p in tree.find('section', attrs={'class': 'KZam5'}).find_all('p')])\n",
    "\n",
    "async def try_request(url, error_links):\n",
    "    async with aiohttp.ClientSession() as session:\n",
    "        try:\n",
    "            response = await session.get(url)\n",
    "            print(response)\n",
    "            tree = BeautifulSoup(response.content)\n",
    "            return await tree\n",
    "        except:\n",
    "            error_links.append(url)\n",
    "            return False\n"
   ]
  },
  {
   "cell_type": "code",
   "execution_count": null,
   "metadata": {
    "collapsed": true,
    "id": "vJ_1eoRCAit2",
    "jupyter": {
     "outputs_hidden": true
    },
    "outputId": "7c3a0cfa-dd16-4a4a-f8ea-bfe44cfbf3a5",
    "tags": []
   },
   "outputs": [
    {
     "name": "stdout",
     "output_type": "stream",
     "text": [
      "<ClientResponse(https://www.fontanka.ru/cgi-bin/search.scgi?query=&rubric=stroy&sortt=date&fdate=2000-01-03&tdate=2024-01-15&offset=1) [200 OK]>\n",
      "<CIMultiDictProxy('Server': 'ddos-guard', 'Connection': 'keep-alive', 'Keep-Alive': 'timeout=60', 'Set-Cookie': '__ddg1_=RQC7Dffr5JkgYCJTrRuw; Domain=.fontanka.ru; HttpOnly; Path=/; Expires=Thu, 16-Jan-2025 14:45:17 GMT', 'Date': 'Wed, 17 Jan 2024 14:45:17 GMT', 'Content-Type': 'text/html; charset=utf-8', 'Set-Cookie': 'ngs_uid=wxPcFmWn5/16e60tCUqBAg==; path=/; httponly', 'Set-Cookie': 'fontanka_ab_scrooge_478_v5=B;Domain=.fontanka.ru;Path=/;Max-Age=1209600', 'Set-Cookie': 'fontanka_ab_31=A;Domain=.fontanka.ru;Path=/;Max-Age=5184000', 'Set-Cookie': 'fontanka_ab_main_page_4redesign=B;Domain=.fontanka.ru;Path=/;Max-Age=1209600', 'X-AB': 'fontanka_ab_scrooge_478_v5=B;fontanka_ab_31=A;fontanka_ab_main_page_4redesign=B', 'Set-Cookie': 'fontanka_ab_scrooge_478_v5=B;Domain=.fontanka.ru;Path=/;Max-Age=1209600', 'Set-Cookie': 'fontanka_ab_31=A;Domain=.fontanka.ru;Path=/;Max-Age=5184000', 'Set-Cookie': 'fontanka_ab_main_page_4redesign=B;Domain=.fontanka.ru;Path=/;Max-Age=1209600', 'X-AB': 'fontanka_ab_scrooge_478_v5=B;fontanka_ab_31=A;fontanka_ab_main_page_4redesign=B', 'Set-Cookie': 'ngs_uid=wxPcFWWn5/04P3FAA1ICAg==; expires=Sat, 14-Jan-34 14:45:17 GMT; domain=fontanka.ru; path=/', 'P3P': 'CP=\"NOI ADM DEV PSAi COM NAV OUR OTRo STP IND DEM\"', 'Content-Encoding': 'gzip', 'Transfer-Encoding': 'chunked')>\n",
      "\n",
      "False\n"
     ]
    },
    {
     "name": "stderr",
     "output_type": "stream",
     "text": [
      "C:\\Users\\alexe\\AppData\\Local\\Temp\\ipykernel_20080\\356600839.py:21: RuntimeWarning: coroutine 'StreamReader.read' was never awaited\n",
      "  return False\n",
      "RuntimeWarning: Enable tracemalloc to get the object allocation traceback\n"
     ]
    },
    {
     "ename": "AttributeError",
     "evalue": "'coroutine' object has no attribute 'find_all'",
     "output_type": "error",
     "traceback": [
      "\u001b[1;31m---------------------------------------------------------------------------\u001b[0m",
      "\u001b[1;31mAttributeError\u001b[0m                            Traceback (most recent call last)",
      "Cell \u001b[1;32mIn[59], line 14\u001b[0m\n\u001b[0;32m     11\u001b[0m     \u001b[38;5;28;01mcontinue\u001b[39;00m\n\u001b[0;32m     12\u001b[0m \u001b[38;5;66;03m# tree = BeautifulSoup(response.content)\u001b[39;00m\n\u001b[0;32m     13\u001b[0m \u001b[38;5;66;03m# print(await tree)\u001b[39;00m\n\u001b[1;32m---> 14\u001b[0m articles \u001b[38;5;241m=\u001b[39m get_articles(tree)\n\u001b[0;32m     15\u001b[0m \u001b[38;5;28mprint\u001b[39m(\u001b[38;5;28mlen\u001b[39m(articles))\n\u001b[0;32m     16\u001b[0m \u001b[38;5;28;01mif\u001b[39;00m \u001b[38;5;28mlen\u001b[39m(articles) \u001b[38;5;241m==\u001b[39m \u001b[38;5;241m0\u001b[39m:\n",
      "Cell \u001b[1;32mIn[58], line 3\u001b[0m, in \u001b[0;36mget_articles\u001b[1;34m(tree)\u001b[0m\n\u001b[0;32m      2\u001b[0m \u001b[38;5;28;01mdef\u001b[39;00m \u001b[38;5;21mget_articles\u001b[39m(tree):\n\u001b[1;32m----> 3\u001b[0m     articles \u001b[38;5;241m=\u001b[39m tree\u001b[38;5;241m.\u001b[39mfind_all(\u001b[38;5;124m'\u001b[39m\u001b[38;5;124mli\u001b[39m\u001b[38;5;124m'\u001b[39m, attrs\u001b[38;5;241m=\u001b[39m{\u001b[38;5;124m'\u001b[39m\u001b[38;5;124mclass\u001b[39m\u001b[38;5;124m'\u001b[39m: \u001b[38;5;124m'\u001b[39m\u001b[38;5;124mH-aer KHbz\u001b[39m\u001b[38;5;124m'\u001b[39m})\n\u001b[0;32m      4\u001b[0m     \u001b[38;5;28;01mreturn\u001b[39;00m articles\n",
      "\u001b[1;31mAttributeError\u001b[0m: 'coroutine' object has no attribute 'find_all'"
     ]
    }
   ],
   "source": [
    "start_time = time()\n",
    "save_every = 10\n",
    "for topic in fontanka_topics[:1]:\n",
    "    task = []\n",
    "    for link in links:\n",
    "            task = asyncio.create_task(try_request(link, error_links))\n",
    "            tasks.append(task)\n",
    "\n",
    "        await asyncio.gather(*tasks)\n",
    "\n",
    "    for i, link in enumerate(links):\n",
    "        tree = try_request(link, error_links)\n",
    "        if not tree:\n",
    "            continue\n",
    "        # tree = BeautifulSoup(response.content)\n",
    "        text = get_text(tree)\n",
    "        data = data._append({'content': text, 'url': link, 'topic': topic_index[topic]}, ignore_index=True)\n",
    "        if i % save_every == 0:\n",
    "            data.to_csv('fontanka.csv', index=False)\n",
    "print('working time is', time() - start_time)"
   ]
  },
  {
   "cell_type": "markdown",
   "metadata": {
    "id": "qO9RJaCbTy5H",
    "tags": []
   },
   "source": [
    "# ML"
   ]
  },
  {
   "cell_type": "markdown",
   "metadata": {
    "id": "5jsbIrOGAit3",
    "jp-MarkdownHeadingCollapsed": true,
    "tags": []
   },
   "source": [
    "## downloading"
   ]
  },
  {
   "cell_type": "code",
   "execution_count": 5,
   "metadata": {
    "id": "kuaYA8uGAit3",
    "outputId": "e207876a-51b0-4502-fd02-b0eec93db3b1",
    "tags": []
   },
   "outputs": [
    {
     "data": {
      "text/plain": [
       "topic\n",
       "4    9870\n",
       "6    8402\n",
       "7    8015\n",
       "Name: count, dtype: int64"
      ]
     },
     "execution_count": 5,
     "metadata": {},
     "output_type": "execute_result"
    }
   ],
   "source": [
    "fontanka = pd.read_csv('fontanka.csv')\n",
    "fontanka1 = pd.read_csv('fontanka1.csv')\n",
    "fontanka = fontanka[fontanka['topic'] != 7]\n",
    "fontanka = pd.concat([fontanka, fontanka1], ignore_index=True)\n",
    "fontanka = fontanka[~fontanka['content'].isna()]\n",
    "fontanka['topic'].value_counts()"
   ]
  },
  {
   "cell_type": "code",
   "execution_count": 6,
   "metadata": {
    "id": "jJqNEocsAit4",
    "tags": []
   },
   "outputs": [],
   "source": [
    "lenta = pd.read_csv('lenta_ru_news_2019_2023.csv/lenta_ru_news_2019_2023.csv')"
   ]
  },
  {
   "cell_type": "code",
   "execution_count": 7,
   "metadata": {
    "id": "cVq6gatiAit4",
    "tags": []
   },
   "outputs": [],
   "source": [
    "lenta = lenta.loc[:, ['url', 'text', 'topic']]\n",
    "lenta = lenta.query(\"topic in ['Россия', 'Экономика', 'Силовые структуры', 'Бывший СССР', 'Спорт', 'Наука и техника', 'Путешествия', 'Забота о себе']\")\n",
    "lenta['topic'] = lenta['topic'].replace(topic_index)"
   ]
  },
  {
   "cell_type": "code",
   "execution_count": 8,
   "metadata": {
    "id": "B8_FjU1tAit5",
    "tags": []
   },
   "outputs": [],
   "source": [
    "lenta_with_right_cols = lenta.loc[:, ['text', 'url', 'topic']]\n",
    "lenta_with_right_cols.columns = fontanka.columns\n",
    "df = pd.concat([lenta_with_right_cols, fontanka], ignore_index=True)"
   ]
  },
  {
   "cell_type": "code",
   "execution_count": 9,
   "metadata": {
    "id": "S6_JZJN8Ait5",
    "outputId": "58277f06-0172-487d-ba52-189aae8e8054",
    "tags": []
   },
   "outputs": [
    {
     "data": {
      "text/plain": [
       "content    0\n",
       "url        0\n",
       "topic      0\n",
       "dtype: int64"
      ]
     },
     "execution_count": 9,
     "metadata": {},
     "output_type": "execute_result"
    }
   ],
   "source": [
    "df.isna().sum()"
   ]
  },
  {
   "cell_type": "code",
   "execution_count": 10,
   "metadata": {
    "id": "kA5ZsAEtAit5",
    "outputId": "1dc460cc-2683-4bd4-95ce-c86f25c4d410",
    "tags": []
   },
   "outputs": [
    {
     "data": {
      "text/plain": [
       "topic\n",
       "0    96717\n",
       "3    51071\n",
       "1    48980\n",
       "4    38312\n",
       "2    30249\n",
       "7    27323\n",
       "8    25209\n",
       "6     8402\n",
       "5     7589\n",
       "Name: count, dtype: int64"
      ]
     },
     "execution_count": 10,
     "metadata": {},
     "output_type": "execute_result"
    }
   ],
   "source": [
    "df['topic'].value_counts()"
   ]
  },
  {
   "cell_type": "code",
   "execution_count": 11,
   "metadata": {
    "id": "v2YaZIf1Ait6",
    "outputId": "b58de9fc-e899-4bc8-9efa-a7045d55a4c4",
    "tags": []
   },
   "outputs": [
    {
     "data": {
      "text/plain": [
       "0         0\n",
       "1         0\n",
       "2         1\n",
       "3         0\n",
       "4         0\n",
       "         ..\n",
       "333847    1\n",
       "333848    1\n",
       "333849    1\n",
       "333850    1\n",
       "333851    1\n",
       "Name: topic, Length: 333852, dtype: int32"
      ]
     },
     "execution_count": 11,
     "metadata": {},
     "output_type": "execute_result"
    }
   ],
   "source": [
    "(df['topic'] != 0).astype(int)"
   ]
  },
  {
   "cell_type": "code",
   "execution_count": 12,
   "metadata": {
    "id": "b0tI_iFcAit6",
    "tags": []
   },
   "outputs": [],
   "source": [
    "df2 = df[np.array([list((df['topic'] != 0)), [randint(1, 10) > 4 for i in range(len(df))]]).T.any(axis=1)]"
   ]
  },
  {
   "cell_type": "code",
   "execution_count": 13,
   "metadata": {
    "id": "GqTZwQNPAit7",
    "outputId": "bdbfca58-7372-409e-dec1-84e745260d14",
    "tags": []
   },
   "outputs": [
    {
     "data": {
      "text/plain": [
       "topic\n",
       "0    58066\n",
       "3    51071\n",
       "1    48980\n",
       "4    38312\n",
       "2    30249\n",
       "7    27323\n",
       "8    25209\n",
       "6     8402\n",
       "5     7589\n",
       "Name: count, dtype: int64"
      ]
     },
     "execution_count": 13,
     "metadata": {},
     "output_type": "execute_result"
    }
   ],
   "source": [
    "df2.topic.value_counts()"
   ]
  },
  {
   "cell_type": "code",
   "execution_count": 14,
   "metadata": {
    "id": "0tRfg8q1Ait7",
    "tags": []
   },
   "outputs": [],
   "source": [
    "X = df['content']\n",
    "y = df['topic']"
   ]
  },
  {
   "cell_type": "code",
   "execution_count": 15,
   "metadata": {
    "colab": {
     "base_uri": "https://localhost:8080/"
    },
    "id": "YUDGKS0VQFFE",
    "outputId": "9237c2c3-c79f-4e6e-cfb6-2482a0a345ed",
    "tags": []
   },
   "outputs": [
    {
     "data": {
      "text/plain": [
       "((300466,), (33386,))"
      ]
     },
     "execution_count": 15,
     "metadata": {},
     "output_type": "execute_result"
    }
   ],
   "source": [
    "X_train, X_test, y_train, y_test = train_test_split(X, y, test_size=0.1, random_state=42, shuffle=True)\n",
    "X_train.shape, X_test.shape"
   ]
  },
  {
   "cell_type": "code",
   "execution_count": 16,
   "metadata": {
    "id": "8OZpOs75Ait8",
    "tags": []
   },
   "outputs": [],
   "source": [
    "X2 = df2['content']\n",
    "y2 = df2['topic']"
   ]
  },
  {
   "cell_type": "code",
   "execution_count": 17,
   "metadata": {
    "id": "cY1XWm9LAit8",
    "tags": []
   },
   "outputs": [],
   "source": [
    "X_train2, X_test2, y_train2, y_test2 = train_test_split(X2, y2, test_size=0.1, random_state=42, shuffle=True)"
   ]
  },
  {
   "cell_type": "markdown",
   "metadata": {
    "id": "hxR8-CdkAit9",
    "tags": []
   },
   "source": [
    "## tf-idf (best solution)"
   ]
  },
  {
   "cell_type": "markdown",
   "metadata": {
    "id": "n2cwmh9mAit9",
    "tags": []
   },
   "source": [
    "### all data"
   ]
  },
  {
   "cell_type": "code",
   "execution_count": 48,
   "metadata": {
    "colab": {
     "base_uri": "https://localhost:8080/"
    },
    "id": "RqiERmi-PCS4",
    "outputId": "0e6b60bf-d391-4813-b63c-576dc5d4bfb5",
    "tags": []
   },
   "outputs": [
    {
     "name": "stdout",
     "output_type": "stream",
     "text": [
      "(300466, 42333)\n",
      "00:06:19\n"
     ]
    }
   ],
   "source": [
    "start_time = time()\n",
    "tfidf = TfidfVectorizer(ngram_range=(1, 2), max_df=0.80, min_df=0.0006)\n",
    "tfidf.fit(X_train)\n",
    "\n",
    "tf_idf_train = tfidf.transform(X_train)\n",
    "tf_idf_test = tfidf.transform(X_test)\n",
    "print(tf_idf_train.shape)\n",
    "print(working_time(start_time))"
   ]
  },
  {
   "cell_type": "code",
   "execution_count": 49,
   "metadata": {
    "id": "DoOBKrrAAit-",
    "tags": []
   },
   "outputs": [],
   "source": [
    "scaler = MaxAbsScaler()\n",
    "\n",
    "scaler.fit(tf_idf_train)\n",
    "\n",
    "normed_train = scaler.transform(tf_idf_train)\n",
    "normed_test = scaler.transform(tf_idf_test)"
   ]
  },
  {
   "cell_type": "code",
   "execution_count": 50,
   "metadata": {
    "colab": {
     "base_uri": "https://localhost:8080/"
    },
    "id": "OO7Uu_VPRmR5",
    "outputId": "050a808f-9d7d-41ec-8799-68fdcb69c0a1",
    "tags": []
   },
   "outputs": [
    {
     "name": "stderr",
     "output_type": "stream",
     "text": [
      "D:\\anaconda\\Lib\\site-packages\\sklearn\\linear_model\\_logistic.py:460: ConvergenceWarning: lbfgs failed to converge (status=1):\n",
      "STOP: TOTAL NO. of ITERATIONS REACHED LIMIT.\n",
      "\n",
      "Increase the number of iterations (max_iter) or scale the data as shown in:\n",
      "    https://scikit-learn.org/stable/modules/preprocessing.html\n",
      "Please also refer to the documentation for alternative solver options:\n",
      "    https://scikit-learn.org/stable/modules/linear_model.html#logistic-regression\n",
      "  n_iter_i = _check_optimize_result(\n"
     ]
    },
    {
     "name": "stdout",
     "output_type": "stream",
     "text": [
      "0.9912835395685369 0.9260767986581202\n",
      "00:05:05\n"
     ]
    }
   ],
   "source": [
    "start_time = time()\n",
    "lr_tf_idf = LogisticRegression(max_iter=300)\n",
    "lr_tf_idf.fit(normed_train, y_train)\n",
    "\n",
    "lr_train_pred = lr_tf_idf.predict(normed_train)\n",
    "lr_test_pred = lr_tf_idf.predict(normed_test)\n",
    "\n",
    "print(accuracy_score(y_train, lr_train_pred), accuracy_score(y_test, lr_test_pred))\n",
    "print(working_time(start_time))"
   ]
  },
  {
   "cell_type": "markdown",
   "metadata": {
    "id": "SZJ2mm0vAit_",
    "jp-MarkdownHeadingCollapsed": true,
    "tags": []
   },
   "source": [
    "### data without 40% of 0 topic"
   ]
  },
  {
   "cell_type": "code",
   "execution_count": 80,
   "metadata": {
    "id": "DIpPC9XtAit_",
    "outputId": "c90b954a-2beb-40a0-a4f8-7de0b29dbef4",
    "tags": []
   },
   "outputs": [
    {
     "name": "stdout",
     "output_type": "stream",
     "text": [
      "(265517, 81266)\n",
      "00:03:47\n"
     ]
    }
   ],
   "source": [
    "start_time = time()\n",
    "tfidf2 = TfidfVectorizer(ngram_range=(1, 2), max_df=0.80, min_df=0.0003)\n",
    "tfidf2.fit(X_train2)\n",
    "\n",
    "tf_idf_train2 = tfidf2.transform(X_train2)\n",
    "tf_idf_test2 = tfidf2.transform(X_test2)\n",
    "print(tf_idf_train2.shape)\n",
    "print(working_time(start_time))"
   ]
  },
  {
   "cell_type": "code",
   "execution_count": 89,
   "metadata": {
    "id": "bln9tVe9AiuA",
    "tags": []
   },
   "outputs": [],
   "source": [
    "scaler2 = MaxAbsScaler()\n",
    "\n",
    "scaler2.fit(tf_idf_train2)\n",
    "\n",
    "normed_train2 = scaler2.transform(tf_idf_train2)\n",
    "normed_test2 = scaler2.transform(tf_idf_test2)\n",
    "normed_train2 = tf_idf_train2\n",
    "normed_test2 = tf_idf_test2"
   ]
  },
  {
   "cell_type": "code",
   "execution_count": 90,
   "metadata": {
    "id": "WlWMDZ2sAiuA",
    "outputId": "cfd2b9d3-6671-42cb-ff9f-4fcb14c3a24c",
    "tags": []
   },
   "outputs": [
    {
     "name": "stdout",
     "output_type": "stream",
     "text": [
      "0.95740009114294 0.9345129143786862\n",
      "00:11:01\n"
     ]
    }
   ],
   "source": [
    "start_time = time()\n",
    "lr_tf_idf2 = LogisticRegression(max_iter=400, n_jobs=-1)\n",
    "lr_tf_idf2.fit(normed_train2, y_train2)\n",
    "\n",
    "lr_train_pred2 = lr_tf_idf2.predict(normed_train2)\n",
    "lr_test_pred2 = lr_tf_idf2.predict(normed_test2)\n",
    "\n",
    "print(accuracy_score(y_train2, lr_train_pred2), accuracy_score(y_test2, lr_test_pred2))\n",
    "print(working_time(start_time))"
   ]
  },
  {
   "cell_type": "code",
   "execution_count": 86,
   "metadata": {
    "id": "BEHgL6WjAiuA",
    "outputId": "e25d32f0-9df6-435f-a115-eb346ad7800b",
    "tags": []
   },
   "outputs": [
    {
     "data": {
      "image/png": "[encoded data removed]",
      "text/plain": [
       "<Figure size 640x480 with 2 Axes>"
      ]
     },
     "metadata": {},
     "output_type": "display_data"
    },
    {
     "data": {
      "image/png": "[encoded data removed]",
      "text/plain": [
       "<Figure size 640x480 with 2 Axes>"
      ]
     },
     "metadata": {},
     "output_type": "display_data"
    }
   ],
   "source": [
    "import numpy as np\n",
    "from sklearn.metrics import confusion_matrix\n",
    "import seaborn as sns\n",
    "import matplotlib.pyplot as plt\n",
    "\n",
    "cm = confusion_matrix(y_test2, lr_test_pred2)\n",
    "cm_normed = cm / cm.sum(axis=1)\n",
    "\n",
    "sns.heatmap(cm_normed,\n",
    "\t\t\tannot=True,\n",
    "            cmap = \"tab20\"\n",
    "           )\n",
    "plt.ylabel('Prediction',fontsize=13)\n",
    "plt.xlabel('Actual',fontsize=13)\n",
    "plt.title('Confusion Matrix',fontsize=17)\n",
    "plt.show()\n",
    "\n",
    "\n",
    "sns.heatmap(cm_normed,\n",
    "\t\t\tannot=True\n",
    "           )\n",
    "plt.ylabel('Prediction',fontsize=13)\n",
    "plt.xlabel('Actual',fontsize=13)\n",
    "plt.title('Confusion Matrix',fontsize=17)\n",
    "plt.show()"
   ]
  },
  {
   "cell_type": "markdown",
   "metadata": {
    "id": "qYyqHDuEAiuB",
    "jp-MarkdownHeadingCollapsed": true,
    "tags": []
   },
   "source": [
    "### send to kaggle"
   ]
  },
  {
   "cell_type": "code",
   "execution_count": 76,
   "metadata": {
    "id": "znoG5aK5AiuB",
    "outputId": "f80b9924-07e2-44b8-8a6f-6a6722f52bc9",
    "tags": []
   },
   "outputs": [],
   "source": [
    "tf_idf_test2 = tfidf2.transform(kaggle_df.content)\n",
    "normed_test2 = scaler2.transform(tf_idf_test2)\n",
    "lr_test_pred2 = lr_tf_idf2.predict(normed_test2)"
   ]
  },
  {
   "cell_type": "code",
   "execution_count": 77,
   "metadata": {
    "id": "bYnS-iajAiuC",
    "tags": []
   },
   "outputs": [],
   "source": [
    "res_df = pd.DataFrame(np.array([lr_test_pred2, np.arange(lr_test_pred2.size)]).T)"
   ]
  },
  {
   "cell_type": "code",
   "execution_count": 78,
   "metadata": {
    "id": "L7sSqKGDAiuC",
    "tags": []
   },
   "outputs": [],
   "source": [
    "res_df.columns = ['topic', 'index']"
   ]
  },
  {
   "cell_type": "code",
   "execution_count": 79,
   "metadata": {
    "id": "mhGTFUpgAiuC",
    "tags": []
   },
   "outputs": [],
   "source": [
    "res_df.to_csv('tf-idf_lr_scaler_9349.csv', index=False)"
   ]
  },
  {
   "cell_type": "markdown",
   "metadata": {
    "id": "pnlyRLfaAiuD",
    "tags": []
   },
   "source": [
    "## CountVectorizer"
   ]
  },
  {
   "cell_type": "code",
   "execution_count": 39,
   "metadata": {
    "id": "8ZEXZZV0AiuD",
    "outputId": "a6fa77c4-2ec8-4532-f413-7e54708d470e",
    "tags": []
   },
   "outputs": [
    {
     "name": "stdout",
     "output_type": "stream",
     "text": [
      "00:01:25 (236015, 4982) (66771, 4982)\n"
     ]
    }
   ],
   "source": [
    "start_time = time()\n",
    "vectorizer = CountVectorizer(max_df=0.7, min_df=0.004)\n",
    "\n",
    "X_vec_train = vectorizer.fit_transform(X_train2).toarray()\n",
    "X_vec_test = vectorizer.transform(X_test).toarray()\n",
    "\n",
    "print(working_time(start_time), X_vec_train.shape, X_vec_test.shape)"
   ]
  },
  {
   "cell_type": "code",
   "execution_count": 41,
   "metadata": {
    "id": "jDIVKv93AiuD",
    "tags": []
   },
   "outputs": [
    {
     "name": "stderr",
     "output_type": "stream",
     "text": [
      "D:\\anaconda\\Lib\\site-packages\\sklearn\\linear_model\\_logistic.py:460: ConvergenceWarning: lbfgs failed to converge (status=1):\n",
      "STOP: TOTAL NO. of ITERATIONS REACHED LIMIT.\n",
      "\n",
      "Increase the number of iterations (max_iter) or scale the data as shown in:\n",
      "    https://scikit-learn.org/stable/modules/preprocessing.html\n",
      "Please also refer to the documentation for alternative solver options:\n",
      "    https://scikit-learn.org/stable/modules/linear_model.html#logistic-regression\n",
      "  n_iter_i = _check_optimize_result(\n"
     ]
    },
    {
     "name": "stdout",
     "output_type": "stream",
     "text": [
      "0.9426222909560833 0.9236195354270567\n",
      "00:08:37\n"
     ]
    }
   ],
   "source": [
    "start_time = time()\n",
    "lr_cv = LogisticRegression(max_iter=100)\n",
    "lr_cv.fit(X_vec_train, y_train2)\n",
    "\n",
    "lr_train_pred = lr_cv.predict(X_vec_train)\n",
    "lr_test_pred = lr_cv.predict(X_vec_test)\n",
    "\n",
    "print(accuracy_score(y_train2, lr_train_pred), accuracy_score(y_test, lr_test_pred))\n",
    "print(working_time(start_time))"
   ]
  }
 ],
 "metadata": {
  "colab": {
   "provenance": []
  },
  "kaggle": {
   "accelerator": "none",
   "dataSources": [
    {
     "databundleVersionId": 7343125,
     "sourceId": 66532,
     "sourceType": "competition"
    }
   ],
   "dockerImageVersionId": 30626,
   "isGpuEnabled": false,
   "isInternetEnabled": true,
   "language": "python",
   "sourceType": "notebook"
  },
  "kernelspec": {
   "display_name": "Python 3 (ipykernel)",
   "language": "python",
   "name": "python3"
  },
  "language_info": {
   "codemirror_mode": {
    "name": "ipython",
    "version": 3
   },
   "file_extension": ".py",
   "mimetype": "text/x-python",
   "name": "python",
   "nbconvert_exporter": "python",
   "pygments_lexer": "ipython3",
   "version": "3.11.5"
  }
 },
 "nbformat": 4,
 "nbformat_minor": 4
}
