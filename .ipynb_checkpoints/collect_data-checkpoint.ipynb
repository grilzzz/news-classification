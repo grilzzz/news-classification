{
 "cells": [
  {
   "cell_type": "code",
   "execution_count": null,
   "metadata": {},
   "outputs": [],
   "source": [
    "!pip install selenium"
   ]
  },
  {
   "cell_type": "code",
   "execution_count": 1,
   "metadata": {
    "_cell_guid": "b1076dfc-b9ad-4769-8c92-a6c4dae69d19",
    "_uuid": "8f2839f25d086af736a60e9eeb907d3b93b6e0e5",
    "id": "tLadh_VKEgEh",
    "tags": []
   },
   "outputs": [],
   "source": [
    "import numpy as np\n",
    "import pandas as pd\n",
    "import requests\n",
    "from time import sleep, time\n",
    "from random import randint\n",
    "from bs4 import BeautifulSoup\n",
    "from selenium import webdriver\n",
    "from selenium.webdriver import FirefoxOptions\n",
    "from selenium.webdriver.common.by import By\n",
    "from selenium.webdriver.support.ui import WebDriverWait\n",
    "from selenium.webdriver.support import expected_conditions as EC\n",
    "from sklearn.metrics import accuracy_score"
   ]
  },
  {
   "cell_type": "markdown",
   "metadata": {
    "id": "e8qJqN0ASduZ",
    "tags": []
   },
   "source": [
    "# prepare\n"
   ]
  },
  {
   "cell_type": "markdown",
   "metadata": {
    "id": "cgkTkshNEgEl"
   },
   "source": [
    "* 'Общество/Россия' : 0 - рбк(общество)/лента(россия)\n",
    "* 'Экономика' : 1 - рбк/лента\n",
    "* 'Силовые структуры' : 2  - лента\n",
    "* 'Бывший СССР' : 3 - лента\n",
    "* 'Спорт' : 4 - лента, фонтанка\n",
    "* 'Забота о себе' : 5 - лента\n",
    "* 'Строительство' : 6 - фонтанка\n",
    "* 'Туризм/Путешествия' : 7 - лента/фонтанка\n",
    "* 'Наука и техника' : 8 - лента"
   ]
  },
  {
   "cell_type": "code",
   "execution_count": 2,
   "metadata": {
    "id": "aAZmcRZaEgEm",
    "tags": []
   },
   "outputs": [],
   "source": [
    "rbc_link = 'https://www.rbc.ru/'\n",
    "lenta_link = 'https://lenta.ru/rubrics/'\n",
    "\n",
    "rbc_topics = ['society', 'economics']\n",
    "lenta_topics = ['russia', 'forces', 'ussr', 'sport', 'wellness', 'travel', 'science']\n",
    "fontanka_topics = ['stroy', 'sport', 'turizm']\n",
    "\n",
    "topic_index = {\n",
    "    'society' : 0, 'russia': 0,\n",
    "    'economics' : 1,\n",
    "    'forces': 2,\n",
    "    'ussr' : 3,\n",
    "    'sport' : 4,\n",
    "    'wellness' : 5,\n",
    "    'stroy': 6,\n",
    "    'travel': 7, 'turizm': 7,\n",
    "    'science': 8\n",
    "}\n",
    "\n",
    "error_links = []"
   ]
  },
  {
   "cell_type": "markdown",
   "metadata": {
    "id": "_B9exkupEgEn",
    "jp-MarkdownHeadingCollapsed": true,
    "tags": []
   },
   "source": [
    "# rbc parse"
   ]
  },
  {
   "cell_type": "code",
   "execution_count": null,
   "metadata": {
    "execution": {
     "iopub.execute_input": "2023-12-27T08:53:11.193535Z",
     "iopub.status.busy": "2023-12-27T08:53:11.192539Z",
     "iopub.status.idle": "2023-12-27T08:53:11.203593Z",
     "shell.execute_reply": "2023-12-27T08:53:11.202322Z",
     "shell.execute_reply.started": "2023-12-27T08:53:11.193477Z"
    },
    "id": "y5ilFH7fEgEn"
   },
   "outputs": [],
   "source": [
    "def create_webdriver():\n",
    "    opts = FirefoxOptions()\n",
    "    opts.add_argument('--headless')\n",
    "    return webdriver.Firefox(options=opts)"
   ]
  },
  {
   "cell_type": "code",
   "execution_count": null,
   "metadata": {
    "execution": {
     "iopub.execute_input": "2023-12-27T08:53:11.207072Z",
     "iopub.status.busy": "2023-12-27T08:53:11.206638Z",
     "iopub.status.idle": "2023-12-27T08:53:11.214261Z",
     "shell.execute_reply": "2023-12-27T08:53:11.213364Z",
     "shell.execute_reply.started": "2023-12-27T08:53:11.207009Z"
    },
    "id": "biDhLdc0EgEo"
   },
   "outputs": [],
   "source": [
    "def scroll_page(link):\n",
    "    driver = create_webdriver()\n",
    "    driver.get(link)\n",
    "    scroll_pause = 0.2\n",
    "    last_height = driver.execute_script(\"return document.body.scrollHeight\")\n",
    "    while last_height < 33474:\n",
    "        driver.execute_script(\"window.scrollTo(0, document.body.scrollHeight);\")\n",
    "        sleep(scroll_pause)\n",
    "        new_height = driver.execute_script(\"return document.body.scrollHeight\")\n",
    "        print(new_height)\n",
    "        last_height = new_height\n",
    "    return driver.page_source"
   ]
  },
  {
   "cell_type": "code",
   "execution_count": null,
   "metadata": {
    "execution": {
     "iopub.execute_input": "2023-12-27T08:53:11.216716Z",
     "iopub.status.busy": "2023-12-27T08:53:11.215945Z",
     "iopub.status.idle": "2023-12-27T08:53:11.229661Z",
     "shell.execute_reply": "2023-12-27T08:53:11.228236Z",
     "shell.execute_reply.started": "2023-12-27T08:53:11.216681Z"
    },
    "id": "Sj0hwhlrEgEo"
   },
   "outputs": [],
   "source": [
    "def get_text_from_article(link):\n",
    "    request = requests.get(link)\n",
    "    tree = BeautifulSoup(request.content)\n",
    "    div_with_text = tree.body.find_all('div', attrs = {'class': 'l-window'})[1].find('div').find('div').find('div').find('div', attrs = {'class': 'js-rbcslider'}).find('div').find('div', attrs={'class': \"article g-relative js-rbcslider-article\"}).find('div').find('div').find('div', attrs={'class': 'article__text'})\n",
    "    for i in div_with_text.select('div'):\n",
    "        i.decompose()\n",
    "    raw_text = div_with_text.find_all('p')\n",
    "    return '\\n'.join([p.text for p in raw_text])"
   ]
  },
  {
   "cell_type": "code",
   "execution_count": null,
   "metadata": {
    "execution": {
     "iopub.execute_input": "2023-12-27T08:53:11.231581Z",
     "iopub.status.busy": "2023-12-27T08:53:11.231168Z",
     "iopub.status.idle": "2023-12-27T08:53:11.240006Z",
     "shell.execute_reply": "2023-12-27T08:53:11.238704Z",
     "shell.execute_reply.started": "2023-12-27T08:53:11.231534Z"
    },
    "id": "V0YsYsieEgEp"
   },
   "outputs": [],
   "source": [
    "def rbc_get_topics_links(news):\n",
    "    links = []\n",
    "    for post in news:\n",
    "        links.append(post.find('div', attrs = {'class': 'item__wrap'}).a.get('href'))\n",
    "    return links"
   ]
  },
  {
   "cell_type": "code",
   "execution_count": null,
   "metadata": {
    "collapsed": true,
    "execution": {
     "iopub.execute_input": "2023-12-27T08:53:11.673803Z",
     "iopub.status.busy": "2023-12-27T08:53:11.673340Z",
     "iopub.status.idle": "2023-12-27T09:04:32.347972Z",
     "shell.execute_reply": "2023-12-27T09:04:32.346456Z",
     "shell.execute_reply.started": "2023-12-27T08:53:11.673763Z"
    },
    "id": "428tF1l6EgEp",
    "jupyter": {
     "outputs_hidden": true
    }
   },
   "outputs": [],
   "source": [
    "start_time = time()\n",
    "\n",
    "for topic in rbc_topics:\n",
    "    response = scroll_page(rbc_link + topic)\n",
    "    tree = BeautifulSoup(response)\n",
    "    news = tree.body.find_all('div', attrs = {'class': 'l-window'})[1].find('div', attrs = {'class': 'g-relative g-clear'}).find('div', attrs = {'class': 'l-col-container'}).find('div', attrs = {'class': 'l-table'}).find('div', attrs = {'class': 'g-relative'}).find('div', attrs = {'class': 'l-table'}).find('main').find('div', attrs = {'class': 'g-overflow'}).find('div', attrs = {'class': 'l-row'}).find_all('div', attrs = {'class': 'item'})\n",
    "    print(len(news))\n",
    "    print('end time is', time() - start_time)\n",
    "    for i, link in enumerate(rbc_get_topics_links(news)):\n",
    "        print(f'{i} link of {topic}')\n",
    "        text = get_text_from_article(link)\n",
    "        X_train = X_train._append({'content': text}, ignore_index=True)\n",
    "        y_train = y_train._append({'topic': topic_index[topic]}, ignore_index=True)"
   ]
  },
  {
   "cell_type": "code",
   "execution_count": null,
   "metadata": {
    "execution": {
     "iopub.execute_input": "2023-12-27T09:12:59.201349Z",
     "iopub.status.busy": "2023-12-27T09:12:59.200884Z",
     "iopub.status.idle": "2023-12-27T09:12:59.266073Z",
     "shell.execute_reply": "2023-12-27T09:12:59.265033Z",
     "shell.execute_reply.started": "2023-12-27T09:12:59.201293Z"
    },
    "id": "FlzkQtN1EgEp"
   },
   "outputs": [],
   "source": [
    "X_train.to_csv('rbc_X.csv', index=False)\n",
    "y_train.to_csv('rbc_y.csv', index=False)"
   ]
  },
  {
   "cell_type": "markdown",
   "metadata": {
    "id": "QZlQr7NvEgEq",
    "jp-MarkdownHeadingCollapsed": true,
    "tags": []
   },
   "source": [
    "# lenta parse"
   ]
  },
  {
   "cell_type": "code",
   "execution_count": null,
   "metadata": {},
   "outputs": [],
   "source": [
    "X_train = pd.DataFrame()\n",
    "y_train = pd.DataFrame()"
   ]
  },
  {
   "cell_type": "code",
   "execution_count": 16,
   "metadata": {
    "execution": {
     "iopub.execute_input": "2023-12-27T20:50:01.401184Z",
     "iopub.status.busy": "2023-12-27T20:50:01.400680Z",
     "iopub.status.idle": "2023-12-27T20:50:01.407638Z",
     "shell.execute_reply": "2023-12-27T20:50:01.406784Z",
     "shell.execute_reply.started": "2023-12-27T20:50:01.401146Z"
    },
    "id": "6JMhh8IHEgEq"
   },
   "outputs": [],
   "source": [
    "def lenta_get_topics_links(news):\n",
    "    links = []\n",
    "    for post in news:\n",
    "        links.append(post.find('div', attrs = {'class': 'item__wrap'}).a.get('href'))\n",
    "    return links"
   ]
  },
  {
   "cell_type": "code",
   "execution_count": 17,
   "metadata": {
    "execution": {
     "iopub.execute_input": "2023-12-27T20:50:01.881007Z",
     "iopub.status.busy": "2023-12-27T20:50:01.879562Z",
     "iopub.status.idle": "2023-12-27T20:50:01.890381Z",
     "shell.execute_reply": "2023-12-27T20:50:01.887425Z",
     "shell.execute_reply.started": "2023-12-27T20:50:01.880948Z"
    },
    "id": "J9WgzW_pEgEq"
   },
   "outputs": [],
   "source": [
    "def get_topic_links(tree):\n",
    "    raw_topics = tree.body \\\n",
    "    .find('div', attrs={'class': 'layout js-layout'}) \\\n",
    "    .find('div', attrs={'class': 'layout__container'}) \\\n",
    "    .main \\\n",
    "    .find('div', attrs={'class': 'rubric-page'}) \\\n",
    "    .find('div', attrs={'class': 'rubric-header'}) \\\n",
    "    .find('div', attrs={'rubric-header__container'}) \\\n",
    "    .find_all('a')[1:]\n",
    "    return ['https://lenta.ru' + raw_topic.get('href') for raw_topic in raw_topics]\n"
   ]
  },
  {
   "cell_type": "code",
   "execution_count": 18,
   "metadata": {
    "execution": {
     "iopub.execute_input": "2023-12-27T20:50:02.424278Z",
     "iopub.status.busy": "2023-12-27T20:50:02.423756Z",
     "iopub.status.idle": "2023-12-27T20:50:02.433966Z",
     "shell.execute_reply": "2023-12-27T20:50:02.431354Z",
     "shell.execute_reply.started": "2023-12-27T20:50:02.424237Z"
    },
    "id": "2_7YsOxkEgEq"
   },
   "outputs": [],
   "source": [
    "def get_article_link(tree):\n",
    "    raw_topics = tree.body \\\n",
    "    .find('div', attrs={'class': 'layout js-layout'}) \\\n",
    "    .find('div', attrs={'class': 'layout__container'}) \\\n",
    "    .main \\\n",
    "    .find('div', attrs={'class': 'rubric-page'}) \\\n",
    "    .find('section', attrs={'class': 'rubric-page__section'}) \\\n",
    "    .ul \\\n",
    "    .find_all('li')\n",
    "    links = ['https://lenta.ru' + raw_topic.a.get('href') for raw_topic in raw_topics]\n",
    "    return links"
   ]
  },
  {
   "cell_type": "code",
   "execution_count": 19,
   "metadata": {
    "execution": {
     "iopub.execute_input": "2023-12-27T20:50:02.851086Z",
     "iopub.status.busy": "2023-12-27T20:50:02.850505Z",
     "iopub.status.idle": "2023-12-27T20:50:02.857188Z",
     "shell.execute_reply": "2023-12-27T20:50:02.856019Z",
     "shell.execute_reply.started": "2023-12-27T20:50:02.851031Z"
    },
    "id": "1StOaXnEEgEr"
   },
   "outputs": [],
   "source": [
    "def get_text(tree):\n",
    "    try:\n",
    "        raw_text = tree.body \\\n",
    "        .find('div', attrs={'class': 'layout'}) \\\n",
    "        .find('div', attrs={'class': 'layout__container'}) \\\n",
    "        .main \\\n",
    "        .find('div', attrs={'class': 'topic-page__wrap'}) \\\n",
    "        .find('div', attrs={'class': 'topic-page'}) \\\n",
    "        .div \\\n",
    "        .find('div', attrs={'class': 'topic-page__content'}) \\\n",
    "        .div \\\n",
    "        .find('div', attrs={'class': 'topic-body__content'}) \\\n",
    "        .find_all('p')\n",
    "        text = '\\n'.join([i.text for i in raw_text])\n",
    "    except:\n",
    "        return False\n",
    "    return text\n"
   ]
  },
  {
   "cell_type": "code",
   "execution_count": 20,
   "metadata": {
    "execution": {
     "iopub.execute_input": "2023-12-27T20:50:03.767747Z",
     "iopub.status.busy": "2023-12-27T20:50:03.767272Z",
     "iopub.status.idle": "2023-12-27T20:50:03.775118Z",
     "shell.execute_reply": "2023-12-27T20:50:03.773379Z",
     "shell.execute_reply.started": "2023-12-27T20:50:03.767709Z"
    },
    "id": "7mjyPKgZEgEr"
   },
   "outputs": [],
   "source": [
    "def try_request(link):\n",
    "    try:\n",
    "        return requests.get(link)\n",
    "    except:\n",
    "        return False"
   ]
  },
  {
   "cell_type": "code",
   "execution_count": 21,
   "metadata": {
    "execution": {
     "iopub.execute_input": "2023-12-27T20:50:05.169788Z",
     "iopub.status.busy": "2023-12-27T20:50:05.167779Z",
     "iopub.status.idle": "2023-12-27T20:50:05.179963Z",
     "shell.execute_reply": "2023-12-27T20:50:05.177609Z",
     "shell.execute_reply.started": "2023-12-27T20:50:05.169683Z"
    },
    "id": "khus6XoFEgEr"
   },
   "outputs": [],
   "source": [
    "def check_response(response, mega_topic, X_train, y_train):\n",
    "    if not response:\n",
    "        print('skipped', mega_topic)\n",
    "        return False\n",
    "    if response.status_code // 100 != 2:\n",
    "        print(f'error in {mega_topic}')\n",
    "        return False\n",
    "    return True"
   ]
  },
  {
   "cell_type": "code",
   "execution_count": null,
   "metadata": {
    "execution": {
     "iopub.execute_input": "2023-12-27T20:55:20.288500Z",
     "iopub.status.busy": "2023-12-27T20:55:20.287649Z",
     "iopub.status.idle": "2023-12-27T20:57:18.631281Z",
     "shell.execute_reply": "2023-12-27T20:57:18.629988Z",
     "shell.execute_reply.started": "2023-12-27T20:55:20.288463Z"
    },
    "id": "KoG80S3YEgEr"
   },
   "outputs": [],
   "source": [
    "last_add = 0\n",
    "start_time = time()\n",
    "c = 0\n",
    "\n",
    "\n",
    "\n",
    "def parse_lenta(mega_topic, topic_index=topic_index, lenta_link=lenta_link, X_train=X_train, y_train=y_train, c=c, start_time=start_time, last_add=last_add):\n",
    "    response = try_request(lenta_link + mega_topic)\n",
    "    if not check_response(response, mega_topic, X_train, y_train):\n",
    "        return [X_train, y_train]\n",
    "    tree = BeautifulSoup(response.content)\n",
    "    topic_links = get_topic_links(tree)\n",
    "    for topic_link in topic_links:\n",
    "        response = try_request(topic_link)\n",
    "        if not check_response(response, mega_topic, X_train, y_train):\n",
    "            continue\n",
    "        tree = BeautifulSoup(response.content)\n",
    "        if len(tree.find_all('img')) > 20:\n",
    "            new_topic = topic_link[topic_link[:-1].rfind('/')+1:-1]\n",
    "            topic_index[new_topic] = topic_index[mega_topic]\n",
    "            X_train, y_train = parse_lenta(mega_topic=new_topic, X_train=X_train, y_train=y_train)\n",
    "            continue\n",
    "        links = get_article_link(tree)\n",
    "        for i, link in enumerate(links[:-1]):\n",
    "            print(i, mega_topic, topic_link, link)\n",
    "            response = try_request(link)\n",
    "            if not check_response(response, mega_topic, X_train, y_train):\n",
    "                continue\n",
    "            tree = BeautifulSoup(response.content)\n",
    "            text = get_text(tree)\n",
    "            if not text:\n",
    "                print('skipped', 1, mega_topic, topic_link, link)\n",
    "                continue\n",
    "            X_train = X_train._append({'content': text}, ignore_index=True)\n",
    "            y_train = y_train._append({'topic': topic_index[mega_topic]}, ignore_index=True)\n",
    "            c += 1\n",
    "        print(f'added {c - last_add} articles from {topic_link}!!!')\n",
    "        print('pass', time() - start_time, 'sec')\n",
    "        last_add = c\n",
    "        X_train.to_csv('lenta_X.csv', index=False)\n",
    "        y_train.to_csv('lenta_y.csv', index=False)\n",
    "    return [X_train, y_train]\n",
    "\n",
    "\n",
    "\n",
    "for mega_topic in lenta_topics:\n",
    "    X_train, y_train = parse_lenta(mega_topic=mega_topic, X_train=X_train, y_train=y_train)"
   ]
  },
  {
   "cell_type": "code",
   "execution_count": 27,
   "metadata": {
    "colab": {
     "base_uri": "https://localhost:8080/"
    },
    "id": "hzY8klG9ij_i",
    "outputId": "ce8476fe-d217-4ba3-9fa8-2ae73fb49398"
   },
   "outputs": [
    {
     "data": {
      "text/plain": [
       "topic\n",
       "0        599\n",
       "8        330\n",
       "4        217\n",
       "3        180\n",
       "5        150\n",
       "7        150\n",
       "2        120\n",
       "dtype: int64"
      ]
     },
     "execution_count": 27,
     "metadata": {},
     "output_type": "execute_result"
    }
   ],
   "source": [
    "y_train.value_counts()"
   ]
  },
  {
   "cell_type": "code",
   "execution_count": 29,
   "metadata": {
    "colab": {
     "base_uri": "https://localhost:8080/",
     "height": 423
    },
    "id": "iUqCPeVHKfib",
    "outputId": "87762ac9-0e31-4b21-b1f3-071c02b1ec75"
   },
   "outputs": [
    {
     "data": {
      "text/html": [
       "\n",
       "  <div id=\"df-66a2cdee-38f0-406b-a798-cc69551e7309\" class=\"colab-df-container\">\n",
       "    <div>\n",
       "<style scoped>\n",
       "    .dataframe tbody tr th:only-of-type {\n",
       "        vertical-align: middle;\n",
       "    }\n",
       "\n",
       "    .dataframe tbody tr th {\n",
       "        vertical-align: top;\n",
       "    }\n",
       "\n",
       "    .dataframe thead th {\n",
       "        text-align: right;\n",
       "    }\n",
       "</style>\n",
       "<table border=\"1\" class=\"dataframe\">\n",
       "  <thead>\n",
       "    <tr style=\"text-align: right;\">\n",
       "      <th></th>\n",
       "      <th>topic</th>\n",
       "    </tr>\n",
       "  </thead>\n",
       "  <tbody>\n",
       "    <tr>\n",
       "      <th>0</th>\n",
       "      <td>0</td>\n",
       "    </tr>\n",
       "    <tr>\n",
       "      <th>1</th>\n",
       "      <td>0</td>\n",
       "    </tr>\n",
       "    <tr>\n",
       "      <th>2</th>\n",
       "      <td>0</td>\n",
       "    </tr>\n",
       "    <tr>\n",
       "      <th>3</th>\n",
       "      <td>0</td>\n",
       "    </tr>\n",
       "    <tr>\n",
       "      <th>4</th>\n",
       "      <td>0</td>\n",
       "    </tr>\n",
       "    <tr>\n",
       "      <th>...</th>\n",
       "      <td>...</td>\n",
       "    </tr>\n",
       "    <tr>\n",
       "      <th>1741</th>\n",
       "      <td>8</td>\n",
       "    </tr>\n",
       "    <tr>\n",
       "      <th>1742</th>\n",
       "      <td>8</td>\n",
       "    </tr>\n",
       "    <tr>\n",
       "      <th>1743</th>\n",
       "      <td>8</td>\n",
       "    </tr>\n",
       "    <tr>\n",
       "      <th>1744</th>\n",
       "      <td>8</td>\n",
       "    </tr>\n",
       "    <tr>\n",
       "      <th>1745</th>\n",
       "      <td>8</td>\n",
       "    </tr>\n",
       "  </tbody>\n",
       "</table>\n",
       "<p>1746 rows × 1 columns</p>\n",
       "</div>\n",
       "    <div class=\"colab-df-buttons\">\n",
       "\n",
       "  <div class=\"colab-df-container\">\n",
       "    <button class=\"colab-df-convert\" onclick=\"convertToInteractive('df-66a2cdee-38f0-406b-a798-cc69551e7309')\"\n",
       "            title=\"Convert this dataframe to an interactive table.\"\n",
       "            style=\"display:none;\">\n",
       "\n",
       "  <svg xmlns=\"http://www.w3.org/2000/svg\" height=\"24px\" viewBox=\"0 -960 960 960\">\n",
       "    <path d=\"M120-120v-720h720v720H120Zm60-500h600v-160H180v160Zm220 220h160v-160H400v160Zm0 220h160v-160H400v160ZM180-400h160v-160H180v160Zm440 0h160v-160H620v160ZM180-180h160v-160H180v160Zm440 0h160v-160H620v160Z\"/>\n",
       "  </svg>\n",
       "    </button>\n",
       "\n",
       "  <style>\n",
       "    .colab-df-container {\n",
       "      display:flex;\n",
       "      gap: 12px;\n",
       "    }\n",
       "\n",
       "    .colab-df-convert {\n",
       "      background-color: #E8F0FE;\n",
       "      border: none;\n",
       "      border-radius: 50%;\n",
       "      cursor: pointer;\n",
       "      display: none;\n",
       "      fill: #1967D2;\n",
       "      height: 32px;\n",
       "      padding: 0 0 0 0;\n",
       "      width: 32px;\n",
       "    }\n",
       "\n",
       "    .colab-df-convert:hover {\n",
       "      background-color: #E2EBFA;\n",
       "      box-shadow: 0px 1px 2px rgba(60, 64, 67, 0.3), 0px 1px 3px 1px rgba(60, 64, 67, 0.15);\n",
       "      fill: #174EA6;\n",
       "    }\n",
       "\n",
       "    .colab-df-buttons div {\n",
       "      margin-bottom: 4px;\n",
       "    }\n",
       "\n",
       "    [theme=dark] .colab-df-convert {\n",
       "      background-color: #3B4455;\n",
       "      fill: #D2E3FC;\n",
       "    }\n",
       "\n",
       "    [theme=dark] .colab-df-convert:hover {\n",
       "      background-color: #434B5C;\n",
       "      box-shadow: 0px 1px 3px 1px rgba(0, 0, 0, 0.15);\n",
       "      filter: drop-shadow(0px 1px 2px rgba(0, 0, 0, 0.3));\n",
       "      fill: #FFFFFF;\n",
       "    }\n",
       "  </style>\n",
       "\n",
       "    <script>\n",
       "      const buttonEl =\n",
       "        document.querySelector('#df-66a2cdee-38f0-406b-a798-cc69551e7309 button.colab-df-convert');\n",
       "      buttonEl.style.display =\n",
       "        google.colab.kernel.accessAllowed ? 'block' : 'none';\n",
       "\n",
       "      async function convertToInteractive(key) {\n",
       "        const element = document.querySelector('#df-66a2cdee-38f0-406b-a798-cc69551e7309');\n",
       "        const dataTable =\n",
       "          await google.colab.kernel.invokeFunction('convertToInteractive',\n",
       "                                                    [key], {});\n",
       "        if (!dataTable) return;\n",
       "\n",
       "        const docLinkHtml = 'Like what you see? Visit the ' +\n",
       "          '<a target=\"_blank\" href=https://colab.research.google.com/notebooks/data_table.ipynb>data table notebook</a>'\n",
       "          + ' to learn more about interactive tables.';\n",
       "        element.innerHTML = '';\n",
       "        dataTable['output_type'] = 'display_data';\n",
       "        await google.colab.output.renderOutput(dataTable, element);\n",
       "        const docLink = document.createElement('div');\n",
       "        docLink.innerHTML = docLinkHtml;\n",
       "        element.appendChild(docLink);\n",
       "      }\n",
       "    </script>\n",
       "  </div>\n",
       "\n",
       "\n",
       "<div id=\"df-f79fdefd-0dda-4e0e-af60-033d5a1e0c24\">\n",
       "  <button class=\"colab-df-quickchart\" onclick=\"quickchart('df-f79fdefd-0dda-4e0e-af60-033d5a1e0c24')\"\n",
       "            title=\"Suggest charts\"\n",
       "            style=\"display:none;\">\n",
       "\n",
       "<svg xmlns=\"http://www.w3.org/2000/svg\" height=\"24px\"viewBox=\"0 0 24 24\"\n",
       "     width=\"24px\">\n",
       "    <g>\n",
       "        <path d=\"M19 3H5c-1.1 0-2 .9-2 2v14c0 1.1.9 2 2 2h14c1.1 0 2-.9 2-2V5c0-1.1-.9-2-2-2zM9 17H7v-7h2v7zm4 0h-2V7h2v10zm4 0h-2v-4h2v4z\"/>\n",
       "    </g>\n",
       "</svg>\n",
       "  </button>\n",
       "\n",
       "<style>\n",
       "  .colab-df-quickchart {\n",
       "      --bg-color: #E8F0FE;\n",
       "      --fill-color: #1967D2;\n",
       "      --hover-bg-color: #E2EBFA;\n",
       "      --hover-fill-color: #174EA6;\n",
       "      --disabled-fill-color: #AAA;\n",
       "      --disabled-bg-color: #DDD;\n",
       "  }\n",
       "\n",
       "  [theme=dark] .colab-df-quickchart {\n",
       "      --bg-color: #3B4455;\n",
       "      --fill-color: #D2E3FC;\n",
       "      --hover-bg-color: #434B5C;\n",
       "      --hover-fill-color: #FFFFFF;\n",
       "      --disabled-bg-color: #3B4455;\n",
       "      --disabled-fill-color: #666;\n",
       "  }\n",
       "\n",
       "  .colab-df-quickchart {\n",
       "    background-color: var(--bg-color);\n",
       "    border: none;\n",
       "    border-radius: 50%;\n",
       "    cursor: pointer;\n",
       "    display: none;\n",
       "    fill: var(--fill-color);\n",
       "    height: 32px;\n",
       "    padding: 0;\n",
       "    width: 32px;\n",
       "  }\n",
       "\n",
       "  .colab-df-quickchart:hover {\n",
       "    background-color: var(--hover-bg-color);\n",
       "    box-shadow: 0 1px 2px rgba(60, 64, 67, 0.3), 0 1px 3px 1px rgba(60, 64, 67, 0.15);\n",
       "    fill: var(--button-hover-fill-color);\n",
       "  }\n",
       "\n",
       "  .colab-df-quickchart-complete:disabled,\n",
       "  .colab-df-quickchart-complete:disabled:hover {\n",
       "    background-color: var(--disabled-bg-color);\n",
       "    fill: var(--disabled-fill-color);\n",
       "    box-shadow: none;\n",
       "  }\n",
       "\n",
       "  .colab-df-spinner {\n",
       "    border: 2px solid var(--fill-color);\n",
       "    border-color: transparent;\n",
       "    border-bottom-color: var(--fill-color);\n",
       "    animation:\n",
       "      spin 1s steps(1) infinite;\n",
       "  }\n",
       "\n",
       "  @keyframes spin {\n",
       "    0% {\n",
       "      border-color: transparent;\n",
       "      border-bottom-color: var(--fill-color);\n",
       "      border-left-color: var(--fill-color);\n",
       "    }\n",
       "    20% {\n",
       "      border-color: transparent;\n",
       "      border-left-color: var(--fill-color);\n",
       "      border-top-color: var(--fill-color);\n",
       "    }\n",
       "    30% {\n",
       "      border-color: transparent;\n",
       "      border-left-color: var(--fill-color);\n",
       "      border-top-color: var(--fill-color);\n",
       "      border-right-color: var(--fill-color);\n",
       "    }\n",
       "    40% {\n",
       "      border-color: transparent;\n",
       "      border-right-color: var(--fill-color);\n",
       "      border-top-color: var(--fill-color);\n",
       "    }\n",
       "    60% {\n",
       "      border-color: transparent;\n",
       "      border-right-color: var(--fill-color);\n",
       "    }\n",
       "    80% {\n",
       "      border-color: transparent;\n",
       "      border-right-color: var(--fill-color);\n",
       "      border-bottom-color: var(--fill-color);\n",
       "    }\n",
       "    90% {\n",
       "      border-color: transparent;\n",
       "      border-bottom-color: var(--fill-color);\n",
       "    }\n",
       "  }\n",
       "</style>\n",
       "\n",
       "  <script>\n",
       "    async function quickchart(key) {\n",
       "      const quickchartButtonEl =\n",
       "        document.querySelector('#' + key + ' button');\n",
       "      quickchartButtonEl.disabled = true;  // To prevent multiple clicks.\n",
       "      quickchartButtonEl.classList.add('colab-df-spinner');\n",
       "      try {\n",
       "        const charts = await google.colab.kernel.invokeFunction(\n",
       "            'suggestCharts', [key], {});\n",
       "      } catch (error) {\n",
       "        console.error('Error during call to suggestCharts:', error);\n",
       "      }\n",
       "      quickchartButtonEl.classList.remove('colab-df-spinner');\n",
       "      quickchartButtonEl.classList.add('colab-df-quickchart-complete');\n",
       "    }\n",
       "    (() => {\n",
       "      let quickchartButtonEl =\n",
       "        document.querySelector('#df-f79fdefd-0dda-4e0e-af60-033d5a1e0c24 button');\n",
       "      quickchartButtonEl.style.display =\n",
       "        google.colab.kernel.accessAllowed ? 'block' : 'none';\n",
       "    })();\n",
       "  </script>\n",
       "</div>\n",
       "    </div>\n",
       "  </div>\n"
      ],
      "text/plain": [
       "      topic\n",
       "0         0\n",
       "1         0\n",
       "2         0\n",
       "3         0\n",
       "4         0\n",
       "...     ...\n",
       "1741      8\n",
       "1742      8\n",
       "1743      8\n",
       "1744      8\n",
       "1745      8\n",
       "\n",
       "[1746 rows x 1 columns]"
      ]
     },
     "execution_count": 29,
     "metadata": {},
     "output_type": "execute_result"
    }
   ],
   "source": [
    "y_train[y_train['topic'] == 0]\n",
    "\n",
    "y_train"
   ]
  },
  {
   "cell_type": "code",
   "execution_count": 24,
   "metadata": {
    "id": "pajtSqfPV3wC"
   },
   "outputs": [],
   "source": [
    "df = pd.read_csv('lenta_y.csv')"
   ]
  },
  {
   "cell_type": "markdown",
   "metadata": {
    "jp-MarkdownHeadingCollapsed": true,
    "tags": []
   },
   "source": [
    "# lenta ru 2.0"
   ]
  },
  {
   "cell_type": "code",
   "execution_count": 83,
   "metadata": {
    "tags": []
   },
   "outputs": [],
   "source": [
    "param_dict = {\n",
    "    # 'size': 2,\n",
    "    'query': '',\n",
    "    # 'sort': 2,\n",
    "    # 'domain': 1\n",
    "}\n",
    "\n",
    "main_url = 'https://lenta.ru/search?'\n",
    "\n",
    "def get_url(main_url, param_dict):\n",
    "    url = main_url \\\n",
    "    + f\"query={param_dict['query']}#\" \\\n",
    "    # + f\"sort={param_dict['sort']}|\" \\\n",
    "    # + f\"size={param_dict['size']}|\" \\\n",
    "    # + f\"domain={param_dict['domain']}\" + '|modified,format=yyyy-MM-dd'\n",
    "    return url"
   ]
  },
  {
   "cell_type": "code",
   "execution_count": 147,
   "metadata": {
    "tags": []
   },
   "outputs": [
    {
     "name": "stdout",
     "output_type": "stream",
     "text": [
      "https://lenta.ru/search?query=мир#size=1\n"
     ]
    }
   ],
   "source": [
    "url = 'https://lenta.ru/search?query=мир#size=1'\n",
    "response = requests.get(url)\n",
    "tree = BeautifulSoup(response.content)\n",
    "print(url)"
   ]
  },
  {
   "cell_type": "code",
   "execution_count": 148,
   "metadata": {
    "tags": []
   },
   "outputs": [
    {
     "name": "stdout",
     "output_type": "stream",
     "text": [
      "<section class=\"search-results js-search-results\"><div class=\"search-results__wrapper\"><p class=\"search-results__count js-search-results-count\"></p><ul class=\"search-results__list js-search-results-list\"></ul></div><div class=\"search-results__loader\"><svg class=\"search-results__loader-svg\"><use xlink:href=\"#ui-loader\"></use></svg><span class=\"visually-hidden\">Загрузка</span></div><div class=\"search-results__fail\"><h4 class=\"search-results__fail-title\">Нет результатов</h4><p class=\"search-results__fail-text\">Измените параметры поиска, введите новый запрос или перейдите <a class=\"search-results__fail-link\" href=\"/\">на главную</a></p></div></section>\n"
     ]
    }
   ],
   "source": [
    "def get_topic_links(tree):\n",
    "    raw_topics = raw_topics = tree.body \\\n",
    "    .find('div', attrs={'class': 'layout js-layout'}) \\\n",
    "    .find('div', attrs={'class': 'layout__container'}) \\\n",
    "    .main \\\n",
    "    .find('div', attrs={'class': 'search-page'}) \\\n",
    "    .section#.div \\\n",
    "    #.find_all('li')\n",
    "    # print(raw_topics)\n",
    "    return raw_topics\n",
    "\n",
    "print(get_topic_links(tree))"
   ]
  },
  {
   "cell_type": "code",
   "execution_count": 144,
   "metadata": {
    "tags": []
   },
   "outputs": [
    {
     "data": {
      "text/plain": [
       "15"
      ]
     },
     "execution_count": 144,
     "metadata": {},
     "output_type": "execute_result"
    }
   ],
   "source": [
    "rq = requests.get('https://lenta.ru/search/v2/process?query=z#|size=1')\n",
    "len(rq.json()['matches'])"
   ]
  },
  {
   "cell_type": "markdown",
   "metadata": {
    "id": "yiiP2nL7oiyp",
    "tags": []
   },
   "source": [
    "# fontanka parse\n"
   ]
  },
  {
   "cell_type": "code",
   "execution_count": 3,
   "metadata": {
    "tags": []
   },
   "outputs": [],
   "source": [
    "data = pd.DataFrame()"
   ]
  },
  {
   "cell_type": "code",
   "execution_count": 4,
   "metadata": {
    "tags": []
   },
   "outputs": [],
   "source": [
    "def get_articles(tree):\n",
    "    articles = tree.find_all('li', attrs={'class': 'H-aer KHbz'})\n",
    "    \n",
    "    return articles"
   ]
  },
  {
   "cell_type": "code",
   "execution_count": 5,
   "metadata": {
    "tags": []
   },
   "outputs": [],
   "source": [
    "def get_articles_link(articles):\n",
    "    return ['https://www.fontanka.ru' + article.find('a', attrs={'class': 'H-cj'}).get('href') for article in articles]"
   ]
  },
  {
   "cell_type": "code",
   "execution_count": 6,
   "metadata": {
    "tags": []
   },
   "outputs": [],
   "source": [
    "def get_text(tree):\n",
    "    # return tree.body.div.div \\\n",
    "    # .find('div', attrs={'class': 'Df'}) \\\n",
    "    # .find('div', attrs={'class': 'Dh'}) \\\n",
    "    # .find('div', attrs={'class': 'Dl'}) \\\n",
    "    # .section.div.article.div.section\n",
    "    return '\\n'.join([p.text for p in tree.find('section', attrs={'class': 'KZam5'}).find_all('p')])\n",
    "# url = 'https://www.fontanka.ru/2024/01/15/73122092/'\n",
    "# response = requests.get(url)\n",
    "# tree = BeautifulSoup(response.content)\n",
    "# print(get_text(tree))"
   ]
  },
  {
   "cell_type": "code",
   "execution_count": 7,
   "metadata": {
    "tags": []
   },
   "outputs": [],
   "source": [
    "def try_request(url):\n",
    "    global error_links\n",
    "    try:\n",
    "        return requests.get(url)\n",
    "    except:\n",
    "        print(f\"can't get response from: {url}\")\n",
    "        error_links.append(url)\n",
    "        return False"
   ]
  },
  {
   "cell_type": "code",
   "execution_count": 8,
   "metadata": {
    "tags": []
   },
   "outputs": [
    {
     "name": "stdout",
     "output_type": "stream",
     "text": [
      "30\n",
      "https://www.fontanka.ru/2024/01/15/73122092/\n",
      "https://www.fontanka.ru/2024/01/15/73121978/?erid=2SDnjdVjdr8\n",
      "can't get response from: https://www.fontanka.ruhttps://www.fontanka.ru/2023/12/18/73029680/\n",
      "https://www.fontanka.ru/2024/01/15/73121240/\n",
      "https://www.fontanka.ru/2024/01/15/73121180/?erid=2SDnjc94FF6\n",
      "https://www.fontanka.ru/2024/01/12/73111043/?erid=2SDnjeU18dE\n",
      "https://www.fontanka.ru/2024/01/11/73108838/?erid=2SDnjeyPmbE\n",
      "https://www.fontanka.ru/2024/01/11/73109525/?erid=2SDnjebBJHn\n",
      "https://www.fontanka.ru/2024/01/11/73108796/?erid=2SDnjeFo5Uc\n",
      "https://www.fontanka.ru/2024/01/11/73108364/\n",
      "https://www.fontanka.ru/2024/01/11/73106963/?erid=2SDnjeE7fpc\n",
      "https://www.fontanka.ru/2024/01/10/73103636/?erid=2SDnjd5cet8\n",
      "https://www.fontanka.ru/2024/01/10/73105544/?erid=2SDnjdxAJ2С\n",
      "https://www.fontanka.ru/2024/01/10/73105466/?erid=2SDnjcHmRJ8\n",
      "https://www.fontanka.ru/2024/01/10/73103579/?erid=2SDnjcBdiKA\n",
      "https://www.fontanka.ru/2024/01/10/73104185/?erid=2SDnjeEM71S\n",
      "https://www.fontanka.ru/2024/01/10/73104092/?erid=2SDnjcbTE1W\n",
      "can't get response from: https://www.fontanka.ruhttps://www.fontanka.ru/2023/12/18/73029680/\n",
      "https://www.fontanka.ru/2024/01/09/73101152/\n",
      "https://www.fontanka.ru/2024/01/09/73101125/?erid=2SDnjdeRTu2\n",
      "https://www.fontanka.ru/2024/01/09/73099913/?erid=2SDnjeJvTNY\n",
      "https://www.fontanka.ru/2024/01/09/73099676/?erid=2SDnjcxCiPz\n",
      "https://www.fontanka.ru/2024/01/05/73069649/?erid=2SDnjcAgd2p\n",
      "https://www.fontanka.ru/2024/01/04/73060913/?erid=2SDnje2uP84\n",
      "https://www.fontanka.ru/2023/12/29/73080893/?erid=2SDnjcrHmFv\n",
      "https://www.fontanka.ru/2023/12/29/73078490/?erid=2SDnjdD4GAc\n",
      "https://www.fontanka.ru/2023/12/29/73078520/\n",
      "https://www.fontanka.ru/2023/12/29/73070642/\n",
      "can't get response from: https://www.fontanka.ruhttps://www.fontanka.ru/2023/12/27/73059452/\n",
      "https://www.fontanka.ru/2023/12/28/73068458/?erid=2SDnjcoM8YY\n"
     ]
    }
   ],
   "source": [
    "save_every = 10\n",
    "for topic in fontanka_topics[:1]:\n",
    "    # getting links\n",
    "    links = []\n",
    "    for n_page in range(1, 2):\n",
    "        url = f'https://www.fontanka.ru/cgi-bin/search.scgi?query=&rubric={topic}&sortt=date&fdate=2000-01-03&tdate=2024-01-15&offset={n_page}'\n",
    "        response = try_request(url)\n",
    "        if not response:\n",
    "            continue\n",
    "        tree = BeautifulSoup(response.content)\n",
    "        articles = get_articles(tree)\n",
    "        print(len(articles))\n",
    "        if len(articles) == 0:\n",
    "            break\n",
    "        links += get_articles_link(articles)\n",
    "\n",
    "    for i, link in enumerate(links):\n",
    "        response = try_request(link)\n",
    "        if not response:\n",
    "            continue\n",
    "        print(link)\n",
    "        tree = BeautifulSoup(response.content)\n",
    "        text = get_text(tree)\n",
    "        data = data._append({'content': text, 'url': link, 'topic': topic_index[topic]}, ignore_index=True)\n",
    "        if i % save_every == 0:\n",
    "            pass\n",
    "        \n",
    "        "
   ]
  },
  {
   "cell_type": "code",
   "execution_count": 9,
   "metadata": {
    "tags": []
   },
   "outputs": [
    {
     "data": {
      "text/html": [
       "<div>\n",
       "<style scoped>\n",
       "    .dataframe tbody tr th:only-of-type {\n",
       "        vertical-align: middle;\n",
       "    }\n",
       "\n",
       "    .dataframe tbody tr th {\n",
       "        vertical-align: top;\n",
       "    }\n",
       "\n",
       "    .dataframe thead th {\n",
       "        text-align: right;\n",
       "    }\n",
       "</style>\n",
       "<table border=\"1\" class=\"dataframe\">\n",
       "  <thead>\n",
       "    <tr style=\"text-align: right;\">\n",
       "      <th></th>\n",
       "      <th>content</th>\n",
       "      <th>url</th>\n",
       "      <th>topic</th>\n",
       "    </tr>\n",
       "  </thead>\n",
       "  <tbody>\n",
       "    <tr>\n",
       "      <th>0</th>\n",
       "      <td>В Красногвардейском переулке в Приморском райо...</td>\n",
       "      <td>https://www.fontanka.ru/2024/01/15/73122092/</td>\n",
       "      <td>6</td>\n",
       "    </tr>\n",
       "    <tr>\n",
       "      <th>1</th>\n",
       "      <td>ГК «А101» завершила монолитные работы во всех ...</td>\n",
       "      <td>https://www.fontanka.ru/2024/01/15/73121978/?e...</td>\n",
       "      <td>6</td>\n",
       "    </tr>\n",
       "    <tr>\n",
       "      <th>2</th>\n",
       "      <td>Cтроительные компании не смогут нести самостоя...</td>\n",
       "      <td>https://www.fontanka.ru/2024/01/15/73121240/</td>\n",
       "      <td>6</td>\n",
       "    </tr>\n",
       "    <tr>\n",
       "      <th>3</th>\n",
       "      <td>14 января в «Новом Лесснере» открылся цветочны...</td>\n",
       "      <td>https://www.fontanka.ru/2024/01/15/73121180/?e...</td>\n",
       "      <td>6</td>\n",
       "    </tr>\n",
       "    <tr>\n",
       "      <th>4</th>\n",
       "      <td>Компания выступает девелопером и основным заст...</td>\n",
       "      <td>https://www.fontanka.ru/2024/01/12/73111043/?e...</td>\n",
       "      <td>6</td>\n",
       "    </tr>\n",
       "    <tr>\n",
       "      <th>5</th>\n",
       "      <td>Теперь квартиру на первом этаже в «Образцовых ...</td>\n",
       "      <td>https://www.fontanka.ru/2024/01/11/73108838/?e...</td>\n",
       "      <td>6</td>\n",
       "    </tr>\n",
       "    <tr>\n",
       "      <th>6</th>\n",
       "      <td>По предварительным итогам 2023 года ГК «Ленстр...</td>\n",
       "      <td>https://www.fontanka.ru/2024/01/11/73109525/?e...</td>\n",
       "      <td>6</td>\n",
       "    </tr>\n",
       "    <tr>\n",
       "      <th>7</th>\n",
       "      <td>Setl Group как социально ответственная компани...</td>\n",
       "      <td>https://www.fontanka.ru/2024/01/11/73108796/?e...</td>\n",
       "      <td>6</td>\n",
       "    </tr>\n",
       "    <tr>\n",
       "      <th>8</th>\n",
       "      <td>Президентом компании GloraX назначен Дмитрий ...</td>\n",
       "      <td>https://www.fontanka.ru/2024/01/11/73108364/</td>\n",
       "      <td>6</td>\n",
       "    </tr>\n",
       "    <tr>\n",
       "      <th>9</th>\n",
       "      <td>«КВС» получила разрешение на ввод в эксплуатац...</td>\n",
       "      <td>https://www.fontanka.ru/2024/01/11/73106963/?e...</td>\n",
       "      <td>6</td>\n",
       "    </tr>\n",
       "    <tr>\n",
       "      <th>10</th>\n",
       "      <td>Компания «Терминал-Ресурс» подводит итоги 2023...</td>\n",
       "      <td>https://www.fontanka.ru/2024/01/10/73103636/?e...</td>\n",
       "      <td>6</td>\n",
       "    </tr>\n",
       "    <tr>\n",
       "      <th>11</th>\n",
       "      <td>Сдан в эксплуатацию жилой комплекс комфорт-кла...</td>\n",
       "      <td>https://www.fontanka.ru/2024/01/10/73105544/?e...</td>\n",
       "      <td>6</td>\n",
       "    </tr>\n",
       "    <tr>\n",
       "      <th>12</th>\n",
       "      <td>Федеральный девелопер GloraX заключил соглашен...</td>\n",
       "      <td>https://www.fontanka.ru/2024/01/10/73105466/?e...</td>\n",
       "      <td>6</td>\n",
       "    </tr>\n",
       "    <tr>\n",
       "      <th>13</th>\n",
       "      <td>Современное общественно-деловое здание в стиле...</td>\n",
       "      <td>https://www.fontanka.ru/2024/01/10/73103579/?e...</td>\n",
       "      <td>6</td>\n",
       "    </tr>\n",
       "    <tr>\n",
       "      <th>14</th>\n",
       "      <td>Служба государственного строительного надзора ...</td>\n",
       "      <td>https://www.fontanka.ru/2024/01/10/73104185/?e...</td>\n",
       "      <td>6</td>\n",
       "    </tr>\n",
       "    <tr>\n",
       "      <th>15</th>\n",
       "      <td>Квартал комфорт-класса Respect строится на Пол...</td>\n",
       "      <td>https://www.fontanka.ru/2024/01/10/73104092/?e...</td>\n",
       "      <td>6</td>\n",
       "    </tr>\n",
       "    <tr>\n",
       "      <th>16</th>\n",
       "      <td>На проспекте Буденного в Петродворцовом районе...</td>\n",
       "      <td>https://www.fontanka.ru/2024/01/09/73101152/</td>\n",
       "      <td>6</td>\n",
       "    </tr>\n",
       "    <tr>\n",
       "      <th>17</th>\n",
       "      <td>Подведём итоги? В заключительном в 2023 году в...</td>\n",
       "      <td>https://www.fontanka.ru/2024/01/09/73101125/?e...</td>\n",
       "      <td>6</td>\n",
       "    </tr>\n",
       "    <tr>\n",
       "      <th>18</th>\n",
       "      <td>Больше всего открылось заведений общественного...</td>\n",
       "      <td>https://www.fontanka.ru/2024/01/09/73099913/?e...</td>\n",
       "      <td>6</td>\n",
       "    </tr>\n",
       "    <tr>\n",
       "      <th>19</th>\n",
       "      <td>Федеральная девелоперская компания Группа Акви...</td>\n",
       "      <td>https://www.fontanka.ru/2024/01/09/73099676/?e...</td>\n",
       "      <td>6</td>\n",
       "    </tr>\n",
       "    <tr>\n",
       "      <th>20</th>\n",
       "      <td>Уже 15 лет, как на юге Санкт-Петербурга реализ...</td>\n",
       "      <td>https://www.fontanka.ru/2024/01/05/73069649/?e...</td>\n",
       "      <td>6</td>\n",
       "    </tr>\n",
       "    <tr>\n",
       "      <th>21</th>\n",
       "      <td>Жители Пушкинского района встречают 2024 год с...</td>\n",
       "      <td>https://www.fontanka.ru/2024/01/04/73060913/?e...</td>\n",
       "      <td>6</td>\n",
       "    </tr>\n",
       "    <tr>\n",
       "      <th>22</th>\n",
       "      <td>Морозной зимой хочется верить в сказку и детям...</td>\n",
       "      <td>https://www.fontanka.ru/2023/12/29/73080893/?e...</td>\n",
       "      <td>6</td>\n",
       "    </tr>\n",
       "    <tr>\n",
       "      <th>23</th>\n",
       "      <td>В 2023 году общая площадь новых и завершаемых ...</td>\n",
       "      <td>https://www.fontanka.ru/2023/12/29/73078490/?e...</td>\n",
       "      <td>6</td>\n",
       "    </tr>\n",
       "    <tr>\n",
       "      <th>24</th>\n",
       "      <td>На Манчестерской улице в Выборгском районе пос...</td>\n",
       "      <td>https://www.fontanka.ru/2023/12/29/73078520/</td>\n",
       "      <td>6</td>\n",
       "    </tr>\n",
       "    <tr>\n",
       "      <th>25</th>\n",
       "      <td>В 2023 году в городе будет введено 72 социальн...</td>\n",
       "      <td>https://www.fontanka.ru/2023/12/29/73070642/</td>\n",
       "      <td>6</td>\n",
       "    </tr>\n",
       "    <tr>\n",
       "      <th>26</th>\n",
       "      <td>Девелопер ведёт комплексное освоение территори...</td>\n",
       "      <td>https://www.fontanka.ru/2023/12/28/73068458/?e...</td>\n",
       "      <td>6</td>\n",
       "    </tr>\n",
       "  </tbody>\n",
       "</table>\n",
       "</div>"
      ],
      "text/plain": [
       "                                              content  \\\n",
       "0   В Красногвардейском переулке в Приморском райо...   \n",
       "1   ГК «А101» завершила монолитные работы во всех ...   \n",
       "2   Cтроительные компании не смогут нести самостоя...   \n",
       "3   14 января в «Новом Лесснере» открылся цветочны...   \n",
       "4   Компания выступает девелопером и основным заст...   \n",
       "5   Теперь квартиру на первом этаже в «Образцовых ...   \n",
       "6   По предварительным итогам 2023 года ГК «Ленстр...   \n",
       "7   Setl Group как социально ответственная компани...   \n",
       "8    Президентом компании GloraX назначен Дмитрий ...   \n",
       "9   «КВС» получила разрешение на ввод в эксплуатац...   \n",
       "10  Компания «Терминал-Ресурс» подводит итоги 2023...   \n",
       "11  Сдан в эксплуатацию жилой комплекс комфорт-кла...   \n",
       "12  Федеральный девелопер GloraX заключил соглашен...   \n",
       "13  Современное общественно-деловое здание в стиле...   \n",
       "14  Служба государственного строительного надзора ...   \n",
       "15  Квартал комфорт-класса Respect строится на Пол...   \n",
       "16  На проспекте Буденного в Петродворцовом районе...   \n",
       "17  Подведём итоги? В заключительном в 2023 году в...   \n",
       "18  Больше всего открылось заведений общественного...   \n",
       "19  Федеральная девелоперская компания Группа Акви...   \n",
       "20  Уже 15 лет, как на юге Санкт-Петербурга реализ...   \n",
       "21  Жители Пушкинского района встречают 2024 год с...   \n",
       "22  Морозной зимой хочется верить в сказку и детям...   \n",
       "23  В 2023 году общая площадь новых и завершаемых ...   \n",
       "24  На Манчестерской улице в Выборгском районе пос...   \n",
       "25  В 2023 году в городе будет введено 72 социальн...   \n",
       "26  Девелопер ведёт комплексное освоение территори...   \n",
       "\n",
       "                                                  url  topic  \n",
       "0        https://www.fontanka.ru/2024/01/15/73122092/      6  \n",
       "1   https://www.fontanka.ru/2024/01/15/73121978/?e...      6  \n",
       "2        https://www.fontanka.ru/2024/01/15/73121240/      6  \n",
       "3   https://www.fontanka.ru/2024/01/15/73121180/?e...      6  \n",
       "4   https://www.fontanka.ru/2024/01/12/73111043/?e...      6  \n",
       "5   https://www.fontanka.ru/2024/01/11/73108838/?e...      6  \n",
       "6   https://www.fontanka.ru/2024/01/11/73109525/?e...      6  \n",
       "7   https://www.fontanka.ru/2024/01/11/73108796/?e...      6  \n",
       "8        https://www.fontanka.ru/2024/01/11/73108364/      6  \n",
       "9   https://www.fontanka.ru/2024/01/11/73106963/?e...      6  \n",
       "10  https://www.fontanka.ru/2024/01/10/73103636/?e...      6  \n",
       "11  https://www.fontanka.ru/2024/01/10/73105544/?e...      6  \n",
       "12  https://www.fontanka.ru/2024/01/10/73105466/?e...      6  \n",
       "13  https://www.fontanka.ru/2024/01/10/73103579/?e...      6  \n",
       "14  https://www.fontanka.ru/2024/01/10/73104185/?e...      6  \n",
       "15  https://www.fontanka.ru/2024/01/10/73104092/?e...      6  \n",
       "16       https://www.fontanka.ru/2024/01/09/73101152/      6  \n",
       "17  https://www.fontanka.ru/2024/01/09/73101125/?e...      6  \n",
       "18  https://www.fontanka.ru/2024/01/09/73099913/?e...      6  \n",
       "19  https://www.fontanka.ru/2024/01/09/73099676/?e...      6  \n",
       "20  https://www.fontanka.ru/2024/01/05/73069649/?e...      6  \n",
       "21  https://www.fontanka.ru/2024/01/04/73060913/?e...      6  \n",
       "22  https://www.fontanka.ru/2023/12/29/73080893/?e...      6  \n",
       "23  https://www.fontanka.ru/2023/12/29/73078490/?e...      6  \n",
       "24       https://www.fontanka.ru/2023/12/29/73078520/      6  \n",
       "25       https://www.fontanka.ru/2023/12/29/73070642/      6  \n",
       "26  https://www.fontanka.ru/2023/12/28/73068458/?e...      6  "
      ]
     },
     "execution_count": 9,
     "metadata": {},
     "output_type": "execute_result"
    }
   ],
   "source": [
    "data"
   ]
  },
  {
   "cell_type": "markdown",
   "metadata": {
    "id": "qO9RJaCbTy5H"
   },
   "source": [
    "# ML fucking shiiiiiiiit"
   ]
  },
  {
   "cell_type": "code",
   "execution_count": 59,
   "metadata": {
    "id": "eMTZoQKCTfwu"
   },
   "outputs": [],
   "source": [
    "lenta_X = pd.read_csv('lenta_X.csv')\n",
    "rbc_X = pd.read_csv('rbc_X.csv')\n",
    "lenta_y = pd.read_csv('lenta_y.csv')\n",
    "rbc_y = pd.read_csv('rbc_y.csv')\n",
    "X_dfs = [lenta_X, rbc_X]\n",
    "y_dfs = [lenta_y, rbc_y]\n",
    "\n",
    "X = pd.concat(X_dfs, ignore_index=True)\n",
    "y = pd.concat(y_dfs, ignore_index=True)"
   ]
  },
  {
   "cell_type": "code",
   "execution_count": 60,
   "metadata": {
    "colab": {
     "base_uri": "https://localhost:8080/"
    },
    "id": "4ppo6r9QIckO",
    "outputId": "42124353-8169-45d0-8aac-095586a1e570"
   },
   "outputs": [
    {
     "data": {
      "text/plain": [
       "2"
      ]
     },
     "execution_count": 60,
     "metadata": {},
     "output_type": "execute_result"
    }
   ],
   "source": [
    "series_X = X.iloc[:, 0]\n",
    "series_y = y.iloc[:, 0]\n",
    "series_X.isna().sum()"
   ]
  },
  {
   "cell_type": "code",
   "execution_count": 61,
   "metadata": {
    "id": "i5cX8vRRFw0H"
   },
   "outputs": [],
   "source": [
    "nans = series_X[series_X.isna()].index\n",
    "new_X = series_X.drop(nans)\n",
    "new_y = series_y.drop(nans)"
   ]
  },
  {
   "cell_type": "code",
   "execution_count": 62,
   "metadata": {
    "colab": {
     "base_uri": "https://localhost:8080/"
    },
    "id": "dBMdo77eKgU_",
    "outputId": "ed77d3a2-2265-4a36-ab75-339851f12f5e"
   },
   "outputs": [
    {
     "data": {
      "text/plain": [
       "0    797\n",
       "8    330\n",
       "4    217\n",
       "1    200\n",
       "3    180\n",
       "5    150\n",
       "7    150\n",
       "2    120\n",
       "Name: topic, dtype: int64"
      ]
     },
     "execution_count": 62,
     "metadata": {},
     "output_type": "execute_result"
    }
   ],
   "source": [
    "new_y.value_counts()"
   ]
  },
  {
   "cell_type": "code",
   "execution_count": 63,
   "metadata": {
    "colab": {
     "base_uri": "https://localhost:8080/"
    },
    "id": "YUDGKS0VQFFE",
    "outputId": "9237c2c3-c79f-4e6e-cfb6-2482a0a345ed"
   },
   "outputs": [
    {
     "data": {
      "text/plain": [
       "((1715,), (429,))"
      ]
     },
     "execution_count": 63,
     "metadata": {},
     "output_type": "execute_result"
    }
   ],
   "source": [
    "from sklearn.model_selection import train_test_split\n",
    "\n",
    "X_train, X_test, y_train, y_test = train_test_split(new_X, new_y, test_size=0.2, random_state=42)\n",
    "\n",
    "X_train.shape, X_test.shape"
   ]
  },
  {
   "cell_type": "code",
   "execution_count": 175,
   "metadata": {
    "colab": {
     "base_uri": "https://localhost:8080/"
    },
    "id": "RqiERmi-PCS4",
    "outputId": "0e6b60bf-d391-4813-b63c-576dc5d4bfb5"
   },
   "outputs": [
    {
     "name": "stdout",
     "output_type": "stream",
     "text": [
      "(1715, 3114)\n"
     ]
    }
   ],
   "source": [
    "from sklearn.feature_extraction.text import TfidfVectorizer\n",
    "\n",
    "tfidf = TfidfVectorizer(ngram_range=(1, 2), max_df=0.80, min_df=0.01)\n",
    "tfidf.fit(X_train)\n",
    "\n",
    "trans_train = tfidf.transform(X_train)\n",
    "trans_test = tfidf.transform(X_test)\n",
    "print(trans_train.shape)"
   ]
  },
  {
   "cell_type": "code",
   "execution_count": 176,
   "metadata": {
    "colab": {
     "base_uri": "https://localhost:8080/"
    },
    "id": "OO7Uu_VPRmR5",
    "outputId": "050a808f-9d7d-41ec-8799-68fdcb69c0a1"
   },
   "outputs": [
    {
     "data": {
      "text/plain": [
       "(0.9399416909620991, 0.8601398601398601)"
      ]
     },
     "execution_count": 176,
     "metadata": {},
     "output_type": "execute_result"
    }
   ],
   "source": [
    "from sklearn.linear_model import LogisticRegression\n",
    "\n",
    "lr_tf_idf = LogisticRegression()\n",
    "lr_tf_idf.fit(trans_train, y_train)\n",
    "\n",
    "lr_train_pred = lr_tf_idf.predict(trans_train)\n",
    "lr_test_pred = lr_tf_idf.predict(trans_test)\n",
    "\n",
    "accuracy_score(y_train, lr_train_pred), accuracy_score(y_test, lr_test_pred)"
   ]
  },
  {
   "cell_type": "code",
   "execution_count": 112,
   "metadata": {
    "colab": {
     "base_uri": "https://localhost:8080/"
    },
    "id": "ruq9d2i8hvsJ",
    "outputId": "cf0038aa-a042-437a-fdd3-2d4fc6958472"
   },
   "outputs": [
    {
     "data": {
      "text/plain": [
       "[1, 0, 1]"
      ]
     },
     "execution_count": 112,
     "metadata": {},
     "output_type": "execute_result"
    }
   ],
   "source": [
    "# переделать это пиздец говнокод\n",
    "def get_max(arr):\n",
    "    arr = list(arr)\n",
    "    ans = []\n",
    "    for i in arr:\n",
    "      i = list(i)\n",
    "      ans.append(i.index(max(i)))\n",
    "    return ans"
   ]
  },
  {
   "cell_type": "code",
   "execution_count": 113,
   "metadata": {
    "colab": {
     "base_uri": "https://localhost:8080/"
    },
    "id": "rzgEr3dPLgkr",
    "outputId": "74a6d6bd-d1ab-40b9-dc13-4c16fced897b"
   },
   "outputs": [
    {
     "data": {
      "text/plain": [
       "(0.7807580174927113, 0.627039627039627)"
      ]
     },
     "execution_count": 113,
     "metadata": {},
     "output_type": "execute_result"
    }
   ],
   "source": [
    "# from sklearn.ensemble import GradientBoostingClassifier\n",
    "\n",
    "# gbc_tf_idf = GradientBoostingClassifier(n_estimators=100, learning_rate=0.35)\n",
    "\n",
    "# gbc_tf_idf.fit(trans_train, y_train)\n",
    "# gbc_train_pred = gbc_tf_idf.predict_proba(trans_train)\n",
    "# gbc_test_pred = gbc_tf_idf.predict_proba(trans_test)\n",
    "\n",
    "# accuracy_score(y_train, get_max(gbc_train_pred)), accuracy_score(y_test, get_max(gbc_test_pred))"
   ]
  },
  {
   "cell_type": "code",
   "execution_count": 130,
   "metadata": {
    "colab": {
     "base_uri": "https://localhost:8080/"
    },
    "id": "ppf4bcZiksKH",
    "outputId": "d7896c11-1968-4d04-d0ed-69cec1402f64"
   },
   "outputs": [
    {
     "data": {
      "text/plain": [
       "0    168\n",
       "7     74\n",
       "1     42\n",
       "4     40\n",
       "6     31\n",
       "3     30\n",
       "5     25\n",
       "2     19\n",
       "Name: topic, dtype: int64"
      ]
     },
     "execution_count": 130,
     "metadata": {},
     "output_type": "execute_result"
    }
   ],
   "source": [
    "y_test[y_test==7] = 6\n",
    "y_test[y_test==8] = 7\n",
    "y_test.value_counts()"
   ]
  },
  {
   "cell_type": "code",
   "execution_count": 137,
   "metadata": {
    "colab": {
     "base_uri": "https://localhost:8080/"
    },
    "id": "1CKBiAt8j8NG",
    "outputId": "c9ec3c13-a710-44c5-f5b9-abc80d97e921"
   },
   "outputs": [
    {
     "data": {
      "text/plain": [
       "(0.8956268221574344, 0.7412587412587412)"
      ]
     },
     "execution_count": 137,
     "metadata": {},
     "output_type": "execute_result"
    }
   ],
   "source": [
    "# from xgboost import XGBClassifier\n",
    "\n",
    "# xgb_tf_idf = XGBClassifier(random_state=200, eta = 0.11, max_depth = 4, n_estimators=30)\n",
    "# xgb_tf_idf.fit(trans_train, y_train)\n",
    "# xgb_train_pred = xgb_tf_idf.predict_proba(trans_train)\n",
    "# xgb_test_pred = xgb_tf_idf.predict_proba(trans_test)\n",
    "\n",
    "# accuracy_score(y_train, get_max(xgb_train_pred)), accuracy_score(y_test, get_max(xgb_test_pred))"
   ]
  },
  {
   "cell_type": "code",
   "execution_count": null,
   "metadata": {
    "id": "6o2-2AEooWpX"
   },
   "outputs": [],
   "source": [
    "from gensim.models import Word2Vec\n",
    "\n",
    "sent = [row.split() for row in X_train[0]]\n",
    "\n",
    "HIDDEN = 100\n",
    "\n",
    "model = Word2Vec(min_count=20,\n",
    "                     window=2,\n",
    "                     vector_size=HIDDEN,\n",
    "                     sample=6e-5,\n",
    "                     alpha=0.03,\n",
    "                     min_alpha=0.0007,\n",
    "                     negative=20,\n",
    "                     workers=2)\n",
    "model.build_vocab(sent, progress_per=10000)\n",
    "model.train(sent, total_examples=model.corpus_count, epochs=30, report_delay=1)"
   ]
  }
 ],
 "metadata": {
  "colab": {
   "provenance": []
  },
  "kaggle": {
   "accelerator": "none",
   "dataSources": [
    {
     "databundleVersionId": 7343125,
     "sourceId": 66532,
     "sourceType": "competition"
    }
   ],
   "dockerImageVersionId": 30626,
   "isGpuEnabled": false,
   "isInternetEnabled": true,
   "language": "python",
   "sourceType": "notebook"
  },
  "kernelspec": {
   "display_name": "Python 3 (ipykernel)",
   "language": "python",
   "name": "python3"
  },
  "language_info": {
   "codemirror_mode": {
    "name": "ipython",
    "version": 3
   },
   "file_extension": ".py",
   "mimetype": "text/x-python",
   "name": "python",
   "nbconvert_exporter": "python",
   "pygments_lexer": "ipython3",
   "version": "3.11.5"
  }
 },
 "nbformat": 4,
 "nbformat_minor": 4
}
