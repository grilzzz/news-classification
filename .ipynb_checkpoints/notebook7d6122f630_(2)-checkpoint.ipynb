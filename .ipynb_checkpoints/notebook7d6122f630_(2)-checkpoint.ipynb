{
  "metadata": {
    "kernelspec": {
      "language": "python",
      "display_name": "Python 3",
      "name": "python3"
    },
    "language_info": {
      "name": "python",
      "version": "3.10.12",
      "mimetype": "text/x-python",
      "codemirror_mode": {
        "name": "ipython",
        "version": 3
      },
      "pygments_lexer": "ipython3",
      "nbconvert_exporter": "python",
      "file_extension": ".py"
    },
    "kaggle": {
      "accelerator": "none",
      "dataSources": [
        {
          "sourceId": 66532,
          "databundleVersionId": 7343125,
          "sourceType": "competition"
        }
      ],
      "dockerImageVersionId": 30626,
      "isInternetEnabled": true,
      "language": "python",
      "sourceType": "notebook",
      "isGpuEnabled": false
    },
    "colab": {
      "provenance": []
    }
  },
  "nbformat_minor": 0,
  "nbformat": 4,
  "cells": [
    {
      "cell_type": "code",
      "source": [
        "# !pip install selenium\n",
        "import numpy as np\n",
        "import pandas as pd\n",
        "import requests\n",
        "from time import sleep, time\n",
        "from random import randint\n",
        "from bs4 import BeautifulSoup\n",
        "from selenium import webdriver\n",
        "from selenium.webdriver import FirefoxOptions\n",
        "from selenium.webdriver.common.by import By\n",
        "from selenium.webdriver.support.ui import WebDriverWait\n",
        "from selenium.webdriver.support import expected_conditions as EC\n",
        "from sklearn.metrics import accuracy_score"
      ],
      "metadata": {
        "_uuid": "8f2839f25d086af736a60e9eeb907d3b93b6e0e5",
        "_cell_guid": "b1076dfc-b9ad-4769-8c92-a6c4dae69d19",
        "execution": {
          "iopub.status.busy": "2023-12-27T16:45:40.533004Z",
          "iopub.execute_input": "2023-12-27T16:45:40.533368Z",
          "iopub.status.idle": "2023-12-27T16:45:50.673586Z",
          "shell.execute_reply.started": "2023-12-27T16:45:40.533340Z",
          "shell.execute_reply": "2023-12-27T16:45:50.671837Z"
        },
        "trusted": true,
        "id": "tLadh_VKEgEh"
      },
      "execution_count": 55,
      "outputs": []
    },
    {
      "cell_type": "markdown",
      "source": [
        "# prepare\n"
      ],
      "metadata": {
        "id": "e8qJqN0ASduZ"
      }
    },
    {
      "cell_type": "code",
      "source": [
        "X_train = pd.DataFrame()\n",
        "y_train = pd.DataFrame()\n",
        "# X_test = pd.read_csv('/kaggle/input/news-scraping-competition/test_news.csv')\n",
        "# X_test.head()"
      ],
      "metadata": {
        "execution": {
          "iopub.status.busy": "2023-12-27T20:49:53.404565Z",
          "iopub.execute_input": "2023-12-27T20:49:53.404965Z",
          "iopub.status.idle": "2023-12-27T20:49:54.501577Z",
          "shell.execute_reply.started": "2023-12-27T20:49:53.404928Z",
          "shell.execute_reply": "2023-12-27T20:49:54.500789Z"
        },
        "trusted": true,
        "id": "rj26-eajEgEk"
      },
      "execution_count": 2,
      "outputs": []
    },
    {
      "cell_type": "markdown",
      "source": [
        "* 'Общество/Россия' : 0 - рбк(общество)/лента(россия)\n",
        "* 'Экономика' : 1 - рбк/риа/коммерсант\n",
        "* 'Силовые структуры' : 2  - риа(только армия)/лента\n",
        "* 'Бывший СССР' : 3 - лента/коммерсант\n",
        "* 'Спорт' : 4 - лента/коммерсант\n",
        "* 'Забота о себе' : 5 - лента/коммерсант?\n",
        "* 'Строительство' : 6 - риа/коммерсант\n",
        "* 'Туризм/Путешествия' : 7 - риа/лента/коммерсант\n",
        "* 'Наука и техника' : 8 - лента/коммерсант?"
      ],
      "metadata": {
        "id": "cgkTkshNEgEl"
      }
    },
    {
      "cell_type": "code",
      "source": [
        "rbc_link = 'https://www.rbc.ru/'\n",
        "ria_link = 'https://ria.ru/'\n",
        "lenta_link = 'https://lenta.ru/rubrics/'\n",
        "kommersant_link = 'https://www.kommersant.ru/'\n",
        "\n",
        "rbc_topics = ['society', 'economics']\n",
        "ria_topics = ['economy', 'defense_safety', 'tag_thematic_category_Stroitelstvo', 'tourism']\n",
        "lenta_topics = ['russia', 'forces', 'ussr', 'sport', 'wellness', 'travel', 'science']\n",
        "kommersant_all_topics = ['theme/3170', 'rubric/9', 'theme/2605', 'hitech', 'theme/2640']\n",
        "kommersant_musthave_topics = ['theme/2640', 'theme/3170']\n",
        "\n",
        "\n",
        "topic_index = {\n",
        "    'society' : 0, 'russia': 0,\n",
        "    'economics' : 1, 'economy' : 1,\n",
        "    'defense_safety': 2, 'forces': 2,\n",
        "    'ussr' : 3, 'theme/3170': 3,\n",
        "    'sport' : 4, 'rubric/9': 4,\n",
        "    'wellness' : 5, 'theme/2605': 5,\n",
        "    'theme/2640': 6, 'tag_thematic_category_Stroitelstvo': 6,\n",
        "    'tourism': 7, 'travel': 7,\n",
        "    'science': 8, 'hitech' : 8,\n",
        "}"
      ],
      "metadata": {
        "execution": {
          "iopub.status.busy": "2023-12-27T20:49:54.502985Z",
          "iopub.execute_input": "2023-12-27T20:49:54.504169Z",
          "iopub.status.idle": "2023-12-27T20:49:54.509916Z",
          "shell.execute_reply.started": "2023-12-27T20:49:54.504112Z",
          "shell.execute_reply": "2023-12-27T20:49:54.509199Z"
        },
        "trusted": true,
        "id": "aAZmcRZaEgEm"
      },
      "execution_count": 3,
      "outputs": []
    },
    {
      "cell_type": "markdown",
      "source": [
        "# rbc parse"
      ],
      "metadata": {
        "id": "_B9exkupEgEn"
      }
    },
    {
      "cell_type": "code",
      "source": [
        "def create_webdriver():\n",
        "    opts = FirefoxOptions()\n",
        "    opts.add_argument('--headless')\n",
        "    return webdriver.Firefox(options=opts)"
      ],
      "metadata": {
        "execution": {
          "iopub.status.busy": "2023-12-27T08:53:11.192539Z",
          "iopub.execute_input": "2023-12-27T08:53:11.193535Z",
          "iopub.status.idle": "2023-12-27T08:53:11.203593Z",
          "shell.execute_reply.started": "2023-12-27T08:53:11.193477Z",
          "shell.execute_reply": "2023-12-27T08:53:11.202322Z"
        },
        "trusted": true,
        "id": "y5ilFH7fEgEn"
      },
      "execution_count": null,
      "outputs": []
    },
    {
      "cell_type": "code",
      "source": [
        "def scroll_page(link):\n",
        "    driver = create_webdriver()\n",
        "    driver.get(link)\n",
        "    scroll_pause = 0.2\n",
        "    last_height = driver.execute_script(\"return document.body.scrollHeight\")\n",
        "    while last_height < 33474:\n",
        "        driver.execute_script(\"window.scrollTo(0, document.body.scrollHeight);\")\n",
        "        sleep(scroll_pause)\n",
        "        new_height = driver.execute_script(\"return document.body.scrollHeight\")\n",
        "        print(new_height)\n",
        "        last_height = new_height\n",
        "    return driver.page_source"
      ],
      "metadata": {
        "execution": {
          "iopub.status.busy": "2023-12-27T08:53:11.206638Z",
          "iopub.execute_input": "2023-12-27T08:53:11.207072Z",
          "iopub.status.idle": "2023-12-27T08:53:11.214261Z",
          "shell.execute_reply.started": "2023-12-27T08:53:11.207009Z",
          "shell.execute_reply": "2023-12-27T08:53:11.213364Z"
        },
        "trusted": true,
        "id": "biDhLdc0EgEo"
      },
      "execution_count": null,
      "outputs": []
    },
    {
      "cell_type": "code",
      "source": [
        "def get_text_from_article(link):\n",
        "    request = requests.get(link)\n",
        "    tree = BeautifulSoup(request.content)\n",
        "    div_with_text = tree.body.find_all('div', attrs = {'class': 'l-window'})[1].find('div').find('div').find('div').find('div', attrs = {'class': 'js-rbcslider'}).find('div').find('div', attrs={'class': \"article g-relative js-rbcslider-article\"}).find('div').find('div').find('div', attrs={'class': 'article__text'})\n",
        "    for i in div_with_text.select('div'):\n",
        "        i.decompose()\n",
        "    raw_text = div_with_text.find_all('p')\n",
        "    return '\\n'.join([p.text for p in raw_text])"
      ],
      "metadata": {
        "execution": {
          "iopub.status.busy": "2023-12-27T08:53:11.215945Z",
          "iopub.execute_input": "2023-12-27T08:53:11.216716Z",
          "iopub.status.idle": "2023-12-27T08:53:11.229661Z",
          "shell.execute_reply.started": "2023-12-27T08:53:11.216681Z",
          "shell.execute_reply": "2023-12-27T08:53:11.228236Z"
        },
        "trusted": true,
        "id": "Sj0hwhlrEgEo"
      },
      "execution_count": null,
      "outputs": []
    },
    {
      "cell_type": "code",
      "source": [
        "def rbc_get_topics_links(news):\n",
        "    links = []\n",
        "    for post in news:\n",
        "        links.append(post.find('div', attrs = {'class': 'item__wrap'}).a.get('href'))\n",
        "    return links"
      ],
      "metadata": {
        "execution": {
          "iopub.status.busy": "2023-12-27T08:53:11.231168Z",
          "iopub.execute_input": "2023-12-27T08:53:11.231581Z",
          "iopub.status.idle": "2023-12-27T08:53:11.240006Z",
          "shell.execute_reply.started": "2023-12-27T08:53:11.231534Z",
          "shell.execute_reply": "2023-12-27T08:53:11.238704Z"
        },
        "trusted": true,
        "id": "V0YsYsieEgEp"
      },
      "execution_count": null,
      "outputs": []
    },
    {
      "cell_type": "code",
      "source": [
        "start_time = time()\n",
        "\n",
        "for topic in rbc_topics:\n",
        "    response = scroll_page(rbc_link + topic)\n",
        "    tree = BeautifulSoup(response)\n",
        "    news = tree.body.find_all('div', attrs = {'class': 'l-window'})[1].find('div', attrs = {'class': 'g-relative g-clear'}).find('div', attrs = {'class': 'l-col-container'}).find('div', attrs = {'class': 'l-table'}).find('div', attrs = {'class': 'g-relative'}).find('div', attrs = {'class': 'l-table'}).find('main').find('div', attrs = {'class': 'g-overflow'}).find('div', attrs = {'class': 'l-row'}).find_all('div', attrs = {'class': 'item'})\n",
        "    print(len(news))\n",
        "    print('end time is', time() - start_time)\n",
        "    for i, link in enumerate(rbc_get_topics_links(news)):\n",
        "        print(f'{i} link of {topic}')\n",
        "        text = get_text_from_article(link)\n",
        "        X_train = X_train._append({'content': text}, ignore_index=True)\n",
        "        y_train = y_train._append({'topic': topic_index[topic]}, ignore_index=True)"
      ],
      "metadata": {
        "execution": {
          "iopub.status.busy": "2023-12-27T08:53:11.673340Z",
          "iopub.execute_input": "2023-12-27T08:53:11.673803Z",
          "iopub.status.idle": "2023-12-27T09:04:32.347972Z",
          "shell.execute_reply.started": "2023-12-27T08:53:11.673763Z",
          "shell.execute_reply": "2023-12-27T09:04:32.346456Z"
        },
        "jupyter": {
          "outputs_hidden": true
        },
        "trusted": true,
        "id": "428tF1l6EgEp"
      },
      "execution_count": null,
      "outputs": []
    },
    {
      "cell_type": "code",
      "source": [
        "X_train.to_csv('rbc_X.csv', index=False)\n",
        "y_train.to_csv('rbc_y.csv', index=False)"
      ],
      "metadata": {
        "execution": {
          "iopub.status.busy": "2023-12-27T09:12:59.200884Z",
          "iopub.execute_input": "2023-12-27T09:12:59.201349Z",
          "iopub.status.idle": "2023-12-27T09:12:59.266073Z",
          "shell.execute_reply.started": "2023-12-27T09:12:59.201293Z",
          "shell.execute_reply": "2023-12-27T09:12:59.265033Z"
        },
        "trusted": true,
        "id": "FlzkQtN1EgEp"
      },
      "execution_count": null,
      "outputs": []
    },
    {
      "cell_type": "markdown",
      "source": [
        "# lenta parse"
      ],
      "metadata": {
        "id": "QZlQr7NvEgEq"
      }
    },
    {
      "cell_type": "code",
      "source": [
        "def lenta_get_topics_links(news):\n",
        "    links = []\n",
        "    for post in news:\n",
        "        links.append(post.find('div', attrs = {'class': 'item__wrap'}).a.get('href'))\n",
        "    return links"
      ],
      "metadata": {
        "execution": {
          "iopub.status.busy": "2023-12-27T20:50:01.400680Z",
          "iopub.execute_input": "2023-12-27T20:50:01.401184Z",
          "iopub.status.idle": "2023-12-27T20:50:01.407638Z",
          "shell.execute_reply.started": "2023-12-27T20:50:01.401146Z",
          "shell.execute_reply": "2023-12-27T20:50:01.406784Z"
        },
        "trusted": true,
        "id": "6JMhh8IHEgEq"
      },
      "execution_count": 16,
      "outputs": []
    },
    {
      "cell_type": "code",
      "source": [
        "def get_topic_links(tree):\n",
        "    raw_topics = tree.body \\\n",
        "    .find('div', attrs={'class': 'layout js-layout'}) \\\n",
        "    .find('div', attrs={'class': 'layout__container'}) \\\n",
        "    .main \\\n",
        "    .find('div', attrs={'class': 'rubric-page'}) \\\n",
        "    .find('div', attrs={'class': 'rubric-header'}) \\\n",
        "    .find('div', attrs={'rubric-header__container'}) \\\n",
        "    .find_all('a')[1:]\n",
        "    return ['https://lenta.ru' + raw_topic.get('href') for raw_topic in raw_topics]\n"
      ],
      "metadata": {
        "execution": {
          "iopub.status.busy": "2023-12-27T20:50:01.879562Z",
          "iopub.execute_input": "2023-12-27T20:50:01.881007Z",
          "iopub.status.idle": "2023-12-27T20:50:01.890381Z",
          "shell.execute_reply.started": "2023-12-27T20:50:01.880948Z",
          "shell.execute_reply": "2023-12-27T20:50:01.887425Z"
        },
        "trusted": true,
        "id": "J9WgzW_pEgEq"
      },
      "execution_count": 17,
      "outputs": []
    },
    {
      "cell_type": "code",
      "source": [
        "def get_article_link(tree):\n",
        "    raw_topics = tree.body \\\n",
        "    .find('div', attrs={'class': 'layout js-layout'}) \\\n",
        "    .find('div', attrs={'class': 'layout__container'}) \\\n",
        "    .main \\\n",
        "    .find('div', attrs={'class': 'rubric-page'}) \\\n",
        "    .find('section', attrs={'class': 'rubric-page__section'}) \\\n",
        "    .ul \\\n",
        "    .find_all('li')\n",
        "    links = ['https://lenta.ru' + raw_topic.a.get('href') for raw_topic in raw_topics]\n",
        "    return links"
      ],
      "metadata": {
        "execution": {
          "iopub.status.busy": "2023-12-27T20:50:02.423756Z",
          "iopub.execute_input": "2023-12-27T20:50:02.424278Z",
          "iopub.status.idle": "2023-12-27T20:50:02.433966Z",
          "shell.execute_reply.started": "2023-12-27T20:50:02.424237Z",
          "shell.execute_reply": "2023-12-27T20:50:02.431354Z"
        },
        "trusted": true,
        "id": "2_7YsOxkEgEq"
      },
      "execution_count": 18,
      "outputs": []
    },
    {
      "cell_type": "code",
      "source": [
        "def get_text(tree):\n",
        "    try:\n",
        "      raw_text = tree.body \\\n",
        "      .find('div', attrs={'class': 'layout'}) \\\n",
        "      .find('div', attrs={'class': 'layout__container'}) \\\n",
        "      .main \\\n",
        "      .find('div', attrs={'class': 'topic-page__wrap'}) \\\n",
        "      .find('div', attrs={'class': 'topic-page'}) \\\n",
        "      .div \\\n",
        "      .find('div', attrs={'class': 'topic-page__content'}) \\\n",
        "      .div \\\n",
        "      .find('div', attrs={'class': 'topic-body__content'}) \\\n",
        "      .find_all('p')\n",
        "      text = '\\n'.join([i.text for i in raw_text])\n",
        "    except:\n",
        "      return False\n",
        "    return text\n"
      ],
      "metadata": {
        "execution": {
          "iopub.status.busy": "2023-12-27T20:50:02.850505Z",
          "iopub.execute_input": "2023-12-27T20:50:02.851086Z",
          "iopub.status.idle": "2023-12-27T20:50:02.857188Z",
          "shell.execute_reply.started": "2023-12-27T20:50:02.851031Z",
          "shell.execute_reply": "2023-12-27T20:50:02.856019Z"
        },
        "trusted": true,
        "id": "1StOaXnEEgEr"
      },
      "execution_count": 19,
      "outputs": []
    },
    {
      "cell_type": "code",
      "source": [
        "def try_request(link):\n",
        "    try:\n",
        "        return requests.get(link)\n",
        "    except:\n",
        "        return False"
      ],
      "metadata": {
        "execution": {
          "iopub.status.busy": "2023-12-27T20:50:03.767272Z",
          "iopub.execute_input": "2023-12-27T20:50:03.767747Z",
          "iopub.status.idle": "2023-12-27T20:50:03.775118Z",
          "shell.execute_reply.started": "2023-12-27T20:50:03.767709Z",
          "shell.execute_reply": "2023-12-27T20:50:03.773379Z"
        },
        "trusted": true,
        "id": "7mjyPKgZEgEr"
      },
      "execution_count": 20,
      "outputs": []
    },
    {
      "cell_type": "code",
      "source": [
        "def check_response(response, mega_topic, X_train, y_train):\n",
        "    if not response:\n",
        "        print('skipped', mega_topic)\n",
        "        return False\n",
        "    if response.status_code // 100 != 2:\n",
        "        print(f'error in {mega_topic}')\n",
        "        return False\n",
        "    return True"
      ],
      "metadata": {
        "execution": {
          "iopub.status.busy": "2023-12-27T20:50:05.167779Z",
          "iopub.execute_input": "2023-12-27T20:50:05.169788Z",
          "iopub.status.idle": "2023-12-27T20:50:05.179963Z",
          "shell.execute_reply.started": "2023-12-27T20:50:05.169683Z",
          "shell.execute_reply": "2023-12-27T20:50:05.177609Z"
        },
        "trusted": true,
        "id": "khus6XoFEgEr"
      },
      "execution_count": 21,
      "outputs": []
    },
    {
      "cell_type": "code",
      "source": [
        "last_add = 0\n",
        "start_time = time()\n",
        "c = 0\n",
        "\n",
        "\n",
        "\n",
        "def parse_lenta(mega_topic, topic_index=topic_index, lenta_link=lenta_link, X_train=X_train, y_train=y_train, c=c, start_time=start_time, last_add=last_add):\n",
        "    response = try_request(lenta_link + mega_topic)\n",
        "    if not check_response(response, mega_topic, X_train, y_train):\n",
        "        return [X_train, y_train]\n",
        "    tree = BeautifulSoup(response.content)\n",
        "    topic_links = get_topic_links(tree)\n",
        "    for topic_link in topic_links:\n",
        "        response = try_request(topic_link)\n",
        "        if not check_response(response, mega_topic, X_train, y_train):\n",
        "            continue\n",
        "        tree = BeautifulSoup(response.content)\n",
        "        if len(tree.find_all('img')) > 20:\n",
        "            new_topic = topic_link[topic_link[:-1].rfind('/')+1:-1]\n",
        "            topic_index[new_topic] = topic_index[mega_topic]\n",
        "            X_train, y_train = parse_lenta(mega_topic=new_topic, X_train=X_train, y_train=y_train)\n",
        "            continue\n",
        "        links = get_article_link(tree)\n",
        "        for i, link in enumerate(links[:-1]):\n",
        "            print(i, mega_topic, topic_link, link)\n",
        "            response = try_request(link)\n",
        "            if not check_response(response, mega_topic, X_train, y_train):\n",
        "                continue\n",
        "            tree = BeautifulSoup(response.content)\n",
        "            text = get_text(tree)\n",
        "            if not text:\n",
        "                print('skipped', 1, mega_topic, topic_link, link)\n",
        "                continue\n",
        "            X_train = X_train._append({'content': text}, ignore_index=True)\n",
        "            y_train = y_train._append({'topic': topic_index[mega_topic]}, ignore_index=True)\n",
        "            c += 1\n",
        "        print(f'added {c - last_add} articles from {topic_link}!!!')\n",
        "        print('pass', time() - start_time, 'sec')\n",
        "        last_add = c\n",
        "        X_train.to_csv('lenta_X.csv', index=False)\n",
        "        y_train.to_csv('lenta_y.csv', index=False)\n",
        "    return [X_train, y_train]\n",
        "\n",
        "\n",
        "\n",
        "for mega_topic in lenta_topics:\n",
        "    X_train, y_train = parse_lenta(mega_topic=mega_topic, X_train=X_train, y_train=y_train)"
      ],
      "metadata": {
        "execution": {
          "iopub.status.busy": "2023-12-27T20:55:20.287649Z",
          "iopub.execute_input": "2023-12-27T20:55:20.288500Z",
          "iopub.status.idle": "2023-12-27T20:57:18.631281Z",
          "shell.execute_reply.started": "2023-12-27T20:55:20.288463Z",
          "shell.execute_reply": "2023-12-27T20:57:18.629988Z"
        },
        "trusted": true,
        "id": "KoG80S3YEgEr"
      },
      "execution_count": null,
      "outputs": []
    },
    {
      "cell_type": "code",
      "source": [
        "y_train.value_counts()"
      ],
      "metadata": {
        "id": "hzY8klG9ij_i",
        "outputId": "ce8476fe-d217-4ba3-9fa8-2ae73fb49398",
        "colab": {
          "base_uri": "https://localhost:8080/"
        }
      },
      "execution_count": 27,
      "outputs": [
        {
          "output_type": "execute_result",
          "data": {
            "text/plain": [
              "topic\n",
              "0        599\n",
              "8        330\n",
              "4        217\n",
              "3        180\n",
              "5        150\n",
              "7        150\n",
              "2        120\n",
              "dtype: int64"
            ]
          },
          "metadata": {},
          "execution_count": 27
        }
      ]
    },
    {
      "cell_type": "code",
      "source": [
        "y_train[y_train['topic'] == 0]\n",
        "\n",
        "y_train"
      ],
      "metadata": {
        "colab": {
          "base_uri": "https://localhost:8080/",
          "height": 423
        },
        "id": "iUqCPeVHKfib",
        "outputId": "87762ac9-0e31-4b21-b1f3-071c02b1ec75"
      },
      "execution_count": 29,
      "outputs": [
        {
          "output_type": "execute_result",
          "data": {
            "text/plain": [
              "      topic\n",
              "0         0\n",
              "1         0\n",
              "2         0\n",
              "3         0\n",
              "4         0\n",
              "...     ...\n",
              "1741      8\n",
              "1742      8\n",
              "1743      8\n",
              "1744      8\n",
              "1745      8\n",
              "\n",
              "[1746 rows x 1 columns]"
            ],
            "text/html": [
              "\n",
              "  <div id=\"df-66a2cdee-38f0-406b-a798-cc69551e7309\" class=\"colab-df-container\">\n",
              "    <div>\n",
              "<style scoped>\n",
              "    .dataframe tbody tr th:only-of-type {\n",
              "        vertical-align: middle;\n",
              "    }\n",
              "\n",
              "    .dataframe tbody tr th {\n",
              "        vertical-align: top;\n",
              "    }\n",
              "\n",
              "    .dataframe thead th {\n",
              "        text-align: right;\n",
              "    }\n",
              "</style>\n",
              "<table border=\"1\" class=\"dataframe\">\n",
              "  <thead>\n",
              "    <tr style=\"text-align: right;\">\n",
              "      <th></th>\n",
              "      <th>topic</th>\n",
              "    </tr>\n",
              "  </thead>\n",
              "  <tbody>\n",
              "    <tr>\n",
              "      <th>0</th>\n",
              "      <td>0</td>\n",
              "    </tr>\n",
              "    <tr>\n",
              "      <th>1</th>\n",
              "      <td>0</td>\n",
              "    </tr>\n",
              "    <tr>\n",
              "      <th>2</th>\n",
              "      <td>0</td>\n",
              "    </tr>\n",
              "    <tr>\n",
              "      <th>3</th>\n",
              "      <td>0</td>\n",
              "    </tr>\n",
              "    <tr>\n",
              "      <th>4</th>\n",
              "      <td>0</td>\n",
              "    </tr>\n",
              "    <tr>\n",
              "      <th>...</th>\n",
              "      <td>...</td>\n",
              "    </tr>\n",
              "    <tr>\n",
              "      <th>1741</th>\n",
              "      <td>8</td>\n",
              "    </tr>\n",
              "    <tr>\n",
              "      <th>1742</th>\n",
              "      <td>8</td>\n",
              "    </tr>\n",
              "    <tr>\n",
              "      <th>1743</th>\n",
              "      <td>8</td>\n",
              "    </tr>\n",
              "    <tr>\n",
              "      <th>1744</th>\n",
              "      <td>8</td>\n",
              "    </tr>\n",
              "    <tr>\n",
              "      <th>1745</th>\n",
              "      <td>8</td>\n",
              "    </tr>\n",
              "  </tbody>\n",
              "</table>\n",
              "<p>1746 rows × 1 columns</p>\n",
              "</div>\n",
              "    <div class=\"colab-df-buttons\">\n",
              "\n",
              "  <div class=\"colab-df-container\">\n",
              "    <button class=\"colab-df-convert\" onclick=\"convertToInteractive('df-66a2cdee-38f0-406b-a798-cc69551e7309')\"\n",
              "            title=\"Convert this dataframe to an interactive table.\"\n",
              "            style=\"display:none;\">\n",
              "\n",
              "  <svg xmlns=\"http://www.w3.org/2000/svg\" height=\"24px\" viewBox=\"0 -960 960 960\">\n",
              "    <path d=\"M120-120v-720h720v720H120Zm60-500h600v-160H180v160Zm220 220h160v-160H400v160Zm0 220h160v-160H400v160ZM180-400h160v-160H180v160Zm440 0h160v-160H620v160ZM180-180h160v-160H180v160Zm440 0h160v-160H620v160Z\"/>\n",
              "  </svg>\n",
              "    </button>\n",
              "\n",
              "  <style>\n",
              "    .colab-df-container {\n",
              "      display:flex;\n",
              "      gap: 12px;\n",
              "    }\n",
              "\n",
              "    .colab-df-convert {\n",
              "      background-color: #E8F0FE;\n",
              "      border: none;\n",
              "      border-radius: 50%;\n",
              "      cursor: pointer;\n",
              "      display: none;\n",
              "      fill: #1967D2;\n",
              "      height: 32px;\n",
              "      padding: 0 0 0 0;\n",
              "      width: 32px;\n",
              "    }\n",
              "\n",
              "    .colab-df-convert:hover {\n",
              "      background-color: #E2EBFA;\n",
              "      box-shadow: 0px 1px 2px rgba(60, 64, 67, 0.3), 0px 1px 3px 1px rgba(60, 64, 67, 0.15);\n",
              "      fill: #174EA6;\n",
              "    }\n",
              "\n",
              "    .colab-df-buttons div {\n",
              "      margin-bottom: 4px;\n",
              "    }\n",
              "\n",
              "    [theme=dark] .colab-df-convert {\n",
              "      background-color: #3B4455;\n",
              "      fill: #D2E3FC;\n",
              "    }\n",
              "\n",
              "    [theme=dark] .colab-df-convert:hover {\n",
              "      background-color: #434B5C;\n",
              "      box-shadow: 0px 1px 3px 1px rgba(0, 0, 0, 0.15);\n",
              "      filter: drop-shadow(0px 1px 2px rgba(0, 0, 0, 0.3));\n",
              "      fill: #FFFFFF;\n",
              "    }\n",
              "  </style>\n",
              "\n",
              "    <script>\n",
              "      const buttonEl =\n",
              "        document.querySelector('#df-66a2cdee-38f0-406b-a798-cc69551e7309 button.colab-df-convert');\n",
              "      buttonEl.style.display =\n",
              "        google.colab.kernel.accessAllowed ? 'block' : 'none';\n",
              "\n",
              "      async function convertToInteractive(key) {\n",
              "        const element = document.querySelector('#df-66a2cdee-38f0-406b-a798-cc69551e7309');\n",
              "        const dataTable =\n",
              "          await google.colab.kernel.invokeFunction('convertToInteractive',\n",
              "                                                    [key], {});\n",
              "        if (!dataTable) return;\n",
              "\n",
              "        const docLinkHtml = 'Like what you see? Visit the ' +\n",
              "          '<a target=\"_blank\" href=https://colab.research.google.com/notebooks/data_table.ipynb>data table notebook</a>'\n",
              "          + ' to learn more about interactive tables.';\n",
              "        element.innerHTML = '';\n",
              "        dataTable['output_type'] = 'display_data';\n",
              "        await google.colab.output.renderOutput(dataTable, element);\n",
              "        const docLink = document.createElement('div');\n",
              "        docLink.innerHTML = docLinkHtml;\n",
              "        element.appendChild(docLink);\n",
              "      }\n",
              "    </script>\n",
              "  </div>\n",
              "\n",
              "\n",
              "<div id=\"df-f79fdefd-0dda-4e0e-af60-033d5a1e0c24\">\n",
              "  <button class=\"colab-df-quickchart\" onclick=\"quickchart('df-f79fdefd-0dda-4e0e-af60-033d5a1e0c24')\"\n",
              "            title=\"Suggest charts\"\n",
              "            style=\"display:none;\">\n",
              "\n",
              "<svg xmlns=\"http://www.w3.org/2000/svg\" height=\"24px\"viewBox=\"0 0 24 24\"\n",
              "     width=\"24px\">\n",
              "    <g>\n",
              "        <path d=\"M19 3H5c-1.1 0-2 .9-2 2v14c0 1.1.9 2 2 2h14c1.1 0 2-.9 2-2V5c0-1.1-.9-2-2-2zM9 17H7v-7h2v7zm4 0h-2V7h2v10zm4 0h-2v-4h2v4z\"/>\n",
              "    </g>\n",
              "</svg>\n",
              "  </button>\n",
              "\n",
              "<style>\n",
              "  .colab-df-quickchart {\n",
              "      --bg-color: #E8F0FE;\n",
              "      --fill-color: #1967D2;\n",
              "      --hover-bg-color: #E2EBFA;\n",
              "      --hover-fill-color: #174EA6;\n",
              "      --disabled-fill-color: #AAA;\n",
              "      --disabled-bg-color: #DDD;\n",
              "  }\n",
              "\n",
              "  [theme=dark] .colab-df-quickchart {\n",
              "      --bg-color: #3B4455;\n",
              "      --fill-color: #D2E3FC;\n",
              "      --hover-bg-color: #434B5C;\n",
              "      --hover-fill-color: #FFFFFF;\n",
              "      --disabled-bg-color: #3B4455;\n",
              "      --disabled-fill-color: #666;\n",
              "  }\n",
              "\n",
              "  .colab-df-quickchart {\n",
              "    background-color: var(--bg-color);\n",
              "    border: none;\n",
              "    border-radius: 50%;\n",
              "    cursor: pointer;\n",
              "    display: none;\n",
              "    fill: var(--fill-color);\n",
              "    height: 32px;\n",
              "    padding: 0;\n",
              "    width: 32px;\n",
              "  }\n",
              "\n",
              "  .colab-df-quickchart:hover {\n",
              "    background-color: var(--hover-bg-color);\n",
              "    box-shadow: 0 1px 2px rgba(60, 64, 67, 0.3), 0 1px 3px 1px rgba(60, 64, 67, 0.15);\n",
              "    fill: var(--button-hover-fill-color);\n",
              "  }\n",
              "\n",
              "  .colab-df-quickchart-complete:disabled,\n",
              "  .colab-df-quickchart-complete:disabled:hover {\n",
              "    background-color: var(--disabled-bg-color);\n",
              "    fill: var(--disabled-fill-color);\n",
              "    box-shadow: none;\n",
              "  }\n",
              "\n",
              "  .colab-df-spinner {\n",
              "    border: 2px solid var(--fill-color);\n",
              "    border-color: transparent;\n",
              "    border-bottom-color: var(--fill-color);\n",
              "    animation:\n",
              "      spin 1s steps(1) infinite;\n",
              "  }\n",
              "\n",
              "  @keyframes spin {\n",
              "    0% {\n",
              "      border-color: transparent;\n",
              "      border-bottom-color: var(--fill-color);\n",
              "      border-left-color: var(--fill-color);\n",
              "    }\n",
              "    20% {\n",
              "      border-color: transparent;\n",
              "      border-left-color: var(--fill-color);\n",
              "      border-top-color: var(--fill-color);\n",
              "    }\n",
              "    30% {\n",
              "      border-color: transparent;\n",
              "      border-left-color: var(--fill-color);\n",
              "      border-top-color: var(--fill-color);\n",
              "      border-right-color: var(--fill-color);\n",
              "    }\n",
              "    40% {\n",
              "      border-color: transparent;\n",
              "      border-right-color: var(--fill-color);\n",
              "      border-top-color: var(--fill-color);\n",
              "    }\n",
              "    60% {\n",
              "      border-color: transparent;\n",
              "      border-right-color: var(--fill-color);\n",
              "    }\n",
              "    80% {\n",
              "      border-color: transparent;\n",
              "      border-right-color: var(--fill-color);\n",
              "      border-bottom-color: var(--fill-color);\n",
              "    }\n",
              "    90% {\n",
              "      border-color: transparent;\n",
              "      border-bottom-color: var(--fill-color);\n",
              "    }\n",
              "  }\n",
              "</style>\n",
              "\n",
              "  <script>\n",
              "    async function quickchart(key) {\n",
              "      const quickchartButtonEl =\n",
              "        document.querySelector('#' + key + ' button');\n",
              "      quickchartButtonEl.disabled = true;  // To prevent multiple clicks.\n",
              "      quickchartButtonEl.classList.add('colab-df-spinner');\n",
              "      try {\n",
              "        const charts = await google.colab.kernel.invokeFunction(\n",
              "            'suggestCharts', [key], {});\n",
              "      } catch (error) {\n",
              "        console.error('Error during call to suggestCharts:', error);\n",
              "      }\n",
              "      quickchartButtonEl.classList.remove('colab-df-spinner');\n",
              "      quickchartButtonEl.classList.add('colab-df-quickchart-complete');\n",
              "    }\n",
              "    (() => {\n",
              "      let quickchartButtonEl =\n",
              "        document.querySelector('#df-f79fdefd-0dda-4e0e-af60-033d5a1e0c24 button');\n",
              "      quickchartButtonEl.style.display =\n",
              "        google.colab.kernel.accessAllowed ? 'block' : 'none';\n",
              "    })();\n",
              "  </script>\n",
              "</div>\n",
              "    </div>\n",
              "  </div>\n"
            ]
          },
          "metadata": {},
          "execution_count": 29
        }
      ]
    },
    {
      "cell_type": "code",
      "source": [
        "df = pd.read_csv('lenta_y.csv')"
      ],
      "metadata": {
        "id": "pajtSqfPV3wC"
      },
      "execution_count": 24,
      "outputs": []
    },
    {
      "cell_type": "markdown",
      "source": [
        "# kommetsant parse\n"
      ],
      "metadata": {
        "id": "yiiP2nL7oiyp"
      }
    },
    {
      "cell_type": "code",
      "source": [
        "def create_webdriver():\n",
        "    opts = FirefoxOptions()\n",
        "    opts.add_argument('window-size=1920x1480')\n",
        "    opts.add_argument('--headless')\n",
        "    return webdriver.Firefox(options=opts)"
      ],
      "metadata": {
        "id": "WQh3erK79IyO"
      },
      "execution_count": 82,
      "outputs": []
    },
    {
      "cell_type": "code",
      "source": [
        "def get_articles_links(tree):\n",
        "    articles = tree.body.main.div.div \\\n",
        "    .find_all('section', attrs={'class': 'main'})\n",
        "    print(len(articles))"
      ],
      "metadata": {
        "id": "m-NmRTC4B23Y"
      },
      "execution_count": 39,
      "outputs": []
    },
    {
      "cell_type": "code",
      "source": [
        "def click_more_button(link, n_pages):\n",
        "    driver = create_webdriver()\n",
        "    driver.get(link)\n",
        "    class_name = 'ui-button ui-button--standart doc_button doc_button--rubric js-archive-more-button'.replace(' ', '.')\n",
        "    for i in range(n_pages):\n",
        "        element = driver.find_element(By.CLASS_NAME, class_name)\n",
        "        print(element.text)\n",
        "        driver.execute_script(\"arguments[0].scrollIntoView();\", element)\n",
        "        # WebDriverWait(driver, 20).until(EC.element_to_be_clickable((By.CLASS_NAME, class_name))).click()\n",
        "        button = WebDriverWait(driver, 20).until(EC.element_to_be_clickable((By.CLASS_NAME, class_name)))\n",
        "\n",
        "        # driver.execute_script(\"arguments[0].click();\", button)\n",
        "        # button = driver.find_element(By.CLASS_NAME, class_name)\n",
        "        button.click()\n",
        "        # element.click()\n",
        "    return driver.page_source"
      ],
      "metadata": {
        "id": "jEKRlOjZ9J4x"
      },
      "execution_count": 136,
      "outputs": []
    },
    {
      "cell_type": "code",
      "source": [
        "n_pages = 1\n",
        "for topic in kommersant_musthave_topics[:1]:\n",
        "    link = kommersant_link + topic\n",
        "    response = click_more_button(link, n_pages)\n",
        "    tree = BeautifulSoup(response)\n",
        "    get_articles_links(tree)\n"
      ],
      "metadata": {
        "id": "rII650-Norhd",
        "outputId": "9821b39d-0ea7-41e3-bf6d-e6d0b0c43085",
        "colab": {
          "base_uri": "https://localhost:8080/",
          "height": 582
        }
      },
      "execution_count": 138,
      "outputs": [
        {
          "output_type": "stream",
          "name": "stdout",
          "text": [
            "Показать еще\n"
          ]
        },
        {
          "output_type": "error",
          "ename": "ElementClickInterceptedException",
          "evalue": "ignored",
          "traceback": [
            "\u001b[0;31m---------------------------------------------------------------------------\u001b[0m",
            "\u001b[0;31mElementClickInterceptedException\u001b[0m          Traceback (most recent call last)",
            "\u001b[0;32m<ipython-input-138-e794ce05b0aa>\u001b[0m in \u001b[0;36m<cell line: 2>\u001b[0;34m()\u001b[0m\n\u001b[1;32m      2\u001b[0m \u001b[0;32mfor\u001b[0m \u001b[0mtopic\u001b[0m \u001b[0;32min\u001b[0m \u001b[0mkommersant_musthave_topics\u001b[0m\u001b[0;34m[\u001b[0m\u001b[0;34m:\u001b[0m\u001b[0;36m1\u001b[0m\u001b[0;34m]\u001b[0m\u001b[0;34m:\u001b[0m\u001b[0;34m\u001b[0m\u001b[0;34m\u001b[0m\u001b[0m\n\u001b[1;32m      3\u001b[0m     \u001b[0mlink\u001b[0m \u001b[0;34m=\u001b[0m \u001b[0mkommersant_link\u001b[0m \u001b[0;34m+\u001b[0m \u001b[0mtopic\u001b[0m\u001b[0;34m\u001b[0m\u001b[0;34m\u001b[0m\u001b[0m\n\u001b[0;32m----> 4\u001b[0;31m     \u001b[0mresponse\u001b[0m \u001b[0;34m=\u001b[0m \u001b[0mclick_more_button\u001b[0m\u001b[0;34m(\u001b[0m\u001b[0mlink\u001b[0m\u001b[0;34m,\u001b[0m \u001b[0mn_pages\u001b[0m\u001b[0;34m)\u001b[0m\u001b[0;34m\u001b[0m\u001b[0;34m\u001b[0m\u001b[0m\n\u001b[0m\u001b[1;32m      5\u001b[0m     \u001b[0mtree\u001b[0m \u001b[0;34m=\u001b[0m \u001b[0mBeautifulSoup\u001b[0m\u001b[0;34m(\u001b[0m\u001b[0mresponse\u001b[0m\u001b[0;34m)\u001b[0m\u001b[0;34m\u001b[0m\u001b[0;34m\u001b[0m\u001b[0m\n\u001b[1;32m      6\u001b[0m     \u001b[0mget_articles_links\u001b[0m\u001b[0;34m(\u001b[0m\u001b[0mtree\u001b[0m\u001b[0;34m)\u001b[0m\u001b[0;34m\u001b[0m\u001b[0;34m\u001b[0m\u001b[0m\n",
            "\u001b[0;32m<ipython-input-136-a2d39bbc2365>\u001b[0m in \u001b[0;36mclick_more_button\u001b[0;34m(link, n_pages)\u001b[0m\n\u001b[1;32m     12\u001b[0m         \u001b[0;31m# driver.execute_script(\"arguments[0].click();\", button)\u001b[0m\u001b[0;34m\u001b[0m\u001b[0;34m\u001b[0m\u001b[0m\n\u001b[1;32m     13\u001b[0m         \u001b[0;31m# button = driver.find_element(By.CLASS_NAME, class_name)\u001b[0m\u001b[0;34m\u001b[0m\u001b[0;34m\u001b[0m\u001b[0m\n\u001b[0;32m---> 14\u001b[0;31m         \u001b[0mbutton\u001b[0m\u001b[0;34m.\u001b[0m\u001b[0mclick\u001b[0m\u001b[0;34m(\u001b[0m\u001b[0;34m)\u001b[0m\u001b[0;34m\u001b[0m\u001b[0;34m\u001b[0m\u001b[0m\n\u001b[0m\u001b[1;32m     15\u001b[0m         \u001b[0;31m# element.click()\u001b[0m\u001b[0;34m\u001b[0m\u001b[0;34m\u001b[0m\u001b[0m\n\u001b[1;32m     16\u001b[0m     \u001b[0;32mreturn\u001b[0m \u001b[0mdriver\u001b[0m\u001b[0;34m.\u001b[0m\u001b[0mpage_source\u001b[0m\u001b[0;34m\u001b[0m\u001b[0;34m\u001b[0m\u001b[0m\n",
            "\u001b[0;32m/usr/local/lib/python3.10/dist-packages/selenium/webdriver/remote/webelement.py\u001b[0m in \u001b[0;36mclick\u001b[0;34m(self)\u001b[0m\n\u001b[1;32m     92\u001b[0m     \u001b[0;32mdef\u001b[0m \u001b[0mclick\u001b[0m\u001b[0;34m(\u001b[0m\u001b[0mself\u001b[0m\u001b[0;34m)\u001b[0m \u001b[0;34m->\u001b[0m \u001b[0;32mNone\u001b[0m\u001b[0;34m:\u001b[0m\u001b[0;34m\u001b[0m\u001b[0;34m\u001b[0m\u001b[0m\n\u001b[1;32m     93\u001b[0m         \u001b[0;34m\"\"\"Clicks the element.\"\"\"\u001b[0m\u001b[0;34m\u001b[0m\u001b[0;34m\u001b[0m\u001b[0m\n\u001b[0;32m---> 94\u001b[0;31m         \u001b[0mself\u001b[0m\u001b[0;34m.\u001b[0m\u001b[0m_execute\u001b[0m\u001b[0;34m(\u001b[0m\u001b[0mCommand\u001b[0m\u001b[0;34m.\u001b[0m\u001b[0mCLICK_ELEMENT\u001b[0m\u001b[0;34m)\u001b[0m\u001b[0;34m\u001b[0m\u001b[0;34m\u001b[0m\u001b[0m\n\u001b[0m\u001b[1;32m     95\u001b[0m \u001b[0;34m\u001b[0m\u001b[0m\n\u001b[1;32m     96\u001b[0m     \u001b[0;32mdef\u001b[0m \u001b[0msubmit\u001b[0m\u001b[0;34m(\u001b[0m\u001b[0mself\u001b[0m\u001b[0;34m)\u001b[0m\u001b[0;34m:\u001b[0m\u001b[0;34m\u001b[0m\u001b[0;34m\u001b[0m\u001b[0m\n",
            "\u001b[0;32m/usr/local/lib/python3.10/dist-packages/selenium/webdriver/remote/webelement.py\u001b[0m in \u001b[0;36m_execute\u001b[0;34m(self, command, params)\u001b[0m\n\u001b[1;32m    393\u001b[0m             \u001b[0mparams\u001b[0m \u001b[0;34m=\u001b[0m \u001b[0;34m{\u001b[0m\u001b[0;34m}\u001b[0m\u001b[0;34m\u001b[0m\u001b[0;34m\u001b[0m\u001b[0m\n\u001b[1;32m    394\u001b[0m         \u001b[0mparams\u001b[0m\u001b[0;34m[\u001b[0m\u001b[0;34m\"id\"\u001b[0m\u001b[0;34m]\u001b[0m \u001b[0;34m=\u001b[0m \u001b[0mself\u001b[0m\u001b[0;34m.\u001b[0m\u001b[0m_id\u001b[0m\u001b[0;34m\u001b[0m\u001b[0;34m\u001b[0m\u001b[0m\n\u001b[0;32m--> 395\u001b[0;31m         \u001b[0;32mreturn\u001b[0m \u001b[0mself\u001b[0m\u001b[0;34m.\u001b[0m\u001b[0m_parent\u001b[0m\u001b[0;34m.\u001b[0m\u001b[0mexecute\u001b[0m\u001b[0;34m(\u001b[0m\u001b[0mcommand\u001b[0m\u001b[0;34m,\u001b[0m \u001b[0mparams\u001b[0m\u001b[0;34m)\u001b[0m\u001b[0;34m\u001b[0m\u001b[0;34m\u001b[0m\u001b[0m\n\u001b[0m\u001b[1;32m    396\u001b[0m \u001b[0;34m\u001b[0m\u001b[0m\n\u001b[1;32m    397\u001b[0m     \u001b[0;32mdef\u001b[0m \u001b[0mfind_element\u001b[0m\u001b[0;34m(\u001b[0m\u001b[0mself\u001b[0m\u001b[0;34m,\u001b[0m \u001b[0mby\u001b[0m\u001b[0;34m=\u001b[0m\u001b[0mBy\u001b[0m\u001b[0;34m.\u001b[0m\u001b[0mID\u001b[0m\u001b[0;34m,\u001b[0m \u001b[0mvalue\u001b[0m\u001b[0;34m=\u001b[0m\u001b[0;32mNone\u001b[0m\u001b[0;34m)\u001b[0m \u001b[0;34m->\u001b[0m \u001b[0mWebElement\u001b[0m\u001b[0;34m:\u001b[0m\u001b[0;34m\u001b[0m\u001b[0;34m\u001b[0m\u001b[0m\n",
            "\u001b[0;32m/usr/local/lib/python3.10/dist-packages/selenium/webdriver/remote/webdriver.py\u001b[0m in \u001b[0;36mexecute\u001b[0;34m(self, driver_command, params)\u001b[0m\n\u001b[1;32m    346\u001b[0m         \u001b[0mresponse\u001b[0m \u001b[0;34m=\u001b[0m \u001b[0mself\u001b[0m\u001b[0;34m.\u001b[0m\u001b[0mcommand_executor\u001b[0m\u001b[0;34m.\u001b[0m\u001b[0mexecute\u001b[0m\u001b[0;34m(\u001b[0m\u001b[0mdriver_command\u001b[0m\u001b[0;34m,\u001b[0m \u001b[0mparams\u001b[0m\u001b[0;34m)\u001b[0m\u001b[0;34m\u001b[0m\u001b[0;34m\u001b[0m\u001b[0m\n\u001b[1;32m    347\u001b[0m         \u001b[0;32mif\u001b[0m \u001b[0mresponse\u001b[0m\u001b[0;34m:\u001b[0m\u001b[0;34m\u001b[0m\u001b[0;34m\u001b[0m\u001b[0m\n\u001b[0;32m--> 348\u001b[0;31m             \u001b[0mself\u001b[0m\u001b[0;34m.\u001b[0m\u001b[0merror_handler\u001b[0m\u001b[0;34m.\u001b[0m\u001b[0mcheck_response\u001b[0m\u001b[0;34m(\u001b[0m\u001b[0mresponse\u001b[0m\u001b[0;34m)\u001b[0m\u001b[0;34m\u001b[0m\u001b[0;34m\u001b[0m\u001b[0m\n\u001b[0m\u001b[1;32m    349\u001b[0m             \u001b[0mresponse\u001b[0m\u001b[0;34m[\u001b[0m\u001b[0;34m\"value\"\u001b[0m\u001b[0;34m]\u001b[0m \u001b[0;34m=\u001b[0m \u001b[0mself\u001b[0m\u001b[0;34m.\u001b[0m\u001b[0m_unwrap_value\u001b[0m\u001b[0;34m(\u001b[0m\u001b[0mresponse\u001b[0m\u001b[0;34m.\u001b[0m\u001b[0mget\u001b[0m\u001b[0;34m(\u001b[0m\u001b[0;34m\"value\"\u001b[0m\u001b[0;34m,\u001b[0m \u001b[0;32mNone\u001b[0m\u001b[0;34m)\u001b[0m\u001b[0;34m)\u001b[0m\u001b[0;34m\u001b[0m\u001b[0;34m\u001b[0m\u001b[0m\n\u001b[1;32m    350\u001b[0m             \u001b[0;32mreturn\u001b[0m \u001b[0mresponse\u001b[0m\u001b[0;34m\u001b[0m\u001b[0;34m\u001b[0m\u001b[0m\n",
            "\u001b[0;32m/usr/local/lib/python3.10/dist-packages/selenium/webdriver/remote/errorhandler.py\u001b[0m in \u001b[0;36mcheck_response\u001b[0;34m(self, response)\u001b[0m\n\u001b[1;32m    227\u001b[0m                 \u001b[0malert_text\u001b[0m \u001b[0;34m=\u001b[0m \u001b[0mvalue\u001b[0m\u001b[0;34m[\u001b[0m\u001b[0;34m\"alert\"\u001b[0m\u001b[0;34m]\u001b[0m\u001b[0;34m.\u001b[0m\u001b[0mget\u001b[0m\u001b[0;34m(\u001b[0m\u001b[0;34m\"text\"\u001b[0m\u001b[0;34m)\u001b[0m\u001b[0;34m\u001b[0m\u001b[0;34m\u001b[0m\u001b[0m\n\u001b[1;32m    228\u001b[0m             \u001b[0;32mraise\u001b[0m \u001b[0mexception_class\u001b[0m\u001b[0;34m(\u001b[0m\u001b[0mmessage\u001b[0m\u001b[0;34m,\u001b[0m \u001b[0mscreen\u001b[0m\u001b[0;34m,\u001b[0m \u001b[0mstacktrace\u001b[0m\u001b[0;34m,\u001b[0m \u001b[0malert_text\u001b[0m\u001b[0;34m)\u001b[0m  \u001b[0;31m# type: ignore[call-arg]  # mypy is not smart enough here\u001b[0m\u001b[0;34m\u001b[0m\u001b[0;34m\u001b[0m\u001b[0m\n\u001b[0;32m--> 229\u001b[0;31m         \u001b[0;32mraise\u001b[0m \u001b[0mexception_class\u001b[0m\u001b[0;34m(\u001b[0m\u001b[0mmessage\u001b[0m\u001b[0;34m,\u001b[0m \u001b[0mscreen\u001b[0m\u001b[0;34m,\u001b[0m \u001b[0mstacktrace\u001b[0m\u001b[0;34m)\u001b[0m\u001b[0;34m\u001b[0m\u001b[0;34m\u001b[0m\u001b[0m\n\u001b[0m",
            "\u001b[0;31mElementClickInterceptedException\u001b[0m: Message: Element <button class=\"ui-button ui-button--standart doc_button doc_button--rubric js-archive-more-button\" type=\"button\"> is not clickable at point (502,18) because another element <div class=\"main_header__content\"> obscures it\nStacktrace:\nRemoteError@chrome://remote/content/shared/RemoteError.sys.mjs:8:8\nWebDriverError@chrome://remote/content/shared/webdriver/Errors.sys.mjs:189:5\nElementClickInterceptedError@chrome://remote/content/shared/webdriver/Errors.sys.mjs:333:5\nwebdriverClickElement@chrome://remote/content/marionette/interaction.sys.mjs:176:11\ninteraction.clickElement@chrome://remote/content/marionette/interaction.sys.mjs:135:11\nclickElement@chrome://remote/content/marionette/actors/MarionetteCommandsChild.sys.mjs:204:29\nreceiveMessage@chrome://remote/content/marionette/actors/MarionetteCommandsChild.sys.mjs:84:31\n"
          ]
        }
      ]
    },
    {
      "cell_type": "markdown",
      "source": [
        "# ML fucking shiiiiiiiit"
      ],
      "metadata": {
        "id": "qO9RJaCbTy5H"
      }
    },
    {
      "cell_type": "code",
      "source": [
        "lenta_X = pd.read_csv('lenta_X.csv')\n",
        "rbc_X = pd.read_csv('rbc_X.csv')\n",
        "lenta_y = pd.read_csv('lenta_y.csv')\n",
        "rbc_y = pd.read_csv('rbc_y.csv')\n",
        "X_dfs = [lenta_X, rbc_X]\n",
        "y_dfs = [lenta_y, rbc_y]\n",
        "\n",
        "X = pd.concat(X_dfs, ignore_index=True)\n",
        "y = pd.concat(y_dfs, ignore_index=True)"
      ],
      "metadata": {
        "id": "eMTZoQKCTfwu"
      },
      "execution_count": 59,
      "outputs": []
    },
    {
      "cell_type": "code",
      "source": [
        "series_X = X.iloc[:, 0]\n",
        "series_y = y.iloc[:, 0]\n",
        "series_X.isna().sum()"
      ],
      "metadata": {
        "id": "4ppo6r9QIckO",
        "outputId": "42124353-8169-45d0-8aac-095586a1e570",
        "colab": {
          "base_uri": "https://localhost:8080/"
        }
      },
      "execution_count": 60,
      "outputs": [
        {
          "output_type": "execute_result",
          "data": {
            "text/plain": [
              "2"
            ]
          },
          "metadata": {},
          "execution_count": 60
        }
      ]
    },
    {
      "cell_type": "code",
      "source": [
        "nans = series_X[series_X.isna()].index\n",
        "new_X = series_X.drop(nans)\n",
        "new_y = series_y.drop(nans)"
      ],
      "metadata": {
        "id": "i5cX8vRRFw0H"
      },
      "execution_count": 61,
      "outputs": []
    },
    {
      "cell_type": "code",
      "source": [
        "new_y.value_counts()"
      ],
      "metadata": {
        "id": "dBMdo77eKgU_",
        "outputId": "ed77d3a2-2265-4a36-ab75-339851f12f5e",
        "colab": {
          "base_uri": "https://localhost:8080/"
        }
      },
      "execution_count": 62,
      "outputs": [
        {
          "output_type": "execute_result",
          "data": {
            "text/plain": [
              "0    797\n",
              "8    330\n",
              "4    217\n",
              "1    200\n",
              "3    180\n",
              "5    150\n",
              "7    150\n",
              "2    120\n",
              "Name: topic, dtype: int64"
            ]
          },
          "metadata": {},
          "execution_count": 62
        }
      ]
    },
    {
      "cell_type": "code",
      "source": [
        "from sklearn.model_selection import train_test_split\n",
        "\n",
        "X_train, X_test, y_train, y_test = train_test_split(new_X, new_y, test_size=0.2, random_state=42)\n",
        "\n",
        "X_train.shape, X_test.shape"
      ],
      "metadata": {
        "id": "YUDGKS0VQFFE",
        "outputId": "9237c2c3-c79f-4e6e-cfb6-2482a0a345ed",
        "colab": {
          "base_uri": "https://localhost:8080/"
        }
      },
      "execution_count": 63,
      "outputs": [
        {
          "output_type": "execute_result",
          "data": {
            "text/plain": [
              "((1715,), (429,))"
            ]
          },
          "metadata": {},
          "execution_count": 63
        }
      ]
    },
    {
      "cell_type": "code",
      "source": [
        "from sklearn.feature_extraction.text import TfidfVectorizer\n",
        "\n",
        "tfidf = TfidfVectorizer(ngram_range=(1, 2), max_df=0.80, min_df=0.01)\n",
        "tfidf.fit(X_train)\n",
        "\n",
        "trans_train = tfidf.transform(X_train)\n",
        "trans_test = tfidf.transform(X_test)\n",
        "print(trans_train.shape)"
      ],
      "metadata": {
        "id": "RqiERmi-PCS4",
        "outputId": "0e6b60bf-d391-4813-b63c-576dc5d4bfb5",
        "colab": {
          "base_uri": "https://localhost:8080/"
        }
      },
      "execution_count": 175,
      "outputs": [
        {
          "output_type": "stream",
          "name": "stdout",
          "text": [
            "(1715, 3114)\n"
          ]
        }
      ]
    },
    {
      "cell_type": "code",
      "source": [
        "from sklearn.linear_model import LogisticRegression\n",
        "\n",
        "lr_tf_idf = LogisticRegression()\n",
        "lr_tf_idf.fit(trans_train, y_train)\n",
        "\n",
        "lr_train_pred = lr_tf_idf.predict(trans_train)\n",
        "lr_test_pred = lr_tf_idf.predict(trans_test)\n",
        "\n",
        "accuracy_score(y_train, lr_train_pred), accuracy_score(y_test, lr_test_pred)"
      ],
      "metadata": {
        "id": "OO7Uu_VPRmR5",
        "outputId": "050a808f-9d7d-41ec-8799-68fdcb69c0a1",
        "colab": {
          "base_uri": "https://localhost:8080/"
        }
      },
      "execution_count": 176,
      "outputs": [
        {
          "output_type": "execute_result",
          "data": {
            "text/plain": [
              "(0.9399416909620991, 0.8601398601398601)"
            ]
          },
          "metadata": {},
          "execution_count": 176
        }
      ]
    },
    {
      "cell_type": "code",
      "source": [
        "# переделать это пиздец говнокод\n",
        "def get_max(arr):\n",
        "    arr = list(arr)\n",
        "    ans = []\n",
        "    for i in arr:\n",
        "      i = list(i)\n",
        "      ans.append(i.index(max(i)))\n",
        "    return ans"
      ],
      "metadata": {
        "id": "ruq9d2i8hvsJ",
        "outputId": "cf0038aa-a042-437a-fdd3-2d4fc6958472",
        "colab": {
          "base_uri": "https://localhost:8080/"
        }
      },
      "execution_count": 112,
      "outputs": [
        {
          "output_type": "execute_result",
          "data": {
            "text/plain": [
              "[1, 0, 1]"
            ]
          },
          "metadata": {},
          "execution_count": 112
        }
      ]
    },
    {
      "cell_type": "code",
      "source": [
        "# from sklearn.ensemble import GradientBoostingClassifier\n",
        "\n",
        "# gbc_tf_idf = GradientBoostingClassifier(n_estimators=100, learning_rate=0.35)\n",
        "\n",
        "# gbc_tf_idf.fit(trans_train, y_train)\n",
        "# gbc_train_pred = gbc_tf_idf.predict_proba(trans_train)\n",
        "# gbc_test_pred = gbc_tf_idf.predict_proba(trans_test)\n",
        "\n",
        "# accuracy_score(y_train, get_max(gbc_train_pred)), accuracy_score(y_test, get_max(gbc_test_pred))"
      ],
      "metadata": {
        "id": "rzgEr3dPLgkr",
        "outputId": "74a6d6bd-d1ab-40b9-dc13-4c16fced897b",
        "colab": {
          "base_uri": "https://localhost:8080/"
        }
      },
      "execution_count": 113,
      "outputs": [
        {
          "output_type": "execute_result",
          "data": {
            "text/plain": [
              "(0.7807580174927113, 0.627039627039627)"
            ]
          },
          "metadata": {},
          "execution_count": 113
        }
      ]
    },
    {
      "cell_type": "code",
      "source": [
        "y_test[y_test==7] = 6\n",
        "y_test[y_test==8] = 7\n",
        "y_test.value_counts()"
      ],
      "metadata": {
        "id": "ppf4bcZiksKH",
        "outputId": "d7896c11-1968-4d04-d0ed-69cec1402f64",
        "colab": {
          "base_uri": "https://localhost:8080/"
        }
      },
      "execution_count": 130,
      "outputs": [
        {
          "output_type": "execute_result",
          "data": {
            "text/plain": [
              "0    168\n",
              "7     74\n",
              "1     42\n",
              "4     40\n",
              "6     31\n",
              "3     30\n",
              "5     25\n",
              "2     19\n",
              "Name: topic, dtype: int64"
            ]
          },
          "metadata": {},
          "execution_count": 130
        }
      ]
    },
    {
      "cell_type": "code",
      "source": [
        "# from xgboost import XGBClassifier\n",
        "\n",
        "# xgb_tf_idf = XGBClassifier(random_state=200, eta = 0.11, max_depth = 4, n_estimators=30)\n",
        "# xgb_tf_idf.fit(trans_train, y_train)\n",
        "# xgb_train_pred = xgb_tf_idf.predict_proba(trans_train)\n",
        "# xgb_test_pred = xgb_tf_idf.predict_proba(trans_test)\n",
        "\n",
        "# accuracy_score(y_train, get_max(xgb_train_pred)), accuracy_score(y_test, get_max(xgb_test_pred))"
      ],
      "metadata": {
        "id": "1CKBiAt8j8NG",
        "outputId": "c9ec3c13-a710-44c5-f5b9-abc80d97e921",
        "colab": {
          "base_uri": "https://localhost:8080/"
        }
      },
      "execution_count": 137,
      "outputs": [
        {
          "output_type": "execute_result",
          "data": {
            "text/plain": [
              "(0.8956268221574344, 0.7412587412587412)"
            ]
          },
          "metadata": {},
          "execution_count": 137
        }
      ]
    },
    {
      "cell_type": "code",
      "source": [
        "from gensim.models import Word2Vec\n",
        "\n",
        "sent = [row.split() for row in X_train[0]]\n",
        "\n",
        "HIDDEN = 100\n",
        "\n",
        "model = Word2Vec(min_count=20,\n",
        "                     window=2,\n",
        "                     vector_size=HIDDEN,\n",
        "                     sample=6e-5,\n",
        "                     alpha=0.03,\n",
        "                     min_alpha=0.0007,\n",
        "                     negative=20,\n",
        "                     workers=2)\n",
        "model.build_vocab(sent, progress_per=10000)\n",
        "model.train(sent, total_examples=model.corpus_count, epochs=30, report_delay=1)"
      ],
      "metadata": {
        "id": "6o2-2AEooWpX"
      },
      "execution_count": null,
      "outputs": []
    }
  ]
}